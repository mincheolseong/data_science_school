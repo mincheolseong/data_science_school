{
 "cells": [
  {
   "cell_type": "code",
   "execution_count": 10,
   "metadata": {},
   "outputs": [
    {
     "name": "stdout",
     "output_type": "stream",
     "text": [
      "200\n",
      "10\n",
      "20\n",
      "200\n"
     ]
    }
   ],
   "source": [
    "class Rectangle(object):\n",
    "\n",
    "    def __init__(self, h, v):\n",
    "        self.h = h\n",
    "        self.v = v\n",
    "\n",
    "    def area(self):\n",
    "        return self.h * self.v\n",
    "r = Rectangle(10, 20)\n",
    "a = r.area()\n",
    "print(a)\n",
    "print(r.h)\n",
    "print(r.v)\n",
    "print(r.area())"
   ]
  },
  {
   "cell_type": "code",
   "execution_count": 12,
   "metadata": {},
   "outputs": [
    {
     "name": "stdout",
     "output_type": "stream",
     "text": [
      "1\n",
      "2\n",
      "8\n",
      "18\n",
      "40\n"
     ]
    }
   ],
   "source": [
    "#클래스\n",
    "a = Rectangle(1, 1)   # 가로 1, 세로 1인 사각형\n",
    "b = Rectangle(2, 1)   # 가로 2, 세로 1인 사각형\n",
    "c = Rectangle(4, 2)   # 가로 4, 세로 2인 사각형\n",
    "d = Rectangle(6, 3)   # 가로 6, 세로 3인 사각형\n",
    "e = Rectangle(8, 5)   # 가로 8, 세로 5인 사각형\n",
    "print(a.area())\n",
    "print(b.area())\n",
    "print(c.area())\n",
    "print(d.area())\n",
    "print(e.area())"
   ]
  },
  {
   "cell_type": "code",
   "execution_count": 29,
   "metadata": {},
   "outputs": [
    {
     "name": "stdout",
     "output_type": "stream",
     "text": [
      "100.0\n"
     ]
    }
   ],
   "source": [
    "#연습 문제 2.12.1\n",
    "class triangle(object):\n",
    "    \n",
    "    def __init__(self, b ,h):\n",
    "        self.b = b\n",
    "        self.h = h\n",
    "        \n",
    "    def area(self):\n",
    "        return 0.5 * self.b * self.h\n",
    "r = triangle(10, 20)\n",
    "a = r.area()\n",
    "print(a)"
   ]
  },
  {
   "cell_type": "code",
   "execution_count": 36,
   "metadata": {},
   "outputs": [
    {
     "name": "stdout",
     "output_type": "stream",
     "text": [
      "V= 24\n",
      "S= 52\n"
     ]
    }
   ],
   "source": [
    "#연습 문제 2.12.2\n",
    "class column(object):\n",
    "    \n",
    "    def __init__(self, a, b, h):\n",
    "        self.a = a\n",
    "        self.b = b\n",
    "        self.h = h\n",
    "        \n",
    "    def volume(self):\n",
    "        return self.a * self.b * self.h\n",
    "    \n",
    "    def surface(self):\n",
    "        return 2 * self.a * self.b +  self.h * (2 * self.a + 2 * self.b)\n",
    "    \n",
    "r = column(2,3,4)\n",
    "V = r.volume()\n",
    "S = r.surface()\n",
    "print(\"V=\",V)\n",
    "print(\"S=\",S)"
   ]
  },
  {
   "cell_type": "code",
   "execution_count": 59,
   "metadata": {},
   "outputs": [
    {
     "name": "stdout",
     "output_type": "stream",
     "text": [
      "공격받음! 생명력 =  990\n"
     ]
    }
   ],
   "source": [
    "#게임 캐릭터와 객체\n",
    "class Character(object):\n",
    "    \n",
    "    def __init__(self):\n",
    "        self.life = 1000\n",
    "        \n",
    "    def attacked(self):\n",
    "        self.life = self.life - 10\n",
    "        print(\"공격받음! 생명력 = \", self.life)\n",
    "        \n",
    "a = Character()\n",
    "b = Character()\n",
    "c = Character()\n",
    "\n",
    "#클래스 상속\n",
    "class warrior(Character):\n",
    "    def __init__(self):\n",
    "        super(warrior, self).__init__() #부모클래스의 self.life 호출\n",
    "        self.strength = 15\n",
    "        self.inteligence = 5\n",
    "        \n",
    "class wizard(Character):\n",
    "    def __init__(self):\n",
    "        super(wizard, self).__init__() #부모클래스의 self.life 호출\n",
    "        self.strength = 5\n",
    "        self.inteligence = 15\n",
    "\n",
    "d = warrior()\n",
    "e = wizard()\n",
    "\n",
    "d.attacked()"
   ]
  },
  {
   "cell_type": "code",
   "execution_count": 64,
   "metadata": {},
   "outputs": [
    {
     "data": {
      "text/plain": [
       "(10, 5, 15)"
      ]
     },
     "execution_count": 64,
     "metadata": {},
     "output_type": "execute_result"
    }
   ],
   "source": [
    "#메서드 오버라이딩 mothod overriding\n",
    "class Character(object):\n",
    "    def __init__(self):\n",
    "        self.life = 1000\n",
    "        self.strength = 10\n",
    "        self.inteligence = 10\n",
    "    \n",
    "    def attacked(self):\n",
    "        self.life -= 10\n",
    "        print(\"공격받음! 생명력 = \", self.life)\n",
    "    \n",
    "    def attack(self):\n",
    "        print(\"공격!\")\n",
    "\n",
    "        \n",
    "class warrior(Character):\n",
    "    \n",
    "    def __init__(self):\n",
    "        super(warrior, self).__init__()\n",
    "        self.strength = 15\n",
    "        self.inteligence = 5\n",
    "        \n",
    "    def attack(self):\n",
    "        print(\"육탄 공격!\")\n",
    "        \n",
    "\n",
    "class wizard(Character):\n",
    "    \n",
    "    def __init__(self):\n",
    "        super(wizard, self).__init__()\n",
    "        self.strength = 5\n",
    "        self.inteligence = 15\n",
    "        \n",
    "    def attack(self):\n",
    "        print(\"마법 공격!\")\n",
    "        \n",
    "a = Character()\n",
    "b = warrior()\n",
    "c = wizard()\n",
    "\n",
    "\n",
    "a.inteligence, b.inteligence, c.inteligence"
   ]
  },
  {
   "cell_type": "code",
   "execution_count": 65,
   "metadata": {},
   "outputs": [
    {
     "name": "stdout",
     "output_type": "stream",
     "text": [
      "공격받음! 생명력 =  990\n",
      "공격받음! 생명력 =  995\n",
      "공격받음! 생명력 =  985\n"
     ]
    },
    {
     "data": {
      "text/plain": [
       "(None, None, None)"
      ]
     },
     "execution_count": 65,
     "metadata": {},
     "output_type": "execute_result"
    }
   ],
   "source": [
    "# 연습 문제 2.12.3\n",
    "class Character(object):\n",
    "    def __init__(self):\n",
    "        self.life = 1000\n",
    "        self.strength = 10\n",
    "        self.inteligence = 10\n",
    "    \n",
    "    def attacked(self):\n",
    "        self.life -= 10\n",
    "        print(\"공격받음! 생명력 = \", self.life)\n",
    "    \n",
    "    def attack(self):\n",
    "        print(\"공격!\")\n",
    "\n",
    "        \n",
    "class warrior(Character):\n",
    "    \n",
    "    def __init__(self):\n",
    "        super(warrior, self).__init__()\n",
    "        self.strength = 15\n",
    "        self.inteligence = 5\n",
    "        \n",
    "    def attack(self):\n",
    "        print(\"육탄 공격!\")\n",
    "        \n",
    "    def attacked(self):\n",
    "        self.life -= 5\n",
    "        print(\"공격받음! 생명력 = \", self.life)\n",
    "\n",
    "class wizard(Character):\n",
    "    \n",
    "    def __init__(self):\n",
    "        super(wizard, self).__init__()\n",
    "        self.strength = 5\n",
    "        self.inteligence = 15\n",
    "        \n",
    "    def attack(self):\n",
    "        print(\"마법 공격!\")\n",
    "\n",
    "    def attacked(self):\n",
    "        self.life -= 15\n",
    "        print(\"공격받음! 생명력 = \", self.life)\n",
    "        \n",
    "a = Character()\n",
    "b = warrior()\n",
    "c = wizard()\n",
    "\n",
    "a.attacked(), b.attacked(), c.attacked()"
   ]
  },
  {
   "cell_type": "code",
   "execution_count": 100,
   "metadata": {
    "scrolled": true
   },
   "outputs": [
    {
     "name": "stdout",
     "output_type": "stream",
     "text": [
      "현재 속도 =  20\n",
      "현재 속도 =  40\n",
      "현재 속도 =  60\n",
      "현재 속도 =  80\n",
      "현재 속도 =  100\n",
      "현재 속도 =  120\n",
      "현재 속도 =  140\n",
      "현재 속도 =  160\n",
      "현재 속도 =  160\n",
      "현재 속도 =  160\n",
      "현재 속도 =  160\n"
     ]
    }
   ],
   "source": [
    "#연습 문제 2.12.4\n",
    "\n",
    "class Car(object):\n",
    "    def __init__(self, max_speed, speed):\n",
    "        self.max_speed = max_speed\n",
    "        self.speed = speed\n",
    "        \n",
    "    def speed_up(self):\n",
    "        self.speed += 20\n",
    "        if self.speed > 160: #최대속도 160 제한\n",
    "            self.speed = 160\n",
    "        print(\"현재 속도 = \", self.speed)\n",
    "        \n",
    "    def speed_down(self):\n",
    "        self.speed -= 20\n",
    "        if self.speed < 0: #최저속도 0 제한\n",
    "            self.speed = 0\n",
    "        print(\"현재 속도 = \", self.speed)\n",
    "        \n",
    "    \n",
    "r = Car(160, 0)\n",
    "r.speed_up()\n",
    "r.speed_up()\n",
    "r.speed_up()\n",
    "r.speed_up()\n",
    "r.speed_up()\n",
    "r.speed_up()\n",
    "r.speed_up()\n",
    "r.speed_up()\n",
    "r.speed_up()\n",
    "r.speed_up()\n",
    "r.speed_up()\n"
   ]
  },
  {
   "cell_type": "code",
   "execution_count": 131,
   "metadata": {},
   "outputs": [],
   "source": [
    "#연습 문제 2.12.5\n",
    "class Car(object):\n",
    "    def __init__(self, max_speed, speed):\n",
    "        self.max_speed = max_speed\n",
    "        self.speed = speed\n",
    "        \n",
    "    def speed_up(self):\n",
    "        self.speed += 20\n",
    "        if self.speed > 160: #최대속도 160 제한\n",
    "            self.speed = 160\n",
    "        print(\"현재 속도 = \", self.speed)\n",
    "        \n",
    "    def speed_down(self):\n",
    "        self.speed -= 20\n",
    "        if self.speed < 0: #최저속도 0 제한\n",
    "            self.speed = 0\n",
    "        print(\"현재 속도 = \", self.speed)\n",
    "        \n",
    "class SportCar(Car):\n",
    "    def __init__(self, max_speed, speed):\n",
    "        super(SportCar, self).__init__(max_speed, speed)\n",
    "        \n",
    "    def speed_up(self):\n",
    "        self.speed += 45\n",
    "        if self.speed > 200:\n",
    "            self.speed = 200\n",
    "        print(\"현재 속도 = \", self.speed)\n",
    "        \n",
    "    def speed_down(self):\n",
    "        self.speed -= 45\n",
    "        if self.speed < 0:\n",
    "            self.speed = 0\n",
    "        print(\"현재 속도 = \", self.speed)      \n",
    "        \n",
    "class Truck(Car):\n",
    "    def __init__(self, max_speed, speed):\n",
    "        super(Truck, self).__init__(max_speed, speed)\n",
    "        \n",
    "    def speed_up(self):\n",
    "        self.speed += 15\n",
    "        if self.speed > 100:\n",
    "            self.speed = 100\n",
    "        print(\"현재 속도 = \", self.speed)\n",
    "        \n",
    "    def speed_down(self):\n",
    "        self.speed -= 15\n",
    "        if self.speed < 0:\n",
    "            self.speed = 0\n",
    "        print(\"현재 속도 = \", self.speed)      \n",
    "        \n",
    "a = Car(160, 0)\n",
    "b = SportCar(200, 0)\n",
    "c = Truck(100, 0)"
   ]
  },
  {
   "cell_type": "code",
   "execution_count": 167,
   "metadata": {},
   "outputs": [
    {
     "data": {
      "text/plain": [
       "<__main__.Complex at 0x234b0affcc8>"
      ]
     },
     "execution_count": 167,
     "metadata": {},
     "output_type": "execute_result"
    }
   ],
   "source": [
    "#특수 메서드 special method\n",
    "class Complex(object):\n",
    "    def __init__(self, realpart, imagpart):\n",
    "        self.r = realpart\n",
    "        self.i = imagpart\n",
    "#__repr__을 정의하지 않으면 object클래스가 가진 기본 __repr__메서드 사용\n",
    "c = Complex(1, 2)\n",
    "c"
   ]
  },
  {
   "cell_type": "code",
   "execution_count": 175,
   "metadata": {},
   "outputs": [
    {
     "data": {
      "text/plain": [
       "'[for str] Complex: real = 3.000000 imag = 2.000000'"
      ]
     },
     "execution_count": 175,
     "metadata": {},
     "output_type": "execute_result"
    }
   ],
   "source": [
    "class Complex2(Complex):\n",
    "    \n",
    "    def __repr__(self):\n",
    "        return \"Complex: real = %f imag = %f\" % (self.r, self.i)\n",
    "    \n",
    "    def __str__(self):\n",
    "        return \"[for str] \" + self.__repr__()\n",
    "        \n",
    "c2 = Complex2(3, 2)\n",
    "c2\n",
    "str(c2)"
   ]
  },
  {
   "cell_type": "code",
   "execution_count": 153,
   "metadata": {},
   "outputs": [
    {
     "data": {
      "text/plain": [
       "1"
      ]
     },
     "execution_count": 153,
     "metadata": {},
     "output_type": "execute_result"
    }
   ],
   "source": [
    "# __getitem__ method 정의\n",
    "class Complex3(Complex2):\n",
    "    def __getitem__(self,key):\n",
    "        if key == \"r\":\n",
    "            return self.r\n",
    "        if key == \"i\":\n",
    "            return self.i\n",
    "\n",
    "c3 = Complex3(1,2)\n",
    "c3[\"r\"]"
   ]
  },
  {
   "cell_type": "code",
   "execution_count": 221,
   "metadata": {},
   "outputs": [
    {
     "data": {
      "text/plain": [
       "Name is Mike ID is 13867"
      ]
     },
     "execution_count": 221,
     "metadata": {},
     "output_type": "execute_result"
    }
   ],
   "source": [
    "#연습 문제 2.12.6\n",
    "class Grade(object):\n",
    "    def __init__(self, ID, name, math, english):\n",
    "        self.I = ID\n",
    "        self.n = str(name)\n",
    "        self.m = math\n",
    "        self.e = english\n",
    "        \n",
    "    def average(self):\n",
    "        average = (math + english) / 2\n",
    "        \n",
    "class Grade2(Grade):\n",
    "    \n",
    "    def __repr__(self):\n",
    "        return \"Name is %s ID is %d\" % (self.n, self.I)\n",
    "    \n",
    "    def __str__(self):\n",
    "        return \"for name is \" + self.n\n",
    "    \n",
    "class Grade3(Grade2):\n",
    "    def __repr__(self):\n",
    "        return 'obj[\"%d\"], obj[\"%d\"]' % (self.m, self.e)\n",
    "\n",
    "f = Grade2(13867, \"Mike\", 3, 4)    \n",
    "g = Grade3(13867, \"Mike\", 3, 4)\n",
    "f"
   ]
  },
  {
   "cell_type": "code",
   "execution_count": null,
   "metadata": {},
   "outputs": [],
   "source": []
  }
 ],
 "metadata": {
  "kernelspec": {
   "display_name": "Python 3",
   "language": "python",
   "name": "python3"
  },
  "language_info": {
   "codemirror_mode": {
    "name": "ipython",
    "version": 3
   },
   "file_extension": ".py",
   "mimetype": "text/x-python",
   "name": "python",
   "nbconvert_exporter": "python",
   "pygments_lexer": "ipython3",
   "version": "3.7.9"
  }
 },
 "nbformat": 4,
 "nbformat_minor": 4
}
