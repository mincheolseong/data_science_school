{
 "cells": [
  {
   "cell_type": "code",
   "execution_count": 1,
   "metadata": {},
   "outputs": [],
   "source": [
    "# datetime package : datetime클래스(날짜, 시간 함께 저장), date클래스(날짜만), time클래스(시간만), timedelta(시간 구간 정보)\n",
    "import datetime"
   ]
  },
  {
   "cell_type": "code",
   "execution_count": 5,
   "metadata": {},
   "outputs": [
    {
     "data": {
      "text/plain": [
       "datetime.datetime(2020, 7, 8, 19, 15, 2, 698508)"
      ]
     },
     "execution_count": 5,
     "metadata": {},
     "output_type": "execute_result"
    }
   ],
   "source": [
    "#datetime.datetime class : 클래스 메서드(객체 생성없이 바로 클래스에서 생성 가능) 예를 들어, 현재 시각 출력하는 now()\n",
    "dt = datetime.datetime.now()\n",
    "dt"
   ]
  },
  {
   "cell_type": "code",
   "execution_count": 7,
   "metadata": {},
   "outputs": [
    {
     "data": {
      "text/plain": [
       "(2020, 7, 8, 19, 15, 2, 698508)"
      ]
     },
     "execution_count": 7,
     "metadata": {},
     "output_type": "execute_result"
    }
   ],
   "source": [
    "#not() : 컴퓨터 현재 시각을 datetime.datetime class 객체로 만들어 반환\n",
    "(dt.year, dt.month, dt.day, dt.hour, dt. minute, dt.second, dt.microsecond)"
   ]
  },
  {
   "cell_type": "code",
   "execution_count": 14,
   "metadata": {},
   "outputs": [
    {
     "data": {
      "text/plain": [
       "datetime.date(2020, 7, 8)"
      ]
     },
     "execution_count": 14,
     "metadata": {},
     "output_type": "execute_result"
    }
   ],
   "source": [
    "#weekday() : 요일 반환(0:월, 1:화, 2:수, ...)\n",
    "#strftime() : 문자열 반환\n",
    "#date() : 날짜정보만가지는 datetime.date 클래스 객체 반환\n",
    "#time() : 시간정보만 가지는 datetime.time 클래스 객체 반환\n",
    "dt.date()"
   ]
  },
  {
   "cell_type": "code",
   "execution_count": 15,
   "metadata": {
    "scrolled": true
   },
   "outputs": [
    {
     "data": {
      "text/plain": [
       "'Wednesday 08. July 2020'"
      ]
     },
     "execution_count": 15,
     "metadata": {},
     "output_type": "execute_result"
    }
   ],
   "source": [
    "#strftime : 형식문자열(어떤 형식으로 문자열 만들지 결정)을 인수로 받음\n",
    "#%Y\t앞의 빈자리를 0으로 채우는 4자리 연도 숫자\n",
    "#%m\t앞의 빈자리를 0으로 채우는 2자리 월 숫자\n",
    "#%d\t앞의 빈자리를 0으로 채우는 2자리 일 숫자\n",
    "#%H\t앞의 빈자리를 0으로 채우는 24시간 형식 2자리 시간 숫자\n",
    "#%M\t앞의 빈자리를 0으로 채우는 2자리 분 숫자\n",
    "#%S\t앞의 빈자리를 0으로 채우는 2자리 초 숫자\n",
    "#%A\t영어로 된 요일 문자열\n",
    "#%B\t영어로 된 월 문자열\n",
    "dt.strftime(\"%A %d. %B %Y\")"
   ]
  },
  {
   "cell_type": "code",
   "execution_count": 21,
   "metadata": {},
   "outputs": [
    {
     "ename": "UnicodeEncodeError",
     "evalue": "'locale' codec can't encode character '\\uc2dc' in position 2: encoding error",
     "output_type": "error",
     "traceback": [
      "\u001b[1;31m---------------------------------------------------------------------------\u001b[0m",
      "\u001b[1;31mUnicodeEncodeError\u001b[0m                        Traceback (most recent call last)",
      "\u001b[1;32m<ipython-input-21-f380b7b55c43>\u001b[0m in \u001b[0;36m<module>\u001b[1;34m\u001b[0m\n\u001b[1;32m----> 1\u001b[1;33m \u001b[0mprint\u001b[0m\u001b[1;33m(\u001b[0m\u001b[0mdt\u001b[0m\u001b[1;33m.\u001b[0m\u001b[0mstrftime\u001b[0m\u001b[1;33m(\u001b[0m\u001b[1;34m\"%H시 %M분 %S초\"\u001b[0m\u001b[1;33m)\u001b[0m\u001b[1;33m)\u001b[0m\u001b[1;33m\u001b[0m\u001b[1;33m\u001b[0m\u001b[0m\n\u001b[0m",
      "\u001b[1;31mUnicodeEncodeError\u001b[0m: 'locale' codec can't encode character '\\uc2dc' in position 2: encoding error"
     ]
    }
   ],
   "source": [
    "print(dt.strftime(\"%H시 %M분 %S초\"))"
   ]
  },
  {
   "cell_type": "code",
   "execution_count": null,
   "metadata": {},
   "outputs": [],
   "source": [
    "#위 에러 해결 방법\n",
    "# strftime 인풋 string을 유니코드 인코딩 후 디코딩 -> strftime 아웃풋 string 을 인코딩 후 유니코드 디코딩\n",
    "print(dt.strftime(\"%H시 %M분 %S초\".encode('unicode-escape').decode()).encode().decode('unicode-escape'))"
   ]
  }
 ],
 "metadata": {
  "kernelspec": {
   "display_name": "Python 3",
   "language": "python",
   "name": "python3"
  },
  "language_info": {
   "codemirror_mode": {
    "name": "ipython",
    "version": 3
   },
   "file_extension": ".py",
   "mimetype": "text/x-python",
   "name": "python",
   "nbconvert_exporter": "python",
   "pygments_lexer": "ipython3",
   "version": "3.7.7"
  }
 },
 "nbformat": 4,
 "nbformat_minor": 4
}
