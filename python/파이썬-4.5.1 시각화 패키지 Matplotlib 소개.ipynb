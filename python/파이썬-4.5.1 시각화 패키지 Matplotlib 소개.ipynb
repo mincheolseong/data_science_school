{
 "cells": [
  {
   "cell_type": "code",
   "execution_count": 1,
   "metadata": {},
   "outputs": [],
   "source": [
    "#Matplotlib은 자료를 차트나 플롯으로 시각화\n",
    "#pylab 서브패키지 : matlab이라는 수치해석 sw의 시각화 명령을 거의 그대로 사용 가능\n",
    "import matplotlib as mpl\n",
    "import matplotlib.pylab as plt"
   ]
  },
  {
   "cell_type": "code",
   "execution_count": 3,
   "metadata": {},
   "outputs": [],
   "source": [
    "%matplotlib inline\n",
    "#노트북 내부에 그림 표시하도록 지정, in case of using jupyter notebook"
   ]
  },
  {
   "cell_type": "code",
   "execution_count": 5,
   "metadata": {},
   "outputs": [
    {
     "data": {
      "image/png": "[encoded data removed]",
      "text/plain": [
       "<Figure size 432x288 with 1 Axes>"
      ]
     },
     "metadata": {
      "needs_background": "light"
     },
     "output_type": "display_data"
    }
   ],
   "source": [
    "#라인 플롯\n",
    "plt.title(\"Plot\")\n",
    "plt.plot([1, 4, 9, 16]) # plot 명령에 데이터 리스트 혹은 ndarray 객체\n",
    "plt.show()"
   ]
  },
  {
   "cell_type": "code",
   "execution_count": 8,
   "metadata": {},
   "outputs": [],
   "source": [
    "#x tick 위치 별도 명시하고 싶다면?\n",
    "plt.title(\"x ticks\")\n",
    "plt.plot([10, 20, 30, 40], [1, 4, 9, 25])\n",
    "plt.show() \n",
    "#show명령은 차트로 rendering "
   ]
  },
  {
   "cell_type": "code",
   "execution_count": 2,
   "metadata": {},
   "outputs": [],
   "source": [
    "#한글폰트 사용, 한글문자열은 항상 유니코드 사용!\n",
    "mpl.rc('font', family = 'NanumGothic') #폰트 설정\n",
    "mpl.rc('axes', unicode_minus = False) #유니코드에서 음수부호 설정"
   ]
  },
  {
   "cell_type": "code",
   "execution_count": 5,
   "metadata": {},
   "outputs": [],
   "source": [
    "plt.title('한글 제목')\n",
    "plt.plot([10, 20, 30, 40], [1, 4, 9, 16])\n",
    "plt.xlabel(\"엑스축 라벨\")\n",
    "plt.ylabel(\"와이축 라벨\")\n",
    "plt.show()"
   ]
  },
  {
   "cell_type": "code",
   "execution_count": 7,
   "metadata": {},
   "outputs": [],
   "source": [
    "plt.title(\"x ticks\")\n",
    "plt.plot([10, 20, 30, 40], [1, 4, 9, 25])\n",
    "plt.show() "
   ]
  },
  {
   "cell_type": "code",
   "execution_count": null,
   "metadata": {},
   "outputs": [],
   "source": []
  }
 ],
 "metadata": {
  "kernelspec": {
   "display_name": "Python 3",
   "language": "python",
   "name": "python3"
  },
  "language_info": {
   "codemirror_mode": {
    "name": "ipython",
    "version": 3
   },
   "file_extension": ".py",
   "mimetype": "text/x-python",
   "name": "python",
   "nbconvert_exporter": "python",
   "pygments_lexer": "ipython3",
   "version": "3.7.7"
  }
 },
 "nbformat": 4,
 "nbformat_minor": 4
}
