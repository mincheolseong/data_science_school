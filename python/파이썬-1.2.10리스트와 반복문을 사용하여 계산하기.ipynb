{
 "cells": [
  {
   "cell_type": "code",
   "execution_count": 6,
   "metadata": {},
   "outputs": [
    {
     "data": {
      "text/plain": [
       "85"
      ]
     },
     "execution_count": 6,
     "metadata": {},
     "output_type": "execute_result"
    }
   ],
   "source": [
    "a1 = [90, 85, 95, 80, 90, 100, 85, 75, 85, 80]\n",
    "a2 = [95, 90, 90, 90, 95, 100, 90, 80, 95, 90]\n",
    "a1[1]"
   ]
  },
  {
   "cell_type": "code",
   "execution_count": 4,
   "metadata": {},
   "outputs": [
    {
     "data": {
      "text/plain": [
       "[(90, 95),\n",
       " (85, 90),\n",
       " (95, 90),\n",
       " (80, 90),\n",
       " (90, 95),\n",
       " (100, 100),\n",
       " (85, 90),\n",
       " (75, 80),\n",
       " (85, 95),\n",
       " (80, 90)]"
      ]
     },
     "execution_count": 4,
     "metadata": {},
     "output_type": "execute_result"
    }
   ],
   "source": [
    "list(zip(a1, a2))"
   ]
  },
  {
   "cell_type": "code",
   "execution_count": 2,
   "metadata": {},
   "outputs": [
    {
     "data": {
      "text/plain": [
       "[280, 265, 275, 260, 280, 300, 265, 235, 275, 260]"
      ]
     },
     "execution_count": 2,
     "metadata": {},
     "output_type": "execute_result"
    }
   ],
   "source": [
    "# zip 함수\n",
    "s = []\n",
    "a1 = [90, 85, 95, 80, 90, 100, 85, 75, 85, 80]\n",
    "a2 = [95, 90, 90, 90, 95, 100, 90, 80, 95, 90]\n",
    "a3 = [95, 90, 90, 90, 95, 100, 90, 80, 95, 90]\n",
    "for a1i, a2i, a3i in zip(a1, a2, a3):\n",
    "    s.append(a1i + a2i + a3i)\n",
    "s"
   ]
  },
  {
   "cell_type": "code",
   "execution_count": 18,
   "metadata": {},
   "outputs": [
    {
     "name": "stdout",
     "output_type": "stream",
     "text": [
      "i = 0, e = a\n",
      "i = 1, e = b\n",
      "i = 2, e = c\n"
     ]
    }
   ],
   "source": [
    "for i, e in enumerate([\"a\", \"b\", \"c\"]):\n",
    "    print(\"i = %d, e = %s\" % (i, e))"
   ]
  },
  {
   "cell_type": "code",
   "execution_count": 24,
   "metadata": {},
   "outputs": [
    {
     "data": {
      "text/plain": [
       "[185, 175, 185, 170, 185, 200, 175, 155, 180, 170]"
      ]
     },
     "execution_count": 24,
     "metadata": {},
     "output_type": "execute_result"
    }
   ],
   "source": [
    "# enumerate 함수\n",
    "s = [0, 0, 0, 0, 0, 0, 0, 0, 0, 0]\n",
    "a1 = [90, 85, 95, 80, 90, 100, 85, 75, 85, 80]\n",
    "a2 = [95, 90, 90, 90, 95, 100, 90, 80, 95, 90]\n",
    "for i, (a1i, a2i) in enumerate(zip(a1, a2)):\n",
    "    s[i] = a1i + a2i\n",
    "s"
   ]
  },
  {
   "cell_type": "code",
   "execution_count": 25,
   "metadata": {},
   "outputs": [],
   "source": [
    "X = [[85,  90,  20,  50,  60,  25,  30,  75,  40,  55],\n",
    "     [70, 100,  70,  70,  55,  75,  55,  60,  40,  45],\n",
    "     [25,  65,  15,  25,  20,   5,  60,  70,  35,  10],\n",
    "     [80,  45,  80,  40,  75,  35,  80,  55,  70,  90],\n",
    "     [35,  50,  75,  25,  35,  70,  65,  50,  70,  10]]"
   ]
  },
  {
   "cell_type": "code",
   "execution_count": 26,
   "metadata": {},
   "outputs": [
    {
     "data": {
      "text/plain": [
       "52.7"
      ]
     },
     "execution_count": 26,
     "metadata": {},
     "output_type": "execute_result"
    }
   ],
   "source": [
    "#리스트의 리스트\n",
    "sum = 0\n",
    "num = 0\n",
    "for i in range(len(X)):\n",
    "    for j in range(len(X[i])):\n",
    "        num = num + 1\n",
    "        sum = sum + X[i][j]\n",
    "sum / num"
   ]
  },
  {
   "cell_type": "code",
   "execution_count": 46,
   "metadata": {},
   "outputs": [
    {
     "name": "stdout",
     "output_type": "stream",
     "text": [
      "T= 37\n",
      "W= 11\n",
      "3.3636363636363638\n"
     ]
    }
   ],
   "source": [
    "#연습 문제 3.2.29 평균 평점(GPA구하기)\n",
    "x = [4, 3, 2, 3, 4] #grade\n",
    "w = [3, 3, 1, 2, 2] #credit hours\n",
    "T = 0 #grade X credit hours\n",
    "W = 0 #Total adds of credit hours\n",
    "for j in range(len(x)):\n",
    "    T = T + x[j] * w[j]\n",
    "for i in range(len(w)):\n",
    "    W = W + w[i]\n",
    "print(\"T=\", T)\n",
    "print(\"W=\", W)\n",
    "average_credit = T / W\n",
    "print(average_credit)"
   ]
  },
  {
   "cell_type": "code",
   "execution_count": 66,
   "metadata": {},
   "outputs": [
    {
     "name": "stdout",
     "output_type": "stream",
     "text": [
      "5.0\n",
      "Var= 1.6666666666666667\n"
     ]
    }
   ],
   "source": [
    "#연습 문제 3.2.30\n",
    "X = [6, 5, 4, 7, 3, 5]\n",
    "sum = 0\n",
    "for i in range(len(X)):\n",
    "    sum = sum + X[i]\n",
    "avr = sum / len(X)\n",
    "print(avr)\n",
    "sum2 = 0\n",
    "for j in range(len(X)):\n",
    "    sum2 = sum2 + (X[j] - avr) ** 2\n",
    "Var = sum2 / len(X)\n",
    "print(\"Var=\", Var)"
   ]
  },
  {
   "cell_type": "code",
   "execution_count": null,
   "metadata": {},
   "outputs": [],
   "source": []
  }
 ],
 "metadata": {
  "kernelspec": {
   "display_name": "Python 3",
   "language": "python",
   "name": "python3"
  },
  "language_info": {
   "codemirror_mode": {
    "name": "ipython",
    "version": 3
   },
   "file_extension": ".py",
   "mimetype": "text/x-python",
   "name": "python",
   "nbconvert_exporter": "python",
   "pygments_lexer": "ipython3",
   "version": "3.7.9"
  }
 },
 "nbformat": 4,
 "nbformat_minor": 4
}
