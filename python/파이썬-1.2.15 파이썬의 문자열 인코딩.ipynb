{
 "cells": [
  {
   "cell_type": "code",
   "execution_count": 1,
   "metadata": {},
   "outputs": [],
   "source": [
    "#파이썬의 문자열 인코딩\n",
    "#문자와 인코딩 : 인코딩이란, 모든 컴퓨터에서 문자는 2진숫자인 바이트(Byte)로 바뀌어 저장됨, 가장 기본 인코딩 방식은 아스키방식\n",
    "#유니코드 : 글자, 회사마다 인코딩방식이 달라 이를 해결하기 위한 방법\n",
    "##유니코드 코드 포인트 : 최대4바이트의 숫자로 모든 글자 대응\n",
    "##유니코드 인코딩 : 유니코드 문자를 바이트 열로 바꿔 파일 등에 저장할 때 사용하는 방식\n",
    "#파이썬의 문자열 자료형 : 파이썬3는 자료형이 유니코드, 자료형의 이름은 'str'\n",
    "## bytearrary  -> b접두사를 이용한 바이트열 리터럴(literal) 생성 : 유니코드에서 바이트열로 상호 변환\n",
    "## unicode -> u접두사이용해 유니코드 리터럴(literal) 생성 : 유니코드 포인트 방식 저장"
   ]
  },
  {
   "cell_type": "code",
   "execution_count": 12,
   "metadata": {},
   "outputs": [
    {
     "name": "stdout",
     "output_type": "stream",
     "text": [
      "len(u) =  1\n",
      "len(b) =  2\n",
      "3 3\n",
      "A B C\n",
      "가 나 다\n",
      "3 6\n",
      "A B C\n",
      "° ¡ ³ ª\n"
     ]
    }
   ],
   "source": [
    "#유니코드로 한글을 저장해야하는 이유 : 유니코드가 아닌 인코딩된 바이트열은 글자 수, 글자 단위 세는 것이 어려움\n",
    "u = \"가\"\n",
    "len(u)\n",
    "b=bytearray(\"가\", 'cp949')\n",
    "len(b)\n",
    "print(\"len(u) = \", len(u))\n",
    "print(\"len(b) = \", len(b))\n",
    "#바이트열이면 글자를 한글자씩 분리 못함\n",
    "u1 = \"ABC\"\n",
    "u2 = \"가나다\"\n",
    "print(len(u1), len(u2))\n",
    "print(u1[0], u1[1], u1[2])\n",
    "print(u2[0], u2[1], u2[2])\n",
    "b1 = bytearray(\"ABC\", 'cp949')\n",
    "b2 = bytearray(\"가나다\", 'cp949')\n",
    "print(len(b1), len(b2))\n",
    "print(chr(b1[0]), chr(b1[1]), chr(b1[2]))\n",
    "print(chr(b2[0]), chr(b2[1]), chr(b2[2]), chr(b2[3]))"
   ]
  },
  {
   "cell_type": "code",
   "execution_count": 13,
   "metadata": {},
   "outputs": [
    {
     "data": {
      "text/plain": [
       "str"
      ]
     },
     "execution_count": 13,
     "metadata": {},
     "output_type": "execute_result"
    }
   ],
   "source": [
    "#인코딩과 디코딩\n",
    "##encode method : unicode -> byte array\n",
    "##decode method : byte array -> unicode\n",
    "##인코딩할 때 출력장치(콘솔, 주피터 노트북 등)가 어떤 인코딩 지원하는지 미리 알아야\n",
    "u = \"가나다\"\n",
    "type(u)"
   ]
  },
  {
   "cell_type": "code",
   "execution_count": 14,
   "metadata": {},
   "outputs": [
    {
     "data": {
      "text/plain": [
       "bytes"
      ]
     },
     "execution_count": 14,
     "metadata": {},
     "output_type": "execute_result"
    }
   ],
   "source": [
    "b1 = u.encode(\"cp949\")\n",
    "type(b1)"
   ]
  },
  {
   "cell_type": "code",
   "execution_count": 15,
   "metadata": {},
   "outputs": [
    {
     "data": {
      "text/plain": [
       "b'\\xb0\\xa1\\xb3\\xaa\\xb4\\xd9'"
      ]
     },
     "execution_count": 15,
     "metadata": {},
     "output_type": "execute_result"
    }
   ],
   "source": [
    "b1"
   ]
  },
  {
   "cell_type": "code",
   "execution_count": 16,
   "metadata": {},
   "outputs": [
    {
     "data": {
      "text/plain": [
       "bytes"
      ]
     },
     "execution_count": 16,
     "metadata": {},
     "output_type": "execute_result"
    }
   ],
   "source": [
    "b2 = u.encode(\"euc-kr\")\n",
    "type(b2)"
   ]
  },
  {
   "cell_type": "code",
   "execution_count": 17,
   "metadata": {},
   "outputs": [
    {
     "data": {
      "text/plain": [
       "b'\\xb0\\xa1\\xb3\\xaa\\xb4\\xd9'"
      ]
     },
     "execution_count": 17,
     "metadata": {},
     "output_type": "execute_result"
    }
   ],
   "source": [
    "b2"
   ]
  },
  {
   "cell_type": "code",
   "execution_count": 18,
   "metadata": {},
   "outputs": [
    {
     "data": {
      "text/plain": [
       "bytes"
      ]
     },
     "execution_count": 18,
     "metadata": {},
     "output_type": "execute_result"
    }
   ],
   "source": [
    "b3 = u.encode(\"utf-8\") #현재 주피터는 utf-8인코딩 지원\n",
    "type(b3)"
   ]
  },
  {
   "cell_type": "code",
   "execution_count": 19,
   "metadata": {},
   "outputs": [
    {
     "data": {
      "text/plain": [
       "b'\\xea\\xb0\\x80\\xeb\\x82\\x98\\xeb\\x8b\\xa4'"
      ]
     },
     "execution_count": 19,
     "metadata": {},
     "output_type": "execute_result"
    }
   ],
   "source": [
    "b3"
   ]
  },
  {
   "cell_type": "code",
   "execution_count": 20,
   "metadata": {},
   "outputs": [
    {
     "data": {
      "text/plain": [
       "'가나다'"
      ]
     },
     "execution_count": 20,
     "metadata": {},
     "output_type": "execute_result"
    }
   ],
   "source": [
    "b1.decode(\"cp949\")#디코딩도 원래 인코딩된 방식으로 해야됨"
   ]
  },
  {
   "cell_type": "code",
   "execution_count": 21,
   "metadata": {},
   "outputs": [
    {
     "data": {
      "text/plain": [
       "'가나다'"
      ]
     },
     "execution_count": 21,
     "metadata": {},
     "output_type": "execute_result"
    }
   ],
   "source": [
    "b2.decode(\"euc-kr\")"
   ]
  },
  {
   "cell_type": "code",
   "execution_count": 22,
   "metadata": {},
   "outputs": [
    {
     "data": {
      "text/plain": [
       "'가나다'"
      ]
     },
     "execution_count": 22,
     "metadata": {},
     "output_type": "execute_result"
    }
   ],
   "source": [
    "b3.decode(\"utf-8\")"
   ]
  },
  {
   "cell_type": "code",
   "execution_count": 23,
   "metadata": {},
   "outputs": [
    {
     "ename": "UnicodeDecodeError",
     "evalue": "'utf-8' codec can't decode byte 0xb0 in position 0: invalid start byte",
     "output_type": "error",
     "traceback": [
      "\u001b[1;31m---------------------------------------------------------------------------\u001b[0m",
      "\u001b[1;31mUnicodeDecodeError\u001b[0m                        Traceback (most recent call last)",
      "\u001b[1;32m<ipython-input-23-f70657b04efd>\u001b[0m in \u001b[0;36m<module>\u001b[1;34m\u001b[0m\n\u001b[1;32m----> 1\u001b[1;33m \u001b[0mb1\u001b[0m\u001b[1;33m.\u001b[0m\u001b[0mdecode\u001b[0m\u001b[1;33m(\u001b[0m\u001b[1;34m\"utf-8\"\u001b[0m\u001b[1;33m)\u001b[0m\u001b[1;33m\u001b[0m\u001b[1;33m\u001b[0m\u001b[0m\n\u001b[0m",
      "\u001b[1;31mUnicodeDecodeError\u001b[0m: 'utf-8' codec can't decode byte 0xb0 in position 0: invalid start byte"
     ]
    }
   ],
   "source": [
    "b1.decode(\"utf-8\")"
   ]
  },
  {
   "cell_type": "code",
   "execution_count": 24,
   "metadata": {},
   "outputs": [],
   "source": [
    "#인코딩 설정\n",
    "##콘솔입력, 파일은 not 유니코드 포인트, but 인코딩된 바이트열로 동작\n",
    "##따라서 파이썬이 콘솔로 입력된 코드 읽을 때는 이 코드가 어떤 코드로 인코딩됬는지 알아야\n",
    "##콘솔입력 : 환경변수 \"PYTHONIOENCODING\"으로 지정\n",
    "##스크립트(파일) : #-*- coding: utf-8 -*-"
   ]
  },
  {
   "cell_type": "code",
   "execution_count": null,
   "metadata": {},
   "outputs": [],
   "source": []
  },
  {
   "cell_type": "code",
   "execution_count": null,
   "metadata": {},
   "outputs": [],
   "source": []
  }
 ],
 "metadata": {
  "kernelspec": {
   "display_name": "Python 3",
   "language": "python",
   "name": "python3"
  },
  "language_info": {
   "codemirror_mode": {
    "name": "ipython",
    "version": 3
   },
   "file_extension": ".py",
   "mimetype": "text/x-python",
   "name": "python",
   "nbconvert_exporter": "python",
   "pygments_lexer": "ipython3",
   "version": "3.7.7"
  }
 },
 "nbformat": 4,
 "nbformat_minor": 4
}
