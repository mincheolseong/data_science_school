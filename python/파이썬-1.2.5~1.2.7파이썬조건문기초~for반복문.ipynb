{
 "cells": [
  {
   "cell_type": "code",
   "execution_count": 1,
   "metadata": {},
   "outputs": [
    {
     "ename": "SyntaxError",
     "evalue": "invalid syntax (<ipython-input-1-5cd2ff401e18>, line 2)",
     "output_type": "error",
     "traceback": [
      "\u001b[1;36m  File \u001b[1;32m\"<ipython-input-1-5cd2ff401e18>\"\u001b[1;36m, line \u001b[1;32m2\u001b[0m\n\u001b[1;33m    if a % 2 == 0\u001b[0m\n\u001b[1;37m                 ^\u001b[0m\n\u001b[1;31mSyntaxError\u001b[0m\u001b[1;31m:\u001b[0m invalid syntax\n"
     ]
    }
   ],
   "source": [
    "a = 1\n",
    "if a % 2 == 0\n",
    "    print(\"짝수\")"
   ]
  },
  {
   "cell_type": "code",
   "execution_count": 2,
   "metadata": {},
   "outputs": [
    {
     "ename": "SyntaxError",
     "evalue": "invalid syntax (<ipython-input-2-5cd2ff401e18>, line 2)",
     "output_type": "error",
     "traceback": [
      "\u001b[1;36m  File \u001b[1;32m\"<ipython-input-2-5cd2ff401e18>\"\u001b[1;36m, line \u001b[1;32m2\u001b[0m\n\u001b[1;33m    if a % 2 == 0\u001b[0m\n\u001b[1;37m                 ^\u001b[0m\n\u001b[1;31mSyntaxError\u001b[0m\u001b[1;31m:\u001b[0m invalid syntax\n"
     ]
    }
   ],
   "source": [
    "a = 1\n",
    "if a % 2 == 0\n",
    "    print(\"짝수\")"
   ]
  },
  {
   "cell_type": "code",
   "execution_count": 3,
   "metadata": {},
   "outputs": [
    {
     "name": "stdout",
     "output_type": "stream",
     "text": [
      "짝수\n"
     ]
    }
   ],
   "source": [
    "a = 2\n",
    "if a % 2 == 0:\n",
    "    print(\"짝수\")\n",
    "else:\n",
    "    print(\"홀수\")"
   ]
  },
  {
   "cell_type": "code",
   "execution_count": 4,
   "metadata": {},
   "outputs": [
    {
     "name": "stdout",
     "output_type": "stream",
     "text": [
      "2자리 수의 짝수가 아니다.\n"
     ]
    }
   ],
   "source": [
    "b = 55\n",
    "\n",
    "if (b >= 10) & (b < 100) & (b % 2 == 0):\n",
    "    print(\"2자리 수의 짝수이다.\")\n",
    "else:\n",
    "    print(\"2자리 수의 짝수가 아니다.\")"
   ]
  },
  {
   "cell_type": "code",
   "execution_count": 5,
   "metadata": {},
   "outputs": [
    {
     "name": "stdout",
     "output_type": "stream",
     "text": [
      "트포 스태틱 가렌하고 싶다.\n"
     ]
    }
   ],
   "source": [
    "b = 55\n",
    "if (b >= 10) & (b < 100) & (b % 2 == 0):\n",
    "    print(\"2자리 수의 짝수이다.\")\n",
    "else:\n",
    "    print(\"트포 스태틱 가렌하고 싶다.\")"
   ]
  },
  {
   "cell_type": "code",
   "execution_count": 6,
   "metadata": {},
   "outputs": [
    {
     "name": "stdout",
     "output_type": "stream",
     "text": [
      "트포 스태틱 가렌하고 싶다.\n"
     ]
    }
   ],
   "source": [
    "b = 155\n",
    "if (b >= 10) & (b < 100) & (b % 2 == 0):\n",
    "    print(\"2자리 수의 짝수이다.\")\n",
    "else:\n",
    "    print(\"트포 스태틱 가렌하고 싶다.\")"
   ]
  },
  {
   "cell_type": "code",
   "execution_count": 7,
   "metadata": {},
   "outputs": [
    {
     "name": "stdout",
     "output_type": "stream",
     "text": [
      "2자리 수의 짝수이다.\n"
     ]
    }
   ],
   "source": [
    "b = 98\n",
    "if (b >= 10) & (b < 100) & (b % 2 == 0):\n",
    "    print(\"2자리 수의 짝수이다.\")\n",
    "else:\n",
    "    print(\"트포 스태틱 가렌하고 싶다.\")"
   ]
  },
  {
   "cell_type": "code",
   "execution_count": 8,
   "metadata": {},
   "outputs": [
    {
     "name": "stdout",
     "output_type": "stream",
     "text": [
      "윤년이 아닙니다.\n"
     ]
    }
   ],
   "source": [
    "y = 2004\n",
    "if (y & 4 == 0):\n",
    "    print(\"윤년입니다.\")\n",
    "else:\n",
    "    print(\"윤년이 아닙니다.\")"
   ]
  },
  {
   "cell_type": "code",
   "execution_count": 9,
   "metadata": {},
   "outputs": [
    {
     "name": "stdout",
     "output_type": "stream",
     "text": [
      "윤년이 아닙니다.\n"
     ]
    }
   ],
   "source": [
    "y = 4\n",
    "if (y & 4 == 0):\n",
    "    print(\"윤년입니다.\")\n",
    "else:\n",
    "    print(\"윤년이 아닙니다.\")"
   ]
  },
  {
   "cell_type": "code",
   "execution_count": 10,
   "metadata": {},
   "outputs": [
    {
     "name": "stdout",
     "output_type": "stream",
     "text": [
      "윤년입니다.\n"
     ]
    }
   ],
   "source": [
    "y = 2004\n",
    "if (y % 4 == 0):\n",
    "    print(\"윤년입니다.\")\n",
    "else:\n",
    "    print(\"윤년이 아닙니다.\")"
   ]
  },
  {
   "cell_type": "code",
   "execution_count": 11,
   "metadata": {},
   "outputs": [],
   "source": [
    "y = 2004\n",
    "if (y % 4 == 0):\n",
    "   if (y % 100 == 0):\n",
    "    print(\"평년입니다.\")\n",
    "else:\n",
    "    print(\"윤년이 아닙니다.\")"
   ]
  },
  {
   "cell_type": "code",
   "execution_count": 12,
   "metadata": {},
   "outputs": [],
   "source": [
    "y = 2004\n",
    "if (y % 4 == 0):\n",
    "   if (y % 100 == 0):\n",
    "    print(\"평년입니다.\")\n",
    "else:\n",
    "    print(\"윤년이 아닙니다.\")"
   ]
  },
  {
   "cell_type": "code",
   "execution_count": 13,
   "metadata": {},
   "outputs": [
    {
     "name": "stdout",
     "output_type": "stream",
     "text": [
      "윤년이 아닙니다.\n"
     ]
    }
   ],
   "source": [
    "y = 2004\n",
    "if (y % 4 == 0) & (y % 100 != 0) & (y % 400 == 0):\n",
    "    print(\"윤년입니다.\")\n",
    "else:\n",
    "    print(\"윤년이 아닙니다.\")"
   ]
  },
  {
   "cell_type": "code",
   "execution_count": 14,
   "metadata": {},
   "outputs": [
    {
     "name": "stdout",
     "output_type": "stream",
     "text": [
      "윤년입니다.\n"
     ]
    }
   ],
   "source": [
    "y = 2004\n",
    "if (y % 4 == 0) & (y % 100 != 0):\n",
    "    print(\"윤년입니다.\")\n",
    "else:\n",
    "    print(\"윤년이 아닙니다.\")"
   ]
  },
  {
   "cell_type": "code",
   "execution_count": 15,
   "metadata": {},
   "outputs": [
    {
     "name": "stdout",
     "output_type": "stream",
     "text": [
      "윤년이 아닙니다.\n"
     ]
    }
   ],
   "source": [
    "y = 1600\n",
    "if (y % 4 == 0) & (y % 100 != 0):\n",
    "    print(\"윤년입니다.\")\n",
    "else:\n",
    "    print(\"윤년이 아닙니다.\")"
   ]
  },
  {
   "cell_type": "code",
   "execution_count": 17,
   "metadata": {},
   "outputs": [
    {
     "ename": "SyntaxError",
     "evalue": "invalid syntax (<ipython-input-17-2cea13446105>, line 4)",
     "output_type": "error",
     "traceback": [
      "\u001b[1;36m  File \u001b[1;32m\"<ipython-input-17-2cea13446105>\"\u001b[1;36m, line \u001b[1;32m4\u001b[0m\n\u001b[1;33m    else if (y % 400 ==0):\u001b[0m\n\u001b[1;37m          ^\u001b[0m\n\u001b[1;31mSyntaxError\u001b[0m\u001b[1;31m:\u001b[0m invalid syntax\n"
     ]
    }
   ],
   "source": [
    "y = 2004\n",
    "if (y % 4 == 0) & (y % 100 != 0):\n",
    "    print(\"윤년입니다.\")\n",
    "else if (y % 400 ==0):\n",
    "    print(\"윤년입니다.\")\n",
    "else:\n",
    "    print(\"윤년이 아닙니다.\")"
   ]
  },
  {
   "cell_type": "code",
   "execution_count": 18,
   "metadata": {},
   "outputs": [
    {
     "ename": "SyntaxError",
     "evalue": "invalid syntax (<ipython-input-18-2cea13446105>, line 4)",
     "output_type": "error",
     "traceback": [
      "\u001b[1;36m  File \u001b[1;32m\"<ipython-input-18-2cea13446105>\"\u001b[1;36m, line \u001b[1;32m4\u001b[0m\n\u001b[1;33m    else if (y % 400 ==0):\u001b[0m\n\u001b[1;37m          ^\u001b[0m\n\u001b[1;31mSyntaxError\u001b[0m\u001b[1;31m:\u001b[0m invalid syntax\n"
     ]
    }
   ],
   "source": [
    "y = 2004\n",
    "if (y % 4 == 0) & (y % 100 != 0):\n",
    "    print(\"윤년입니다.\")\n",
    "else if (y % 400 ==0):\n",
    "    print(\"윤년입니다.\")\n",
    "else:\n",
    "    print(\"윤년이 아닙니다.\")"
   ]
  },
  {
   "cell_type": "code",
   "execution_count": 19,
   "metadata": {},
   "outputs": [
    {
     "name": "stdout",
     "output_type": "stream",
     "text": [
      "윤년입니다.\n"
     ]
    }
   ],
   "source": [
    "y = 2004\n",
    "if (y % 4 == 0) & (y % 100 != 0):\n",
    "    print(\"윤년입니다.\")\n",
    "elif (y % 400 ==0):\n",
    "    print(\"윤년입니다.\")\n",
    "else:\n",
    "    print(\"윤년이 아닙니다.\")"
   ]
  },
  {
   "cell_type": "code",
   "execution_count": 20,
   "metadata": {},
   "outputs": [
    {
     "name": "stdout",
     "output_type": "stream",
     "text": [
      "윤년입니다.\n"
     ]
    }
   ],
   "source": [
    "y = 1600\n",
    "if (y % 4 == 0) & (y % 100 != 0):\n",
    "    print(\"윤년입니다.\")\n",
    "elif (y % 400 ==0):\n",
    "    print(\"윤년입니다.\")\n",
    "else:\n",
    "    print(\"윤년이 아닙니다.\")"
   ]
  },
  {
   "cell_type": "code",
   "execution_count": 21,
   "metadata": {},
   "outputs": [
    {
     "name": "stdout",
     "output_type": "stream",
     "text": [
      "윤년이 아닙니다.\n"
     ]
    }
   ],
   "source": [
    "y = 1900\n",
    "if (y % 4 == 0) & (y % 100 != 0):\n",
    "    print(\"윤년입니다.\")\n",
    "elif (y % 400 ==0):\n",
    "    print(\"윤년입니다.\")\n",
    "else:\n",
    "    print(\"윤년이 아닙니다.\") "
   ]
  },
  {
   "cell_type": "code",
   "execution_count": 22,
   "metadata": {},
   "outputs": [
    {
     "name": "stdout",
     "output_type": "stream",
     "text": [
      "윤년입니다.\n"
     ]
    }
   ],
   "source": [
    "y = 1600\n",
    "if (y % 4 == 0) & (y % 100 != 0):\n",
    "    print(\"윤년입니다.\")\n",
    "elif (y % 400 ==0):\n",
    "    print(\"윤년입니다.\")\n",
    "else:\n",
    "    print(\"윤년이 아닙니다.\") # 연습문제 3.2.10"
   ]
  },
  {
   "cell_type": "code",
   "execution_count": 23,
   "metadata": {},
   "outputs": [
    {
     "ename": "SyntaxError",
     "evalue": "invalid syntax (<ipython-input-23-83663a5e8941>, line 1)",
     "output_type": "error",
     "traceback": [
      "\u001b[1;36m  File \u001b[1;32m\"<ipython-input-23-83663a5e8941>\"\u001b[1;36m, line \u001b[1;32m1\u001b[0m\n\u001b[1;33m    c = ?\u001b[0m\n\u001b[1;37m        ^\u001b[0m\n\u001b[1;31mSyntaxError\u001b[0m\u001b[1;31m:\u001b[0m invalid syntax\n"
     ]
    }
   ],
   "source": [
    "c = ?\n",
    "if c >= 8:\n",
    "    print(\"A\")\n",
    "elif c >= 5:\n",
    "    print(\"B\")\n",
    "else:\n",
    "    print(\"C\")"
   ]
  },
  {
   "cell_type": "code",
   "execution_count": 24,
   "metadata": {},
   "outputs": [
    {
     "name": "stdout",
     "output_type": "stream",
     "text": [
      "A\n"
     ]
    }
   ],
   "source": [
    "c = 9\n",
    "if c >= 8:\n",
    "    print(\"A\")\n",
    "elif c >= 5:\n",
    "    print(\"B\")\n",
    "else:\n",
    "    print(\"C\")"
   ]
  },
  {
   "cell_type": "code",
   "execution_count": 25,
   "metadata": {},
   "outputs": [
    {
     "name": "stdout",
     "output_type": "stream",
     "text": [
      "C\n"
     ]
    }
   ],
   "source": [
    "c = 3\n",
    "if c >= 8:\n",
    "    print(\"A\")\n",
    "elif c >= 5:\n",
    "    print(\"B\")\n",
    "else:\n",
    "    print(\"C\")"
   ]
  },
  {
   "cell_type": "code",
   "execution_count": 26,
   "metadata": {},
   "outputs": [
    {
     "name": "stdout",
     "output_type": "stream",
     "text": [
      "C\n"
     ]
    }
   ],
   "source": [
    "c = 3\n",
    "if c >= 8:\n",
    "    print(\"A\")\n",
    "elif c >= 5:\n",
    "    print(\"B\")\n",
    "else:\n",
    "    print(\"C\") # 3.2.11"
   ]
  },
  {
   "cell_type": "code",
   "execution_count": 27,
   "metadata": {},
   "outputs": [
    {
     "name": "stdout",
     "output_type": "stream",
     "text": [
      "4등급\n"
     ]
    }
   ],
   "source": [
    "c = 3\n",
    "if c >= 10:\n",
    "    print(\"1등급\")\n",
    "elif c >= 7:\n",
    "    print(\"2등급\")\n",
    "elif c >= 4:\n",
    "    print(\"3등급\")\n",
    "else:\n",
    "    print(\"4등급\")"
   ]
  },
  {
   "cell_type": "code",
   "execution_count": 28,
   "metadata": {},
   "outputs": [
    {
     "name": "stdout",
     "output_type": "stream",
     "text": [
      "1등급\n"
     ]
    }
   ],
   "source": [
    "c = 11.4\n",
    "if c >= 10:\n",
    "    print(\"1등급\")\n",
    "elif c >= 7:\n",
    "    print(\"2등급\")\n",
    "elif c >= 4:\n",
    "    print(\"3등급\")\n",
    "else:\n",
    "    print(\"4등급\")"
   ]
  },
  {
   "cell_type": "code",
   "execution_count": 29,
   "metadata": {},
   "outputs": [
    {
     "name": "stdout",
     "output_type": "stream",
     "text": [
      "4등급\n"
     ]
    }
   ],
   "source": [
    "c = 3\n",
    "if c >= 10:\n",
    "    print(\"1등급\")\n",
    "elif c >= 7:\n",
    "    print(\"2등급\")\n",
    "elif c >= 4:\n",
    "    print(\"3등급\")\n",
    "else:\n",
    "    print(\"4등급\") # 3.2.12"
   ]
  },
  {
   "cell_type": "code",
   "execution_count": 30,
   "metadata": {},
   "outputs": [
    {
     "name": "stdout",
     "output_type": "stream",
     "text": [
      "Fail\n"
     ]
    }
   ],
   "source": [
    "sex = \"boy\"\n",
    "pushup = 8\n",
    "\n",
    "if sex == \"boy\":\n",
    "    if pushup >= 10:\n",
    "        grade = \"Pass\"\n",
    "    else:\n",
    "        grade = \"Fail\"\n",
    "else:\n",
    "    if pushup >= 5:\n",
    "        grage = \"Pass\"\n",
    "    else:\n",
    "        grade = \"Fail\"\n",
    "\n",
    "print(grade)"
   ]
  },
  {
   "cell_type": "code",
   "execution_count": 31,
   "metadata": {},
   "outputs": [
    {
     "name": "stdout",
     "output_type": "stream",
     "text": [
      "Fail\n"
     ]
    }
   ],
   "source": [
    "sex = \"girl\"\n",
    "pushup = 8\n",
    "\n",
    "if sex == \"boy\":\n",
    "    if pushup >= 10:\n",
    "        grade = \"Pass\"\n",
    "    else:\n",
    "        grade = \"Fail\"\n",
    "else:\n",
    "    if pushup >= 5:\n",
    "        grage = \"Pass\"\n",
    "    else:\n",
    "        grade = \"Fail\"\n",
    "\n",
    "print(grade)"
   ]
  },
  {
   "cell_type": "code",
   "execution_count": 32,
   "metadata": {},
   "outputs": [
    {
     "name": "stdout",
     "output_type": "stream",
     "text": [
      "Fail\n"
     ]
    }
   ],
   "source": [
    "sex = \"boy\"\n",
    "pushup = 5\n",
    "\n",
    "if sex == \"boy\":\n",
    "    if pushup >= 10:\n",
    "        grade = \"Pass\"\n",
    "    else:\n",
    "        grade = \"Fail\"\n",
    "else:\n",
    "    if pushup >= 5:\n",
    "        grage = \"Pass\"\n",
    "    else:\n",
    "        grade = \"Fail\"\n",
    "\n",
    "print(grade)"
   ]
  },
  {
   "cell_type": "code",
   "execution_count": 33,
   "metadata": {},
   "outputs": [
    {
     "name": "stdout",
     "output_type": "stream",
     "text": [
      "Pass\n"
     ]
    }
   ],
   "source": [
    "sex = \"boy\"\n",
    "pushup = 15\n",
    "\n",
    "if sex == \"boy\":\n",
    "    if pushup >= 10:\n",
    "        grade = \"Pass\"\n",
    "    else:\n",
    "        grade = \"Fail\"\n",
    "else:\n",
    "    if pushup >= 5:\n",
    "        grage = \"Pass\"\n",
    "    else:\n",
    "        grade = \"Fail\"\n",
    "\n",
    "print(grade)"
   ]
  },
  {
   "cell_type": "code",
   "execution_count": 34,
   "metadata": {},
   "outputs": [
    {
     "name": "stdout",
     "output_type": "stream",
     "text": [
      "Fail\n"
     ]
    }
   ],
   "source": [
    "sex = \"boy\"\n",
    "pushup = 5\n",
    "\n",
    "if sex == \"boy\":\n",
    "    if pushup >= 10:\n",
    "        grade = \"Pass\"\n",
    "    else:\n",
    "        grade = \"Fail\"\n",
    "else:\n",
    "    if pushup >= 5:\n",
    "        grage = \"Pass\"\n",
    "    else:\n",
    "        grade = \"Fail\"\n",
    "\n",
    "print(grade)"
   ]
  },
  {
   "cell_type": "code",
   "execution_count": 35,
   "metadata": {},
   "outputs": [
    {
     "name": "stdout",
     "output_type": "stream",
     "text": [
      "Fail\n"
     ]
    }
   ],
   "source": [
    "sex = \"girl\"\n",
    "pushup = 7\n",
    "\n",
    "if sex == \"boy\":\n",
    "    if pushup >= 10:\n",
    "        grade = \"Pass\"\n",
    "    else:\n",
    "        grade = \"Fail\"\n",
    "else:\n",
    "    if pushup >= 5:\n",
    "        grage = \"Pass\"\n",
    "    else:\n",
    "        grade = \"Fail\"\n",
    "\n",
    "print(grade)"
   ]
  },
  {
   "cell_type": "code",
   "execution_count": 36,
   "metadata": {},
   "outputs": [
    {
     "ename": "SyntaxError",
     "evalue": "invalid syntax (<ipython-input-36-a615efafc8c3>, line 9)",
     "output_type": "error",
     "traceback": [
      "\u001b[1;36m  File \u001b[1;32m\"<ipython-input-36-a615efafc8c3>\"\u001b[1;36m, line \u001b[1;32m9\u001b[0m\n\u001b[1;33m    else sex != \"boy\":\u001b[0m\n\u001b[1;37m           ^\u001b[0m\n\u001b[1;31mSyntaxError\u001b[0m\u001b[1;31m:\u001b[0m invalid syntax\n"
     ]
    }
   ],
   "source": [
    "sex = \"girl\"\n",
    "pushup = 7\n",
    "\n",
    "if sex == \"boy\":\n",
    "    if pushup >= 10:\n",
    "        grade = \"Pass\"\n",
    "    else:\n",
    "        grade = \"Fail\"\n",
    "else sex != \"boy\":\n",
    "    if pushup >= 5:\n",
    "        grage = \"Pass\"\n",
    "    else:\n",
    "        grade = \"Fail\"\n",
    "\n",
    "print(grade)"
   ]
  },
  {
   "cell_type": "code",
   "execution_count": 37,
   "metadata": {},
   "outputs": [
    {
     "name": "stdout",
     "output_type": "stream",
     "text": [
      "Fail\n"
     ]
    }
   ],
   "source": [
    "sex = \"girl\"\n",
    "pushup = 7\n",
    "\n",
    "if sex == \"boy\":\n",
    "    if pushup >= 10:\n",
    "        grade = \"Pass\"\n",
    "    else:\n",
    "        grade = \"Fail\"\n",
    "else:\n",
    "    if pushup >= 5:\n",
    "        grage = \"Pass\"\n",
    "    else:\n",
    "        grade = \"sdsdsd\"\n",
    "\n",
    "print(grade)"
   ]
  },
  {
   "cell_type": "code",
   "execution_count": 38,
   "metadata": {},
   "outputs": [
    {
     "name": "stdout",
     "output_type": "stream",
     "text": [
      "Fail\n"
     ]
    }
   ],
   "source": [
    "sex = \"girl\"\n",
    "pushup = 7\n",
    "\n",
    "if sex == \"boy\":\n",
    "    if pushup >= 10:\n",
    "        grade = \"Pass\"\n",
    "    else:\n",
    "        grade = \"Fail\"\n",
    "else:\n",
    "    if pushup >= 5:\n",
    "        grage = \"Pass\"\n",
    "    else:\n",
    "        grade = \"sdsdsd\"\n",
    "\n",
    "print(grade)"
   ]
  },
  {
   "cell_type": "code",
   "execution_count": 39,
   "metadata": {},
   "outputs": [
    {
     "name": "stdout",
     "output_type": "stream",
     "text": [
      "Fail\n"
     ]
    }
   ],
   "source": [
    "sex = \"girl\"\n",
    "pushup = 7\n",
    "\n",
    "if sex == \"boy\":\n",
    "    if pushup >= 10:\n",
    "        grade = \"Pass\"\n",
    "    else:\n",
    "        grade = \"ABCD\"\n",
    "else:\n",
    "    if pushup >= 5:\n",
    "        grage = \"Pass\"\n",
    "    else:\n",
    "        grade = \"sdsdsd\"\n",
    "\n",
    "print(grade)"
   ]
  },
  {
   "cell_type": "code",
   "execution_count": 40,
   "metadata": {},
   "outputs": [
    {
     "name": "stdout",
     "output_type": "stream",
     "text": [
      "Fail\n"
     ]
    }
   ],
   "source": [
    "sex = \"girl\"\n",
    "pushup = 7\n",
    "\n",
    "if sex == \"boy\":\n",
    "    if pushup >= 10:\n",
    "        grade = \"Pass\"\n",
    "    else:\n",
    "        grade = \"ABCD\"\n",
    "else:\n",
    "    if pushup >= 5:\n",
    "        grage = \"Pass\"\n",
    "    else:\n",
    "        grade = \"sdsdsd\"\n",
    "\n",
    "print(grade)"
   ]
  },
  {
   "cell_type": "code",
   "execution_count": 41,
   "metadata": {},
   "outputs": [
    {
     "name": "stdout",
     "output_type": "stream",
     "text": [
      "ABCD\n"
     ]
    }
   ],
   "source": [
    "sex = \"boy\"\n",
    "pushup = 7\n",
    "\n",
    "if sex == \"boy\":\n",
    "    if pushup >= 10:\n",
    "        grade = \"Pass\"\n",
    "    else:\n",
    "        grade = \"ABCD\"\n",
    "else:\n",
    "    if pushup >= 5:\n",
    "        grage = \"Pass\"\n",
    "    else:\n",
    "        grade = \"sdsdsd\"\n",
    "\n",
    "print(grade)"
   ]
  },
  {
   "cell_type": "code",
   "execution_count": 42,
   "metadata": {},
   "outputs": [
    {
     "name": "stdout",
     "output_type": "stream",
     "text": [
      "Pass\n"
     ]
    }
   ],
   "source": [
    "sex = \"boy\"\n",
    "pushup = 17\n",
    "\n",
    "if sex == \"boy\":\n",
    "    if pushup >= 10:\n",
    "        grade = \"Pass\"\n",
    "    else:\n",
    "        grade = \"ABCD\"\n",
    "else:\n",
    "    if pushup >= 5:\n",
    "        grage = \"Pass\"\n",
    "    else:\n",
    "        grade = \"sdsdsd\"\n",
    "\n",
    "print(grade)"
   ]
  },
  {
   "cell_type": "code",
   "execution_count": 43,
   "metadata": {},
   "outputs": [
    {
     "name": "stdout",
     "output_type": "stream",
     "text": [
      "Pass\n"
     ]
    }
   ],
   "source": [
    "sex = \"women\"\n",
    "pushup = 17\n",
    "\n",
    "if sex == \"boy\":\n",
    "    if pushup >= 10:\n",
    "        grade = \"Pass\"\n",
    "    else:\n",
    "        grade = \"ABCD\"\n",
    "else:\n",
    "    if pushup >= 5:\n",
    "        grage = \"Pass\"\n",
    "    else:\n",
    "        grade = \"sdsdsd\"\n",
    "\n",
    "print(grade)"
   ]
  },
  {
   "cell_type": "code",
   "execution_count": 44,
   "metadata": {},
   "outputs": [
    {
     "name": "stdout",
     "output_type": "stream",
     "text": [
      "Pass\n"
     ]
    }
   ],
   "source": [
    "sex = \"women\"\n",
    "pushup = 6\n",
    "\n",
    "if sex == \"boy\":\n",
    "    if pushup >= 10:\n",
    "        grade = \"Pass\"\n",
    "    else:\n",
    "        grade = \"ABCD\"\n",
    "else:\n",
    "    if pushup >= 5:\n",
    "        grage = \"Pass\"\n",
    "    else:\n",
    "        grade = \"sdsdsd\"\n",
    "\n",
    "print(grade)"
   ]
  },
  {
   "cell_type": "code",
   "execution_count": 45,
   "metadata": {},
   "outputs": [
    {
     "name": "stdout",
     "output_type": "stream",
     "text": [
      "sdsdsd\n"
     ]
    }
   ],
   "source": [
    "sex = \"women\"\n",
    "pushup = 3\n",
    "\n",
    "if sex == \"boy\":\n",
    "    if pushup >= 10:\n",
    "        grade = \"Pass\"\n",
    "    else:\n",
    "        grade = \"ABCD\"\n",
    "else:\n",
    "    if pushup >= 5:\n",
    "        grage = \"Pass\"\n",
    "    else:\n",
    "        grade = \"sdsdsd\"\n",
    "\n",
    "print(grade)"
   ]
  },
  {
   "cell_type": "code",
   "execution_count": 46,
   "metadata": {},
   "outputs": [],
   "source": [
    "#자백 = 1, 자백X = 0"
   ]
  },
  {
   "cell_type": "code",
   "execution_count": 47,
   "metadata": {},
   "outputs": [
    {
     "ename": "SyntaxError",
     "evalue": "invalid syntax (<ipython-input-47-d77e40d554c5>, line 4)",
     "output_type": "error",
     "traceback": [
      "\u001b[1;36m  File \u001b[1;32m\"<ipython-input-47-d77e40d554c5>\"\u001b[1;36m, line \u001b[1;32m4\u001b[0m\n\u001b[1;33m    if XA = 1:\u001b[0m\n\u001b[1;37m          ^\u001b[0m\n\u001b[1;31mSyntaxError\u001b[0m\u001b[1;31m:\u001b[0m invalid syntax\n"
     ]
    }
   ],
   "source": [
    "#자백 = 1, 자백X = 0\n",
    "XA = 0\n",
    "XB = 0\n",
    "if XA == 1:\n",
    "    if XB == 1:\n",
    "        (YA,YB) = (5,5)\n",
    "    else:\n",
    "        (YA,YB) = (0,10)\n",
    "else:\n",
    "    if XB == 1:\n",
    "        (YA,YB) = (10,0)\n",
    "    else:\n",
    "        (YA,YB) = (1,1)\n",
    "\n",
    "print(\"XA의 형량은\" + YA + \" 년입니다.\")\n",
    "print(\"XB의 형량은\" + YB + \" 년입니다.\")"
   ]
  },
  {
   "cell_type": "code",
   "execution_count": 48,
   "metadata": {},
   "outputs": [
    {
     "ename": "TypeError",
     "evalue": "can only concatenate str (not \"int\") to str",
     "output_type": "error",
     "traceback": [
      "\u001b[1;31m---------------------------------------------------------------------------\u001b[0m",
      "\u001b[1;31mTypeError\u001b[0m                                 Traceback (most recent call last)",
      "\u001b[1;32m<ipython-input-48-bbb64b5e432c>\u001b[0m in \u001b[0;36m<module>\u001b[1;34m\u001b[0m\n\u001b[0;32m     13\u001b[0m         \u001b[1;33m(\u001b[0m\u001b[0mYA\u001b[0m\u001b[1;33m,\u001b[0m\u001b[0mYB\u001b[0m\u001b[1;33m)\u001b[0m \u001b[1;33m=\u001b[0m \u001b[1;33m(\u001b[0m\u001b[1;36m1\u001b[0m\u001b[1;33m,\u001b[0m\u001b[1;36m1\u001b[0m\u001b[1;33m)\u001b[0m\u001b[1;33m\u001b[0m\u001b[1;33m\u001b[0m\u001b[0m\n\u001b[0;32m     14\u001b[0m \u001b[1;33m\u001b[0m\u001b[0m\n\u001b[1;32m---> 15\u001b[1;33m \u001b[0mprint\u001b[0m\u001b[1;33m(\u001b[0m\u001b[1;34m\"XA의 형량은\"\u001b[0m \u001b[1;33m+\u001b[0m \u001b[0mYA\u001b[0m \u001b[1;33m+\u001b[0m \u001b[1;34m\" 년입니다.\"\u001b[0m\u001b[1;33m)\u001b[0m\u001b[1;33m\u001b[0m\u001b[1;33m\u001b[0m\u001b[0m\n\u001b[0m\u001b[0;32m     16\u001b[0m \u001b[0mprint\u001b[0m\u001b[1;33m(\u001b[0m\u001b[1;34m\"XB의 형량은\"\u001b[0m \u001b[1;33m+\u001b[0m \u001b[0mYB\u001b[0m \u001b[1;33m+\u001b[0m \u001b[1;34m\" 년입니다.\"\u001b[0m\u001b[1;33m)\u001b[0m\u001b[1;33m\u001b[0m\u001b[1;33m\u001b[0m\u001b[0m\n",
      "\u001b[1;31mTypeError\u001b[0m: can only concatenate str (not \"int\") to str"
     ]
    }
   ],
   "source": [
    "#자백 = 1, 자백X = 0\n",
    "XA = 0\n",
    "XB = 0\n",
    "if XA == 1:\n",
    "    if XB == 1:\n",
    "        (YA,YB) = (5,5)\n",
    "    else:\n",
    "        (YA,YB) = (0,10)\n",
    "else:\n",
    "    if XB == 1:\n",
    "        (YA,YB) = (10,0)\n",
    "    else:\n",
    "        (YA,YB) = (1,1)\n",
    "\n",
    "print(\"XA의 형량은\" + YA + \" 년입니다.\")\n",
    "print(\"XB의 형량은\" + YB + \" 년입니다.\")"
   ]
  },
  {
   "cell_type": "code",
   "execution_count": 49,
   "metadata": {},
   "outputs": [
    {
     "name": "stdout",
     "output_type": "stream",
     "text": [
      "XA의 형량은1 년입니다.\n",
      "XB의 형량은1 년입니다.\n"
     ]
    }
   ],
   "source": [
    "#자백 = 1, 자백X = 0\n",
    "XA = 0\n",
    "XB = 0\n",
    "if XA == 1:\n",
    "    if XB == 1:\n",
    "        (YA,YB) = (5,5)\n",
    "    else:\n",
    "        (YA,YB) = (0,10)\n",
    "else:\n",
    "    if XB == 1:\n",
    "        (YA,YB) = (10,0)\n",
    "    else:\n",
    "        (YA,YB) = (1,1)\n",
    "\n",
    "print(\"XA의 형량은\" + str(YA) + \" 년입니다.\")\n",
    "print(\"XB의 형량은\" + str(YB) + \" 년입니다.\")"
   ]
  },
  {
   "cell_type": "code",
   "execution_count": 50,
   "metadata": {
    "scrolled": true
   },
   "outputs": [
    {
     "name": "stdout",
     "output_type": "stream",
     "text": [
      "XA의 형량은 0 년입니다.\n",
      "XB의 형량은 10 년입니다.\n"
     ]
    }
   ],
   "source": [
    "#자백 = 1, 자백X = 0\n",
    "XA = 1\n",
    "XB = 0\n",
    "if XA == 1:\n",
    "    if XB == 1:\n",
    "        (YA,YB) = (5,5)\n",
    "    else:\n",
    "        (YA,YB) = (0,10)\n",
    "else:\n",
    "    if XB == 1:\n",
    "        (YA,YB) = (10,0)\n",
    "    else:\n",
    "        (YA,YB) = (1,1)\n",
    "\n",
    "print(\"XA의 형량은 \" + str(YA) + \" 년입니다.\")\n",
    "print(\"XB의 형량은 \" + str(YB) + \" 년입니다.\")"
   ]
  },
  {
   "cell_type": "code",
   "execution_count": 51,
   "metadata": {},
   "outputs": [
    {
     "name": "stdout",
     "output_type": "stream",
     "text": [
      "XA의 형량은 5 년입니다.\n",
      "XB의 형량은 5 년입니다.\n"
     ]
    }
   ],
   "source": [
    "#자백 = 1, 자백X = 0\n",
    "XA = 1\n",
    "XB = 1\n",
    "if XA == 1:\n",
    "    if XB == 1:\n",
    "        (YA,YB) = (5,5)\n",
    "    else:\n",
    "        (YA,YB) = (0,10)\n",
    "else:\n",
    "    if XB == 1:\n",
    "        (YA,YB) = (10,0)\n",
    "    else:\n",
    "        (YA,YB) = (1,1)\n",
    "\n",
    "print(\"XA의 형량은 \" + str(YA) + \" 년입니다.\")\n",
    "print(\"XB의 형량은 \" + str(YB) + \" 년입니다.\")"
   ]
  },
  {
   "cell_type": "code",
   "execution_count": 52,
   "metadata": {},
   "outputs": [
    {
     "name": "stdout",
     "output_type": "stream",
     "text": [
      "XA의 형량은 0 년입니다.\n",
      "XB의 형량은 10 년입니다.\n"
     ]
    }
   ],
   "source": [
    "#자백 = 1, 자백X = 0\n",
    "XA = 1\n",
    "XB = 0\n",
    "if XA == 1:\n",
    "    if XB == 1:\n",
    "        (YA,YB) = (5,5)\n",
    "    else:\n",
    "        (YA,YB) = (0,10)\n",
    "else:\n",
    "    if XB == 1:\n",
    "        (YA,YB) = (10,0)\n",
    "    else:\n",
    "        (YA,YB) = (1,1)\n",
    "\n",
    "print(\"XA의 형량은 \" + str(YA) + \" 년입니다.\")\n",
    "print(\"XB의 형량은 \" + str(YB) + \" 년입니다.\") #3.2.13 죄수의 딜레마"
   ]
  },
  {
   "cell_type": "code",
   "execution_count": 53,
   "metadata": {},
   "outputs": [
    {
     "name": "stdout",
     "output_type": "stream",
     "text": [
      "1600\n"
     ]
    }
   ],
   "source": [
    "x = 2\n",
    "def twotime(x):\n",
    "    y = 2 * x\n",
    "    return y\n",
    "print(y)"
   ]
  },
  {
   "cell_type": "code",
   "execution_count": 54,
   "metadata": {},
   "outputs": [
    {
     "name": "stdout",
     "output_type": "stream",
     "text": [
      "1600\n"
     ]
    }
   ],
   "source": [
    "x = 1\n",
    "def twotime(x):\n",
    "    y = 2 * x\n",
    "    return y\n",
    "print(y)"
   ]
  },
  {
   "cell_type": "code",
   "execution_count": 55,
   "metadata": {},
   "outputs": [
    {
     "name": "stdout",
     "output_type": "stream",
     "text": [
      "1600\n"
     ]
    }
   ],
   "source": [
    "x = 1\n",
    "def twotime(x):\n",
    "    y = 3 * x\n",
    "    return y\n",
    "print(y)"
   ]
  },
  {
   "cell_type": "code",
   "execution_count": 56,
   "metadata": {},
   "outputs": [
    {
     "data": {
      "text/plain": [
       "6"
      ]
     },
     "execution_count": 56,
     "metadata": {},
     "output_type": "execute_result"
    }
   ],
   "source": [
    "def twotime(x):\n",
    "    y = 3 * x\n",
    "    return y\n",
    "twotime(2)"
   ]
  },
  {
   "cell_type": "code",
   "execution_count": 57,
   "metadata": {},
   "outputs": [
    {
     "data": {
      "text/plain": [
       "27"
      ]
     },
     "execution_count": 57,
     "metadata": {},
     "output_type": "execute_result"
    }
   ],
   "source": [
    "def twotime(x):\n",
    "    y = 3 * x\n",
    "    return y\n",
    "twotime(9)"
   ]
  },
  {
   "cell_type": "code",
   "execution_count": 58,
   "metadata": {},
   "outputs": [
    {
     "data": {
      "text/plain": [
       "'홀수'"
      ]
     },
     "execution_count": 58,
     "metadata": {},
     "output_type": "execute_result"
    }
   ],
   "source": [
    "def boolean(x):\n",
    "    if x % 2 == 0:\n",
    "        y = \"짝수\"\n",
    "    else:\n",
    "        y = \"홀수\"\n",
    "    return y\n",
    "boolean(13)"
   ]
  },
  {
   "cell_type": "code",
   "execution_count": 59,
   "metadata": {},
   "outputs": [
    {
     "data": {
      "text/plain": [
       "'짝수'"
      ]
     },
     "execution_count": 59,
     "metadata": {},
     "output_type": "execute_result"
    }
   ],
   "source": [
    "def boolean(x):\n",
    "    if x % 2 == 0:\n",
    "        y = \"짝수\"\n",
    "    else:\n",
    "        y = \"홀수\"\n",
    "    return y\n",
    "boolean(12) # 연습문제1-1"
   ]
  },
  {
   "cell_type": "code",
   "execution_count": 60,
   "metadata": {},
   "outputs": [
    {
     "data": {
      "text/plain": [
       "31"
      ]
     },
     "execution_count": 60,
     "metadata": {},
     "output_type": "execute_result"
    }
   ],
   "source": [
    "def days1(x):\n",
    "    if x == 2:\n",
    "        y = 28\n",
    "    elif x == 4 | 6 | 9 | 11:\n",
    "        y = 30\n",
    "    else:\n",
    "        y = 31\n",
    "    return y\n",
    "days1(11)"
   ]
  },
  {
   "cell_type": "code",
   "execution_count": 61,
   "metadata": {},
   "outputs": [
    {
     "data": {
      "text/plain": [
       "28"
      ]
     },
     "execution_count": 61,
     "metadata": {},
     "output_type": "execute_result"
    }
   ],
   "source": [
    "def days1(x):\n",
    "    if x == 2:\n",
    "        y = 28\n",
    "    elif x == 4 | 6 | 9 | 11:\n",
    "        y = 30\n",
    "    else:\n",
    "        y = 31\n",
    "    return y\n",
    "days1(2)"
   ]
  },
  {
   "cell_type": "code",
   "execution_count": 62,
   "metadata": {},
   "outputs": [
    {
     "data": {
      "text/plain": [
       "31"
      ]
     },
     "execution_count": 62,
     "metadata": {},
     "output_type": "execute_result"
    }
   ],
   "source": [
    "def days1(x):\n",
    "    if x == 2:\n",
    "        y = 28\n",
    "    elif x == 4 | 6 | 9 | 11:\n",
    "        y = 30\n",
    "    else:\n",
    "        y = 31\n",
    "    return y\n",
    "days1(1)"
   ]
  },
  {
   "cell_type": "code",
   "execution_count": 63,
   "metadata": {},
   "outputs": [
    {
     "data": {
      "text/plain": [
       "31"
      ]
     },
     "execution_count": 63,
     "metadata": {},
     "output_type": "execute_result"
    }
   ],
   "source": [
    "def days1(x):\n",
    "    if x == 2:\n",
    "        y = 28\n",
    "    elif x == 4 | 6 | 9 | 11:\n",
    "        y = 30\n",
    "    else:\n",
    "        y = 31\n",
    "    return y\n",
    "days1(4)"
   ]
  },
  {
   "cell_type": "code",
   "execution_count": 64,
   "metadata": {},
   "outputs": [
    {
     "ename": "SyntaxError",
     "evalue": "invalid syntax (<ipython-input-64-c8dfc769d26a>, line 4)",
     "output_type": "error",
     "traceback": [
      "\u001b[1;36m  File \u001b[1;32m\"<ipython-input-64-c8dfc769d26a>\"\u001b[1;36m, line \u001b[1;32m4\u001b[0m\n\u001b[1;33m    elif (x == 4) | (x == 6) | (x == 9) | (x== 11)\u001b[0m\n\u001b[1;37m                                                  ^\u001b[0m\n\u001b[1;31mSyntaxError\u001b[0m\u001b[1;31m:\u001b[0m invalid syntax\n"
     ]
    }
   ],
   "source": [
    "def days1(x):\n",
    "    if x == 2:\n",
    "        y = 28\n",
    "    elif (x == 4) | (x == 6) | (x == 9) | (x== 11)\n",
    "        y = 30\n",
    "    else:\n",
    "        y = 31\n",
    "    return y\n",
    "days1(9)"
   ]
  },
  {
   "cell_type": "code",
   "execution_count": 65,
   "metadata": {},
   "outputs": [
    {
     "data": {
      "text/plain": [
       "30"
      ]
     },
     "execution_count": 65,
     "metadata": {},
     "output_type": "execute_result"
    }
   ],
   "source": [
    "def days1(x):\n",
    "    if x == 2:\n",
    "        y = 28\n",
    "    elif (x == 4) | (x == 6) | (x == 9) | (x== 11):\n",
    "        y = 30\n",
    "    else:\n",
    "        y = 31\n",
    "    return y\n",
    "days1(9)"
   ]
  },
  {
   "cell_type": "code",
   "execution_count": 66,
   "metadata": {},
   "outputs": [
    {
     "data": {
      "text/plain": [
       "30"
      ]
     },
     "execution_count": 66,
     "metadata": {},
     "output_type": "execute_result"
    }
   ],
   "source": [
    "def days1(x):\n",
    "    if x == 2:\n",
    "        y = 28\n",
    "    elif (x == 4) | (x == 6) | (x == 9) | (x== 11):\n",
    "        y = 30\n",
    "    else:\n",
    "        y = 31\n",
    "    return y\n",
    "days1(9)\n",
    "#연습 문제 2"
   ]
  },
  {
   "cell_type": "code",
   "execution_count": 67,
   "metadata": {},
   "outputs": [
    {
     "data": {
      "text/plain": [
       "10"
      ]
     },
     "execution_count": 67,
     "metadata": {},
     "output_type": "execute_result"
    }
   ],
   "source": [
    "def add(x,y):\n",
    "    return x + y\n",
    "add(2,8)"
   ]
  },
  {
   "cell_type": "code",
   "execution_count": 68,
   "metadata": {},
   "outputs": [
    {
     "data": {
      "text/plain": [
       "4"
      ]
     },
     "execution_count": 68,
     "metadata": {},
     "output_type": "execute_result"
    }
   ],
   "source": [
    "def f(x):\n",
    "    return 2 * x\n",
    "f(2)"
   ]
  },
  {
   "cell_type": "code",
   "execution_count": 69,
   "metadata": {},
   "outputs": [],
   "source": [
    "del y"
   ]
  },
  {
   "cell_type": "code",
   "execution_count": 70,
   "metadata": {},
   "outputs": [
    {
     "ename": "NameError",
     "evalue": "name 'mincheol' is not defined",
     "output_type": "error",
     "traceback": [
      "\u001b[1;31m---------------------------------------------------------------------------\u001b[0m",
      "\u001b[1;31mNameError\u001b[0m                                 Traceback (most recent call last)",
      "\u001b[1;32m<ipython-input-70-da8c859d4f4c>\u001b[0m in \u001b[0;36m<module>\u001b[1;34m\u001b[0m\n\u001b[1;32m----> 1\u001b[1;33m \u001b[1;32mdel\u001b[0m \u001b[0mmincheol\u001b[0m\u001b[1;33m\u001b[0m\u001b[1;33m\u001b[0m\u001b[0m\n\u001b[0m",
      "\u001b[1;31mNameError\u001b[0m: name 'mincheol' is not defined"
     ]
    }
   ],
   "source": [
    "del mincheol"
   ]
  },
  {
   "cell_type": "code",
   "execution_count": 71,
   "metadata": {},
   "outputs": [
    {
     "name": "stdout",
     "output_type": "stream",
     "text": [
      "y= 30\n"
     ]
    },
    {
     "data": {
      "text/plain": [
       "30"
      ]
     },
     "execution_count": 71,
     "metadata": {},
     "output_type": "execute_result"
    }
   ],
   "source": [
    "def f(x):\n",
    "    y = 10 * x\n",
    "    print(\"y=\",y)\n",
    "    return y\n",
    "f(3)"
   ]
  },
  {
   "cell_type": "code",
   "execution_count": 72,
   "metadata": {},
   "outputs": [
    {
     "ename": "NameError",
     "evalue": "name 'y' is not defined",
     "output_type": "error",
     "traceback": [
      "\u001b[1;31m---------------------------------------------------------------------------\u001b[0m",
      "\u001b[1;31mNameError\u001b[0m                                 Traceback (most recent call last)",
      "\u001b[1;32m<ipython-input-72-aa8f3401fc42>\u001b[0m in \u001b[0;36m<module>\u001b[1;34m\u001b[0m\n\u001b[1;32m----> 1\u001b[1;33m \u001b[1;32mdel\u001b[0m \u001b[0my\u001b[0m\u001b[1;33m\u001b[0m\u001b[1;33m\u001b[0m\u001b[0m\n\u001b[0m",
      "\u001b[1;31mNameError\u001b[0m: name 'y' is not defined"
     ]
    }
   ],
   "source": [
    "del y"
   ]
  },
  {
   "cell_type": "code",
   "execution_count": 73,
   "metadata": {},
   "outputs": [],
   "source": [
    "y = 1000"
   ]
  },
  {
   "cell_type": "code",
   "execution_count": 74,
   "metadata": {},
   "outputs": [
    {
     "data": {
      "text/plain": [
       "1000"
      ]
     },
     "execution_count": 74,
     "metadata": {},
     "output_type": "execute_result"
    }
   ],
   "source": [
    "y"
   ]
  },
  {
   "cell_type": "code",
   "execution_count": 75,
   "metadata": {},
   "outputs": [
    {
     "name": "stdout",
     "output_type": "stream",
     "text": [
      "y= 13.0\n"
     ]
    },
    {
     "data": {
      "text/plain": [
       "13.0"
      ]
     },
     "execution_count": 75,
     "metadata": {},
     "output_type": "execute_result"
    }
   ],
   "source": [
    "f(1.3)"
   ]
  },
  {
   "cell_type": "code",
   "execution_count": 76,
   "metadata": {},
   "outputs": [],
   "source": [
    "del y"
   ]
  },
  {
   "cell_type": "code",
   "execution_count": 77,
   "metadata": {},
   "outputs": [
    {
     "data": {
      "text/plain": [
       "38"
      ]
     },
     "execution_count": 77,
     "metadata": {},
     "output_type": "execute_result"
    }
   ],
   "source": [
    "def diffsum(x,y,z):\n",
    "    a = x + y + z\n",
    "    b = x ** 2 + y ** 2 + z ** 2 \n",
    "    c = abs(a - b)\n",
    "    return c\n",
    "diffsum(3,4,5)"
   ]
  },
  {
   "cell_type": "code",
   "execution_count": 78,
   "metadata": {},
   "outputs": [
    {
     "data": {
      "text/plain": [
       "74"
      ]
     },
     "execution_count": 78,
     "metadata": {},
     "output_type": "execute_result"
    }
   ],
   "source": [
    "def diffsum(x,y,z):\n",
    "    a = x + y + z\n",
    "    b = x ** 2 + y ** 2 + z ** 2 \n",
    "    c = abs(a - b)\n",
    "    return c\n",
    "diffsum(3,4,8) # 연습 문제 4"
   ]
  },
  {
   "cell_type": "code",
   "execution_count": 79,
   "metadata": {},
   "outputs": [
    {
     "name": "stdout",
     "output_type": "stream",
     "text": [
      "y= 60\n",
      "z= 3\n"
     ]
    },
    {
     "data": {
      "text/plain": [
       "60"
      ]
     },
     "execution_count": 79,
     "metadata": {},
     "output_type": "execute_result"
    }
   ],
   "source": [
    "z = 3\n",
    "\n",
    "def f2(x):\n",
    "    y = z * x\n",
    "    print(\"y=\",y)\n",
    "    print(\"z=\",z)\n",
    "    return y\n",
    "f2(20)"
   ]
  },
  {
   "cell_type": "code",
   "execution_count": 80,
   "metadata": {},
   "outputs": [
    {
     "ename": "SyntaxError",
     "evalue": "invalid syntax (<ipython-input-80-77b692655cf1>, line 7)",
     "output_type": "error",
     "traceback": [
      "\u001b[1;36m  File \u001b[1;32m\"<ipython-input-80-77b692655cf1>\"\u001b[1;36m, line \u001b[1;32m7\u001b[0m\n\u001b[1;33m    def diffsum2(diffsum(x,y,z)):\u001b[0m\n\u001b[1;37m                        ^\u001b[0m\n\u001b[1;31mSyntaxError\u001b[0m\u001b[1;31m:\u001b[0m invalid syntax\n"
     ]
    }
   ],
   "source": [
    "m = 0\n",
    "def diffsum(x,y,z):\n",
    "    a = x + y + z\n",
    "    b = x ** 2 + y ** 2 + z ** 2 \n",
    "    c = abs(a - b)\n",
    "    return c\n",
    "def diffsum2(diffsum(x,y,z)):\n",
    "    if diffsum > m\n",
    "    return m"
   ]
  },
  {
   "cell_type": "code",
   "execution_count": 81,
   "metadata": {},
   "outputs": [
    {
     "ename": "SyntaxError",
     "evalue": "invalid syntax (<ipython-input-81-b24a65490022>, line 8)",
     "output_type": "error",
     "traceback": [
      "\u001b[1;36m  File \u001b[1;32m\"<ipython-input-81-b24a65490022>\"\u001b[1;36m, line \u001b[1;32m8\u001b[0m\n\u001b[1;33m    if diffsum > m\u001b[0m\n\u001b[1;37m                  ^\u001b[0m\n\u001b[1;31mSyntaxError\u001b[0m\u001b[1;31m:\u001b[0m invalid syntax\n"
     ]
    }
   ],
   "source": [
    "m = 0\n",
    "def diffsum(x,y,z):\n",
    "    a = x + y + z\n",
    "    b = x ** 2 + y ** 2 + z ** 2 \n",
    "    c = abs(a - b)\n",
    "    return c\n",
    "def diffsum2(c):\n",
    "    if c > m\n",
    "    return m"
   ]
  },
  {
   "cell_type": "code",
   "execution_count": 82,
   "metadata": {},
   "outputs": [
    {
     "ename": "SyntaxError",
     "evalue": "invalid syntax (<ipython-input-82-4ece614e8294>, line 8)",
     "output_type": "error",
     "traceback": [
      "\u001b[1;36m  File \u001b[1;32m\"<ipython-input-82-4ece614e8294>\"\u001b[1;36m, line \u001b[1;32m8\u001b[0m\n\u001b[1;33m    if c > m\u001b[0m\n\u001b[1;37m            ^\u001b[0m\n\u001b[1;31mSyntaxError\u001b[0m\u001b[1;31m:\u001b[0m invalid syntax\n"
     ]
    }
   ],
   "source": [
    "m = 0\n",
    "def diffsum(x,y,z):\n",
    "    a = x + y + z\n",
    "    b = x ** 2 + y ** 2 + z ** 2 \n",
    "    global c\n",
    "    c = abs(a - b)\n",
    "    return c\n",
    "def diffsum2(c):\n",
    "    if c > m\n",
    "    return m"
   ]
  },
  {
   "cell_type": "code",
   "execution_count": 83,
   "metadata": {},
   "outputs": [
    {
     "ename": "SyntaxError",
     "evalue": "invalid syntax (<ipython-input-83-c795412f89a9>, line 9)",
     "output_type": "error",
     "traceback": [
      "\u001b[1;36m  File \u001b[1;32m\"<ipython-input-83-c795412f89a9>\"\u001b[1;36m, line \u001b[1;32m9\u001b[0m\n\u001b[1;33m    if c > m\u001b[0m\n\u001b[1;37m            ^\u001b[0m\n\u001b[1;31mSyntaxError\u001b[0m\u001b[1;31m:\u001b[0m invalid syntax\n"
     ]
    }
   ],
   "source": [
    "m = 0\n",
    "def diffsum(x,y,z):\n",
    "    a = x + y + z\n",
    "    b = x ** 2 + y ** 2 + z ** 2 \n",
    "    global c\n",
    "    c = abs(a - b)\n",
    "    return c\n",
    "\n",
    "def diffsum2(c):\n",
    "    if c > m\n",
    "    return m"
   ]
  },
  {
   "cell_type": "code",
   "execution_count": 84,
   "metadata": {},
   "outputs": [],
   "source": [
    "z = 3\n",
    "\n",
    "def f2(x):\n",
    "    y = z * x\n",
    "    print(\"y=\",y)\n",
    "    print(\"z=\",z)\n",
    "    return y"
   ]
  },
  {
   "cell_type": "code",
   "execution_count": 85,
   "metadata": {},
   "outputs": [
    {
     "ename": "SyntaxError",
     "evalue": "invalid syntax (<ipython-input-85-6c395a00d7e5>, line 10)",
     "output_type": "error",
     "traceback": [
      "\u001b[1;36m  File \u001b[1;32m\"<ipython-input-85-6c395a00d7e5>\"\u001b[1;36m, line \u001b[1;32m10\u001b[0m\n\u001b[1;33m    if c > m\u001b[0m\n\u001b[1;37m            ^\u001b[0m\n\u001b[1;31mSyntaxError\u001b[0m\u001b[1;31m:\u001b[0m invalid syntax\n"
     ]
    }
   ],
   "source": [
    "m = 0\n",
    "def diffsum(x,y,z):\n",
    "    a = x + y + z\n",
    "    b = x ** 2 + y ** 2 + z ** 2 \n",
    "    global c\n",
    "    c = abs(a - b)\n",
    "    return c\n",
    "\n",
    "def diffsum2(c):\n",
    "    if c > m\n",
    "    return m"
   ]
  },
  {
   "cell_type": "code",
   "execution_count": 86,
   "metadata": {},
   "outputs": [],
   "source": [
    "m = 0\n",
    "def diffsum(x,y,z):\n",
    "    a = x + y + z\n",
    "    b = x ** 2 + y ** 2 + z ** 2 \n",
    "    global c\n",
    "    c = abs(a - b)\n",
    "    return c\n",
    "\n",
    "def diffsum2(c):\n",
    "    if c > m:\n",
    "        return m\n",
    "    else:\n",
    "        return c"
   ]
  },
  {
   "cell_type": "code",
   "execution_count": 87,
   "metadata": {},
   "outputs": [
    {
     "data": {
      "text/plain": [
       "20"
      ]
     },
     "execution_count": 87,
     "metadata": {},
     "output_type": "execute_result"
    }
   ],
   "source": [
    "m = 10\n",
    "def diffsum(x,y,z):\n",
    "    a = x + y + z\n",
    "    b = x ** 2 + y ** 2 + z ** 2 \n",
    "    global c\n",
    "    c = abs(a - b)\n",
    "    return c\n",
    "\n",
    "def diffsum2(c):\n",
    "    if c > m:\n",
    "        return m\n",
    "    else:\n",
    "        return c\n",
    "diffsum(2,3,4)"
   ]
  },
  {
   "cell_type": "code",
   "execution_count": 88,
   "metadata": {},
   "outputs": [],
   "source": [
    "m = 30\n",
    "def diffsum(x,y,z):\n",
    "    a = x + y + z\n",
    "    b = x ** 2 + y ** 2 + z ** 2 \n",
    "    global c\n",
    "    c = abs(a - b)\n",
    "    return c\n",
    "\n",
    "def diffsum2(c):\n",
    "    if c > m:\n",
    "        return m\n",
    "    else:\n",
    "        return c"
   ]
  },
  {
   "cell_type": "code",
   "execution_count": 89,
   "metadata": {},
   "outputs": [
    {
     "data": {
      "text/plain": [
       "20"
      ]
     },
     "execution_count": 89,
     "metadata": {},
     "output_type": "execute_result"
    }
   ],
   "source": [
    "m = 30\n",
    "def diffsum(x,y,z):\n",
    "    a = x + y + z\n",
    "    b = x ** 2 + y ** 2 + z ** 2 \n",
    "    global c\n",
    "    c = abs(a - b)\n",
    "    return c\n",
    "\n",
    "def diffsum2(c):\n",
    "    if c > m:\n",
    "        return m\n",
    "    else:\n",
    "        return c\n",
    "diffsum(2,3,4)"
   ]
  },
  {
   "cell_type": "code",
   "execution_count": 90,
   "metadata": {},
   "outputs": [
    {
     "data": {
      "text/plain": [
       "20"
      ]
     },
     "execution_count": 90,
     "metadata": {},
     "output_type": "execute_result"
    }
   ],
   "source": [
    "m = 5\n",
    "def diffsum(x,y,z):\n",
    "    a = x + y + z\n",
    "    b = x ** 2 + y ** 2 + z ** 2 \n",
    "    global c\n",
    "    c = abs(a - b)\n",
    "    return c\n",
    "\n",
    "def diffsum2(c):\n",
    "    if c > m:\n",
    "        return m\n",
    "    else:\n",
    "        return c\n",
    "diffsum(2,3,4)"
   ]
  },
  {
   "cell_type": "code",
   "execution_count": 91,
   "metadata": {},
   "outputs": [
    {
     "ename": "IndentationError",
     "evalue": "expected an indented block (<ipython-input-91-783ba422bcc2>, line 4)",
     "output_type": "error",
     "traceback": [
      "\u001b[1;36m  File \u001b[1;32m\"<ipython-input-91-783ba422bcc2>\"\u001b[1;36m, line \u001b[1;32m4\u001b[0m\n\u001b[1;33m    a = x + y + z\u001b[0m\n\u001b[1;37m    ^\u001b[0m\n\u001b[1;31mIndentationError\u001b[0m\u001b[1;31m:\u001b[0m expected an indented block\n"
     ]
    }
   ],
   "source": [
    "m = 0\n",
    "def diffsum2(c):\n",
    "    def diffsum(x,y,z):\n",
    "        a = x + y + z\n",
    "        b = x ** 2 + y ** 2 + z ** 2 \n",
    "        global c\n",
    "        c = abs(a - b)\n",
    "        return c\n",
    "\n",
    "    if c > m:\n",
    "        return m\n",
    "    else:\n",
    "        return c"
   ]
  },
  {
   "cell_type": "code",
   "execution_count": 92,
   "metadata": {},
   "outputs": [],
   "source": [
    "m = 0\n",
    "def diffsum2(c):\n",
    "    def diffsum(x,y,z):\n",
    "        a = x + y + z\n",
    "        b = x ** 2 + y ** 2 + z ** 2 \n",
    "        global c\n",
    "        c = abs(a - b)\n",
    "        return c\n",
    "\n",
    "    if c > m:\n",
    "        return m\n",
    "    else:\n",
    "        return c"
   ]
  },
  {
   "cell_type": "code",
   "execution_count": 28,
   "metadata": {},
   "outputs": [
    {
     "name": "stdout",
     "output_type": "stream",
     "text": [
      "m=8\n"
     ]
    },
    {
     "data": {
      "text/plain": [
       "8"
      ]
     },
     "execution_count": 28,
     "metadata": {},
     "output_type": "execute_result"
    }
   ],
   "source": [
    "#연습 문제 5 # 카톡해결\n",
    "def diffsum(x,y,z):\n",
    "    a = x + y + z\n",
    "    b = x ** 2 + y ** 2 + z ** 2\n",
    "    return abs(a - b)\n",
    "m = 0\n",
    "\n",
    "def diffsum2(x,y,z):\n",
    "    c = diffsum(x,y,z)\n",
    "    global m\n",
    "    if m >= c:\n",
    "        m = m\n",
    "    else:\n",
    "        m = c\n",
    "    print(\"m=\" + str(m))\n",
    "    return m\n",
    "\n",
    "\n",
    "diffsum2(1,2,3)"
   ]
  },
  {
   "cell_type": "code",
   "execution_count": 94,
   "metadata": {},
   "outputs": [
    {
     "name": "stdout",
     "output_type": "stream",
     "text": [
      "0\n"
     ]
    }
   ],
   "source": [
    "m = 0\n",
    "def diffsum2(c):\n",
    "    def diffsum(x,y,z):\n",
    "        a = x + y + z\n",
    "        b = x ** 2 + y ** 2 + z ** 2 \n",
    "        global c\n",
    "        c = abs(a - b)\n",
    "        return c\n",
    "\n",
    "    if c > m:\n",
    "        global m \n",
    "        m = c\n",
    "        return m\n",
    "    else:\n",
    "        return c\n",
    "diffsum(2,3,4)\n",
    "print(m)"
   ]
  },
  {
   "cell_type": "code",
   "execution_count": 95,
   "metadata": {},
   "outputs": [
    {
     "ename": "SyntaxError",
     "evalue": "name 'm' is used prior to global declaration (<ipython-input-95-6a07ccec8f07>, line 14)",
     "output_type": "error",
     "traceback": [
      "\u001b[1;36m  File \u001b[1;32m\"<ipython-input-95-6a07ccec8f07>\"\u001b[1;36m, line \u001b[1;32m14\u001b[0m\n\u001b[1;33m    else:\u001b[0m\n\u001b[1;37m         \n^\u001b[0m\n\u001b[1;31mSyntaxError\u001b[0m\u001b[1;31m:\u001b[0m name 'm' is used prior to global declaration\n"
     ]
    }
   ],
   "source": [
    "m = 0\n",
    "def diffsum2(c):\n",
    "    def diffsum(x,y,z):\n",
    "        a = x + y + z\n",
    "        b = x ** 2 + y ** 2 + z ** 2 \n",
    "        global c\n",
    "        c = abs(a - b)\n",
    "        return c\n",
    "\n",
    "    if c > m:\n",
    "        global m \n",
    "        m = c\n",
    "        return m\n",
    "    else:\n",
    "        return c\n",
    "diffsum(2,3,4)\n",
    "print(m)"
   ]
  },
  {
   "cell_type": "code",
   "execution_count": 96,
   "metadata": {},
   "outputs": [
    {
     "ename": "SyntaxError",
     "evalue": "name 'm' is used prior to global declaration (<ipython-input-96-6a07ccec8f07>, line 14)",
     "output_type": "error",
     "traceback": [
      "\u001b[1;36m  File \u001b[1;32m\"<ipython-input-96-6a07ccec8f07>\"\u001b[1;36m, line \u001b[1;32m14\u001b[0m\n\u001b[1;33m    else:\u001b[0m\n\u001b[1;37m         \n^\u001b[0m\n\u001b[1;31mSyntaxError\u001b[0m\u001b[1;31m:\u001b[0m name 'm' is used prior to global declaration\n"
     ]
    }
   ],
   "source": [
    "m = 0\n",
    "def diffsum2(c):\n",
    "    global m\n",
    "    def diffsum(x,y,z):\n",
    "        a = x + y + z\n",
    "        b = x ** 2 + y ** 2 + z ** 2 \n",
    "        global c\n",
    "        c = abs(a - b)\n",
    "        return c\n",
    "\n",
    "    if c > m:\n",
    "        m = c\n",
    "        return m\n",
    "    else:\n",
    "        return c\n",
    "diffsum(2,3,4)\n",
    "print(m)"
   ]
  },
  {
   "cell_type": "code",
   "execution_count": 97,
   "metadata": {},
   "outputs": [
    {
     "name": "stdout",
     "output_type": "stream",
     "text": [
      "0\n"
     ]
    }
   ],
   "source": [
    "m = 0\n",
    "def diffsum2(c):\n",
    "    global m\n",
    "    def diffsum(x,y,z):\n",
    "        a = x + y + z\n",
    "        b = x ** 2 + y ** 2 + z ** 2 \n",
    "        global c\n",
    "        c = abs(a - b)\n",
    "        return c\n",
    "\n",
    "    if c > m:\n",
    "        m = c\n",
    "        return m\n",
    "    else:\n",
    "        return c\n",
    "diffsum(2,3,4)\n",
    "print(m)"
   ]
  },
  {
   "cell_type": "code",
   "execution_count": 98,
   "metadata": {},
   "outputs": [
    {
     "name": "stdout",
     "output_type": "stream",
     "text": [
      "20\n",
      "0\n"
     ]
    }
   ],
   "source": [
    "m = 0\n",
    "def diffsum2(c):\n",
    "    global m\n",
    "    def diffsum(x,y,z):\n",
    "        a = x + y + z\n",
    "        b = x ** 2 + y ** 2 + z ** 2 \n",
    "        global c\n",
    "        c = abs(a - b)\n",
    "        return c\n",
    "\n",
    "    if c > m:\n",
    "        m = c\n",
    "        return m\n",
    "    else:\n",
    "        return c\n",
    "diffsum(2,3,4)\n",
    "print(c)\n",
    "print(m)"
   ]
  },
  {
   "cell_type": "code",
   "execution_count": 99,
   "metadata": {},
   "outputs": [
    {
     "name": "stdout",
     "output_type": "stream",
     "text": [
      "0\n",
      "20\n"
     ]
    }
   ],
   "source": [
    "m = 0\n",
    "def diffsum2(c):\n",
    "    def diffsum(x,y,z):\n",
    "        a = x + y + z\n",
    "        b = x ** 2 + y ** 2 + z ** 2 \n",
    "        global c\n",
    "        c = abs(a - b)\n",
    "        return c\n",
    "    global m\n",
    "    if c > m:\n",
    "        m = c\n",
    "        return m\n",
    "    else:\n",
    "        return c\n",
    "    \n",
    "diffsum(2,3,4)\n",
    "print(m)\n",
    "print(c)"
   ]
  },
  {
   "cell_type": "code",
   "execution_count": 100,
   "metadata": {},
   "outputs": [
    {
     "name": "stdout",
     "output_type": "stream",
     "text": [
      "0\n",
      "38\n"
     ]
    }
   ],
   "source": [
    "m = 0\n",
    "def diffsum2(c):\n",
    "    def diffsum(x,y,z):\n",
    "        a = x + y + z\n",
    "        b = x ** 2 + y ** 2 + z ** 2 \n",
    "        global c\n",
    "        c = abs(a - b)\n",
    "        return c\n",
    "    \n",
    "    global m\n",
    "    if c > m:\n",
    "        m = c\n",
    "        return m\n",
    "    else:\n",
    "        return c\n",
    "    \n",
    "diffsum(3,4,5)\n",
    "print(m)\n",
    "print(c)"
   ]
  },
  {
   "cell_type": "code",
   "execution_count": 101,
   "metadata": {},
   "outputs": [],
   "source": [
    "m = 0\n",
    "def diffsum2(c):\n",
    "    def diffsum(x,y,z):\n",
    "        a = x + y + z\n",
    "        b = x ** 2 + y ** 2 + z ** 2 \n",
    "        global c\n",
    "        c = abs(a - b)\n",
    "        return c\n",
    "    y = 2 * c\n",
    "    return y"
   ]
  },
  {
   "cell_type": "code",
   "execution_count": 102,
   "metadata": {},
   "outputs": [
    {
     "data": {
      "text/plain": [
       "20"
      ]
     },
     "execution_count": 102,
     "metadata": {},
     "output_type": "execute_result"
    }
   ],
   "source": [
    "m = 0\n",
    "def diffsum2(c):\n",
    "    def diffsum(x,y,z):\n",
    "        a = x + y + z\n",
    "        b = x ** 2 + y ** 2 + z ** 2 \n",
    "        global c\n",
    "        c = abs(a - b)\n",
    "        return c\n",
    "    y = 2 * c\n",
    "    return y\n",
    "diffsum(2,3,4)"
   ]
  },
  {
   "cell_type": "code",
   "execution_count": 103,
   "metadata": {},
   "outputs": [
    {
     "ename": "NameError",
     "evalue": "name 'y' is not defined",
     "output_type": "error",
     "traceback": [
      "\u001b[1;31m---------------------------------------------------------------------------\u001b[0m",
      "\u001b[1;31mNameError\u001b[0m                                 Traceback (most recent call last)",
      "\u001b[1;32m<ipython-input-103-94be3eafe35d>\u001b[0m in \u001b[0;36m<module>\u001b[1;34m\u001b[0m\n\u001b[0;32m     10\u001b[0m     \u001b[1;32mreturn\u001b[0m \u001b[0my\u001b[0m\u001b[1;33m\u001b[0m\u001b[1;33m\u001b[0m\u001b[0m\n\u001b[0;32m     11\u001b[0m \u001b[0mdiffsum\u001b[0m\u001b[1;33m(\u001b[0m\u001b[1;36m2\u001b[0m\u001b[1;33m,\u001b[0m\u001b[1;36m3\u001b[0m\u001b[1;33m,\u001b[0m\u001b[1;36m4\u001b[0m\u001b[1;33m)\u001b[0m\u001b[1;33m\u001b[0m\u001b[1;33m\u001b[0m\u001b[0m\n\u001b[1;32m---> 12\u001b[1;33m \u001b[0mprint\u001b[0m\u001b[1;33m(\u001b[0m\u001b[0my\u001b[0m\u001b[1;33m)\u001b[0m\u001b[1;33m\u001b[0m\u001b[1;33m\u001b[0m\u001b[0m\n\u001b[0m",
      "\u001b[1;31mNameError\u001b[0m: name 'y' is not defined"
     ]
    }
   ],
   "source": [
    "m = 0\n",
    "def diffsum2(c):\n",
    "    def diffsum(x,y,z):\n",
    "        a = x + y + z\n",
    "        b = x ** 2 + y ** 2 + z ** 2 \n",
    "        global c\n",
    "        c = abs(a - b)\n",
    "        return c\n",
    "    y = 2 * c\n",
    "    return y\n",
    "diffsum(2,3,4)\n",
    "print(y)"
   ]
  },
  {
   "cell_type": "code",
   "execution_count": 104,
   "metadata": {},
   "outputs": [
    {
     "data": {
      "text/plain": [
       "20"
      ]
     },
     "execution_count": 104,
     "metadata": {},
     "output_type": "execute_result"
    }
   ],
   "source": [
    "m = 0\n",
    "\n",
    "def diffsum(x,y,z):\n",
    "    a = x + y + z\n",
    "    b = x ** 2 + y ** 2 + z ** 2 \n",
    "    global c\n",
    "    c = abs(a - b)\n",
    "    return c\n",
    "diffsum(2,3,4)\n",
    "\n"
   ]
  },
  {
   "cell_type": "code",
   "execution_count": 105,
   "metadata": {},
   "outputs": [
    {
     "data": {
      "text/plain": [
       "20"
      ]
     },
     "execution_count": 105,
     "metadata": {},
     "output_type": "execute_result"
    }
   ],
   "source": [
    "m = 0\n",
    "\n",
    "def diffsum(x,y,z):\n",
    "    a = x + y + z\n",
    "    b = x ** 2 + y ** 2 + z ** 2 \n",
    "    global c\n",
    "    c = abs(a - b)\n",
    "    return c\n",
    "\n",
    "def diffsum2(c):\n",
    "    global m\n",
    "    if c > m:\n",
    "        m = c\n",
    "    else:\n",
    "        m = m\n",
    "\n",
    "diffsum(2,3,4)"
   ]
  },
  {
   "cell_type": "code",
   "execution_count": 106,
   "metadata": {},
   "outputs": [
    {
     "name": "stdout",
     "output_type": "stream",
     "text": [
      "0\n"
     ]
    }
   ],
   "source": [
    "m = 0\n",
    "\n",
    "def diffsum(x,y,z):\n",
    "    a = x + y + z\n",
    "    b = x ** 2 + y ** 2 + z ** 2 \n",
    "    global c\n",
    "    c = abs(a - b)\n",
    "    return c\n",
    "\n",
    "def diffsum2(c):\n",
    "    global m\n",
    "    if c > m:\n",
    "        m = c\n",
    "    else:\n",
    "        m = m\n",
    "\n",
    "diffsum(2,3,4)\n",
    "print(m)"
   ]
  },
  {
   "cell_type": "code",
   "execution_count": 107,
   "metadata": {},
   "outputs": [
    {
     "name": "stdout",
     "output_type": "stream",
     "text": [
      "3\n"
     ]
    }
   ],
   "source": [
    "m = 3\n",
    "\n",
    "def diffsum(x,y,z):\n",
    "    a = x + y + z\n",
    "    b = x ** 2 + y ** 2 + z ** 2 \n",
    "    global c\n",
    "    c = abs(a - b)\n",
    "    return c\n",
    "\n",
    "def diffsum2(c):\n",
    "    global m\n",
    "    if c > m:\n",
    "        m = c\n",
    "    else:\n",
    "        m = m\n",
    "\n",
    "diffsum(2,3,4)\n",
    "print(c)\n",
    "print(m)"
   ]
  },
  {
   "cell_type": "code",
   "execution_count": 108,
   "metadata": {},
   "outputs": [
    {
     "name": "stdout",
     "output_type": "stream",
     "text": [
      "20\n",
      "3\n"
     ]
    }
   ],
   "source": [
    "m = 3\n",
    "\n",
    "def diffsum(x,y,z):\n",
    "    a = x + y + z\n",
    "    b = x ** 2 + y ** 2 + z ** 2 \n",
    "    global c\n",
    "    c = abs(a - b)\n",
    "    return c\n",
    "\n",
    "def diffsum2(c):\n",
    "    global m\n",
    "    if c > m:\n",
    "        m = c\n",
    "    else:\n",
    "        m = m\n",
    "\n",
    "diffsum(2,3,4)\n",
    "print(c)\n",
    "print(m)"
   ]
  },
  {
   "cell_type": "code",
   "execution_count": 109,
   "metadata": {},
   "outputs": [
    {
     "name": "stdout",
     "output_type": "stream",
     "text": [
      "20\n",
      "3\n"
     ]
    }
   ],
   "source": [
    "m = 3\n",
    "\n",
    "def diffsum(x,y,z):\n",
    "    a = x + y + z\n",
    "    b = x ** 2 + y ** 2 + z ** 2 \n",
    "    global c\n",
    "    c = abs(a - b)\n",
    "    return c\n",
    "\n",
    "def diffsum2(c):\n",
    "    global m\n",
    "    if c > m:\n",
    "        m = c\n",
    "    else:\n",
    "        m = m\n",
    "\n",
    "diffsum2(2)\n",
    "print(c)\n",
    "print(m)"
   ]
  },
  {
   "cell_type": "code",
   "execution_count": 110,
   "metadata": {},
   "outputs": [
    {
     "name": "stdout",
     "output_type": "stream",
     "text": [
      "20\n",
      "20\n"
     ]
    }
   ],
   "source": [
    "m = 3\n",
    "\n",
    "def diffsum(x,y,z):\n",
    "    a = x + y + z\n",
    "    b = x ** 2 + y ** 2 + z ** 2 \n",
    "    global c\n",
    "    c = abs(a - b)\n",
    "    return c\n",
    "\n",
    "def diffsum2(c):\n",
    "    global m\n",
    "    if c > m:\n",
    "        m = c\n",
    "    else:\n",
    "        m = m\n",
    "\n",
    "diffsum2(20)\n",
    "print(c)\n",
    "print(m)"
   ]
  },
  {
   "cell_type": "code",
   "execution_count": 111,
   "metadata": {},
   "outputs": [
    {
     "name": "stdout",
     "output_type": "stream",
     "text": [
      "20\n",
      "20\n"
     ]
    }
   ],
   "source": [
    "m = 0\n",
    "\n",
    "def diffsum(x,y,z):\n",
    "    a = x + y + z\n",
    "    b = x ** 2 + y ** 2 + z ** 2 \n",
    "    global c\n",
    "    c = abs(a - b)\n",
    "    return c\n",
    "\n",
    "def diffsum2(c):\n",
    "    global m\n",
    "    if c > m:\n",
    "        m = c\n",
    "    else:\n",
    "        m = m\n",
    "\n",
    "diffsum2(20)\n",
    "print(c)\n",
    "print(m)"
   ]
  },
  {
   "cell_type": "code",
   "execution_count": 112,
   "metadata": {},
   "outputs": [
    {
     "ename": "NameError",
     "evalue": "name 'y' is not defined",
     "output_type": "error",
     "traceback": [
      "\u001b[1;31m---------------------------------------------------------------------------\u001b[0m",
      "\u001b[1;31mNameError\u001b[0m                                 Traceback (most recent call last)",
      "\u001b[1;32m<ipython-input-112-556e7916ecc1>\u001b[0m in \u001b[0;36m<module>\u001b[1;34m\u001b[0m\n\u001b[0;32m     16\u001b[0m         \u001b[0mm\u001b[0m \u001b[1;33m=\u001b[0m \u001b[0mm\u001b[0m\u001b[1;33m\u001b[0m\u001b[1;33m\u001b[0m\u001b[0m\n\u001b[0;32m     17\u001b[0m \u001b[1;33m\u001b[0m\u001b[0m\n\u001b[1;32m---> 18\u001b[1;33m \u001b[0mdiffsum2\u001b[0m\u001b[1;33m(\u001b[0m\u001b[1;36m20\u001b[0m\u001b[1;33m)\u001b[0m\u001b[1;33m\u001b[0m\u001b[1;33m\u001b[0m\u001b[0m\n\u001b[0m\u001b[0;32m     19\u001b[0m \u001b[0mprint\u001b[0m\u001b[1;33m(\u001b[0m\u001b[0mc\u001b[0m\u001b[1;33m)\u001b[0m\u001b[1;33m\u001b[0m\u001b[1;33m\u001b[0m\u001b[0m\n\u001b[0;32m     20\u001b[0m \u001b[0mprint\u001b[0m\u001b[1;33m(\u001b[0m\u001b[0mm\u001b[0m\u001b[1;33m)\u001b[0m\u001b[1;33m\u001b[0m\u001b[1;33m\u001b[0m\u001b[0m\n",
      "\u001b[1;32m<ipython-input-112-556e7916ecc1>\u001b[0m in \u001b[0;36mdiffsum2\u001b[1;34m(i)\u001b[0m\n\u001b[0;32m      9\u001b[0m \u001b[1;33m\u001b[0m\u001b[0m\n\u001b[0;32m     10\u001b[0m \u001b[1;32mdef\u001b[0m \u001b[0mdiffsum2\u001b[0m\u001b[1;33m(\u001b[0m\u001b[0mi\u001b[0m\u001b[1;33m)\u001b[0m\u001b[1;33m:\u001b[0m\u001b[1;33m\u001b[0m\u001b[1;33m\u001b[0m\u001b[0m\n\u001b[1;32m---> 11\u001b[1;33m     \u001b[0mi\u001b[0m \u001b[1;33m=\u001b[0m \u001b[0mdiffsum\u001b[0m\u001b[1;33m(\u001b[0m\u001b[0mx\u001b[0m\u001b[1;33m,\u001b[0m\u001b[0my\u001b[0m\u001b[1;33m,\u001b[0m\u001b[0mz\u001b[0m\u001b[1;33m)\u001b[0m\u001b[1;33m\u001b[0m\u001b[1;33m\u001b[0m\u001b[0m\n\u001b[0m\u001b[0;32m     12\u001b[0m     \u001b[1;32mglobal\u001b[0m \u001b[0mm\u001b[0m\u001b[1;33m\u001b[0m\u001b[1;33m\u001b[0m\u001b[0m\n\u001b[0;32m     13\u001b[0m     \u001b[1;32mif\u001b[0m \u001b[0mi\u001b[0m \u001b[1;33m>\u001b[0m \u001b[0mm\u001b[0m\u001b[1;33m:\u001b[0m\u001b[1;33m\u001b[0m\u001b[1;33m\u001b[0m\u001b[0m\n",
      "\u001b[1;31mNameError\u001b[0m: name 'y' is not defined"
     ]
    }
   ],
   "source": [
    "m = 0\n",
    "\n",
    "def diffsum(x,y,z):\n",
    "    a = x + y + z\n",
    "    b = x ** 2 + y ** 2 + z ** 2 \n",
    "    global c\n",
    "    c = abs(a - b)\n",
    "    return c\n",
    "\n",
    "def diffsum2(i):\n",
    "    i = diffsum(x,y,z)\n",
    "    global m\n",
    "    if i > m:\n",
    "        m = i\n",
    "    else:\n",
    "        m = m\n",
    "\n",
    "diffsum2(20)\n",
    "print(c)\n",
    "print(m)"
   ]
  },
  {
   "cell_type": "code",
   "execution_count": 113,
   "metadata": {},
   "outputs": [
    {
     "name": "stdout",
     "output_type": "stream",
     "text": [
      "20\n",
      "0\n"
     ]
    }
   ],
   "source": [
    "m = 0\n",
    "\n",
    "def diffsum(x,y,z):\n",
    "    a = x + y + z\n",
    "    b = x ** 2 + y ** 2 + z ** 2 \n",
    "    global c\n",
    "    c = abs(a - b)\n",
    "    return c\n",
    "\n",
    "def diffsum2(i):\n",
    "    i = diffsum(x,y,z)\n",
    "    global m\n",
    "    if i > m:\n",
    "        m = i\n",
    "    else:\n",
    "        m = m\n",
    "\n",
    "diffsum(2,3,4)\n",
    "print(c)\n",
    "print(i)\n",
    "print(m)"
   ]
  },
  {
   "cell_type": "code",
   "execution_count": 114,
   "metadata": {},
   "outputs": [
    {
     "name": "stdout",
     "output_type": "stream",
     "text": [
      "20\n"
     ]
    },
    {
     "ename": "NameError",
     "evalue": "name 'i' is not defined",
     "output_type": "error",
     "traceback": [
      "\u001b[1;31m---------------------------------------------------------------------------\u001b[0m",
      "\u001b[1;31mNameError\u001b[0m                                 Traceback (most recent call last)",
      "\u001b[1;32m<ipython-input-114-0b34d4dcc8b7>\u001b[0m in \u001b[0;36m<module>\u001b[1;34m\u001b[0m\n\u001b[0;32m     18\u001b[0m \u001b[0mdiffsum\u001b[0m\u001b[1;33m(\u001b[0m\u001b[1;36m2\u001b[0m\u001b[1;33m,\u001b[0m\u001b[1;36m3\u001b[0m\u001b[1;33m,\u001b[0m\u001b[1;36m4\u001b[0m\u001b[1;33m)\u001b[0m\u001b[1;33m\u001b[0m\u001b[1;33m\u001b[0m\u001b[0m\n\u001b[0;32m     19\u001b[0m \u001b[0mprint\u001b[0m\u001b[1;33m(\u001b[0m\u001b[0mc\u001b[0m\u001b[1;33m)\u001b[0m\u001b[1;33m\u001b[0m\u001b[1;33m\u001b[0m\u001b[0m\n\u001b[1;32m---> 20\u001b[1;33m \u001b[0mprint\u001b[0m\u001b[1;33m(\u001b[0m\u001b[0mi\u001b[0m\u001b[1;33m)\u001b[0m\u001b[1;33m\u001b[0m\u001b[1;33m\u001b[0m\u001b[0m\n\u001b[0m\u001b[0;32m     21\u001b[0m \u001b[0mprint\u001b[0m\u001b[1;33m(\u001b[0m\u001b[0mm\u001b[0m\u001b[1;33m)\u001b[0m\u001b[1;33m\u001b[0m\u001b[1;33m\u001b[0m\u001b[0m\n",
      "\u001b[1;31mNameError\u001b[0m: name 'i' is not defined"
     ]
    }
   ],
   "source": [
    "m = 0\n",
    "\n",
    "def diffsum(x,y,z):\n",
    "    a = x + y + z\n",
    "    b = x ** 2 + y ** 2 + z ** 2 \n",
    "    global c\n",
    "    c = abs(a - b)\n",
    "    return c\n",
    "i = diffsum(x,y,z)\n",
    "def diffsum2(i):\n",
    "    global m\n",
    "    if i > m:\n",
    "        m = i\n",
    "    else:\n",
    "        m = m\n",
    "\n",
    "diffsum(2,3,4)\n",
    "print(c)\n",
    "print(i)\n",
    "print(m)"
   ]
  },
  {
   "cell_type": "code",
   "execution_count": 115,
   "metadata": {},
   "outputs": [
    {
     "ename": "NameError",
     "evalue": "name 'y' is not defined",
     "output_type": "error",
     "traceback": [
      "\u001b[1;31m---------------------------------------------------------------------------\u001b[0m",
      "\u001b[1;31mNameError\u001b[0m                                 Traceback (most recent call last)",
      "\u001b[1;32m<ipython-input-115-b541e9712b2e>\u001b[0m in \u001b[0;36m<module>\u001b[1;34m\u001b[0m\n\u001b[0;32m      7\u001b[0m     \u001b[0mc\u001b[0m \u001b[1;33m=\u001b[0m \u001b[0mabs\u001b[0m\u001b[1;33m(\u001b[0m\u001b[0ma\u001b[0m \u001b[1;33m-\u001b[0m \u001b[0mb\u001b[0m\u001b[1;33m)\u001b[0m\u001b[1;33m\u001b[0m\u001b[1;33m\u001b[0m\u001b[0m\n\u001b[0;32m      8\u001b[0m     \u001b[1;32mreturn\u001b[0m \u001b[0mc\u001b[0m\u001b[1;33m\u001b[0m\u001b[1;33m\u001b[0m\u001b[0m\n\u001b[1;32m----> 9\u001b[1;33m \u001b[0mi\u001b[0m \u001b[1;33m=\u001b[0m \u001b[0mdiffsum\u001b[0m\u001b[1;33m(\u001b[0m\u001b[0mx\u001b[0m\u001b[1;33m,\u001b[0m\u001b[0my\u001b[0m\u001b[1;33m,\u001b[0m\u001b[0mz\u001b[0m\u001b[1;33m)\u001b[0m\u001b[1;33m\u001b[0m\u001b[1;33m\u001b[0m\u001b[0m\n\u001b[0m\u001b[0;32m     10\u001b[0m \u001b[1;32mdef\u001b[0m \u001b[0mdiffsum2\u001b[0m\u001b[1;33m(\u001b[0m\u001b[0mi\u001b[0m\u001b[1;33m)\u001b[0m\u001b[1;33m:\u001b[0m\u001b[1;33m\u001b[0m\u001b[1;33m\u001b[0m\u001b[0m\n\u001b[0;32m     11\u001b[0m     \u001b[1;32mglobal\u001b[0m \u001b[0mm\u001b[0m\u001b[1;33m\u001b[0m\u001b[1;33m\u001b[0m\u001b[0m\n",
      "\u001b[1;31mNameError\u001b[0m: name 'y' is not defined"
     ]
    }
   ],
   "source": [
    "m = 0\n",
    "\n",
    "def diffsum(x,y,z):\n",
    "    a = x + y + z\n",
    "    b = x ** 2 + y ** 2 + z ** 2 \n",
    "    global c\n",
    "    c = abs(a - b)\n",
    "    return c\n",
    "i = c\n",
    "def diffsum2(i):\n",
    "    global m\n",
    "    if i > m:\n",
    "        m = i\n",
    "    else:\n",
    "        m = m\n",
    "\n",
    "diffsum(2,3,4)\n",
    "print(c)\n",
    "print(i)\n",
    "print(m)"
   ]
  },
  {
   "cell_type": "code",
   "execution_count": 116,
   "metadata": {},
   "outputs": [
    {
     "name": "stdout",
     "output_type": "stream",
     "text": [
      "20\n",
      "20\n",
      "0\n"
     ]
    }
   ],
   "source": [
    "m = 0\n",
    "\n",
    "def diffsum(x,y,z):\n",
    "    a = x + y + z\n",
    "    b = x ** 2 + y ** 2 + z ** 2 \n",
    "    global c\n",
    "    c = abs(a - b)\n",
    "    return c\n",
    "i = c\n",
    "def diffsum2(i):\n",
    "    global m\n",
    "    if i > m:\n",
    "        m = i\n",
    "    else:\n",
    "        m = m\n",
    "\n",
    "diffsum(2,3,4)\n",
    "print(\"c=\" + c)\n",
    "print(\"i=\" + i)\n",
    "print(\"m=\" + m)"
   ]
  },
  {
   "cell_type": "code",
   "execution_count": 117,
   "metadata": {},
   "outputs": [
    {
     "ename": "TypeError",
     "evalue": "can only concatenate str (not \"int\") to str",
     "output_type": "error",
     "traceback": [
      "\u001b[1;31m---------------------------------------------------------------------------\u001b[0m",
      "\u001b[1;31mTypeError\u001b[0m                                 Traceback (most recent call last)",
      "\u001b[1;32m<ipython-input-117-4d5a58262f15>\u001b[0m in \u001b[0;36m<module>\u001b[1;34m\u001b[0m\n\u001b[0;32m     16\u001b[0m \u001b[1;33m\u001b[0m\u001b[0m\n\u001b[0;32m     17\u001b[0m \u001b[0mdiffsum\u001b[0m\u001b[1;33m(\u001b[0m\u001b[1;36m2\u001b[0m\u001b[1;33m,\u001b[0m\u001b[1;36m3\u001b[0m\u001b[1;33m,\u001b[0m\u001b[1;36m4\u001b[0m\u001b[1;33m)\u001b[0m\u001b[1;33m\u001b[0m\u001b[1;33m\u001b[0m\u001b[0m\n\u001b[1;32m---> 18\u001b[1;33m \u001b[0mprint\u001b[0m\u001b[1;33m(\u001b[0m\u001b[1;34m\"c=\"\u001b[0m \u001b[1;33m+\u001b[0m \u001b[0mc\u001b[0m\u001b[1;33m)\u001b[0m\u001b[1;33m\u001b[0m\u001b[1;33m\u001b[0m\u001b[0m\n\u001b[0m\u001b[0;32m     19\u001b[0m \u001b[0mprint\u001b[0m\u001b[1;33m(\u001b[0m\u001b[1;34m\"i=\"\u001b[0m \u001b[1;33m+\u001b[0m \u001b[0mi\u001b[0m\u001b[1;33m)\u001b[0m\u001b[1;33m\u001b[0m\u001b[1;33m\u001b[0m\u001b[0m\n\u001b[0;32m     20\u001b[0m \u001b[0mprint\u001b[0m\u001b[1;33m(\u001b[0m\u001b[1;34m\"m=\"\u001b[0m \u001b[1;33m+\u001b[0m \u001b[0mm\u001b[0m\u001b[1;33m)\u001b[0m\u001b[1;33m\u001b[0m\u001b[1;33m\u001b[0m\u001b[0m\n",
      "\u001b[1;31mTypeError\u001b[0m: can only concatenate str (not \"int\") to str"
     ]
    }
   ],
   "source": [
    "m = 0\n",
    "\n",
    "def diffsum(x,y,z):\n",
    "    a = x + y + z\n",
    "    b = x ** 2 + y ** 2 + z ** 2 \n",
    "    global c\n",
    "    c = abs(a - b)\n",
    "    return c\n",
    "i = c\n",
    "def diffsum2(i):\n",
    "    global m\n",
    "    if i > m:\n",
    "        m = i\n",
    "    else:\n",
    "        m = m\n",
    "\n",
    "diffsum(2,3,4)\n",
    "print(\"c=\" + c)\n",
    "print(\"i=\" + i)\n",
    "print(\"m=\" + m)"
   ]
  },
  {
   "cell_type": "code",
   "execution_count": 118,
   "metadata": {},
   "outputs": [
    {
     "name": "stdout",
     "output_type": "stream",
     "text": [
      "c=20\n"
     ]
    },
    {
     "ename": "TypeError",
     "evalue": "can only concatenate str (not \"int\") to str",
     "output_type": "error",
     "traceback": [
      "\u001b[1;31m---------------------------------------------------------------------------\u001b[0m",
      "\u001b[1;31mTypeError\u001b[0m                                 Traceback (most recent call last)",
      "\u001b[1;32m<ipython-input-118-d2c78e84f145>\u001b[0m in \u001b[0;36m<module>\u001b[1;34m\u001b[0m\n\u001b[0;32m     17\u001b[0m \u001b[0mdiffsum\u001b[0m\u001b[1;33m(\u001b[0m\u001b[1;36m2\u001b[0m\u001b[1;33m,\u001b[0m\u001b[1;36m3\u001b[0m\u001b[1;33m,\u001b[0m\u001b[1;36m4\u001b[0m\u001b[1;33m)\u001b[0m\u001b[1;33m\u001b[0m\u001b[1;33m\u001b[0m\u001b[0m\n\u001b[0;32m     18\u001b[0m \u001b[0mprint\u001b[0m\u001b[1;33m(\u001b[0m\u001b[1;34m\"c=\"\u001b[0m \u001b[1;33m+\u001b[0m \u001b[0mstr\u001b[0m\u001b[1;33m(\u001b[0m\u001b[0mc\u001b[0m\u001b[1;33m)\u001b[0m\u001b[1;33m)\u001b[0m\u001b[1;33m\u001b[0m\u001b[1;33m\u001b[0m\u001b[0m\n\u001b[1;32m---> 19\u001b[1;33m \u001b[0mprint\u001b[0m\u001b[1;33m(\u001b[0m\u001b[1;34m\"i=\"\u001b[0m \u001b[1;33m+\u001b[0m \u001b[0mi\u001b[0m\u001b[1;33m)\u001b[0m\u001b[1;33m\u001b[0m\u001b[1;33m\u001b[0m\u001b[0m\n\u001b[0m\u001b[0;32m     20\u001b[0m \u001b[0mprint\u001b[0m\u001b[1;33m(\u001b[0m\u001b[1;34m\"m=\"\u001b[0m \u001b[1;33m+\u001b[0m \u001b[0mm\u001b[0m\u001b[1;33m)\u001b[0m\u001b[1;33m\u001b[0m\u001b[1;33m\u001b[0m\u001b[0m\n",
      "\u001b[1;31mTypeError\u001b[0m: can only concatenate str (not \"int\") to str"
     ]
    }
   ],
   "source": [
    "m = 0\n",
    "\n",
    "def diffsum(x,y,z):\n",
    "    a = x + y + z\n",
    "    b = x ** 2 + y ** 2 + z ** 2 \n",
    "    global c\n",
    "    c = abs(a - b)\n",
    "    return c\n",
    "i = c\n",
    "def diffsum2(i):\n",
    "    global m\n",
    "    if i > m:\n",
    "        m = i\n",
    "    else:\n",
    "        m = m\n",
    "\n",
    "diffsum(2,3,4)\n",
    "print(\"c=\" + str(c))\n",
    "print(\"i=\" + i)\n",
    "print(\"m=\" + m)"
   ]
  },
  {
   "cell_type": "code",
   "execution_count": 119,
   "metadata": {},
   "outputs": [
    {
     "name": "stdout",
     "output_type": "stream",
     "text": [
      "c=20\n",
      "i=20\n",
      "m=0\n"
     ]
    }
   ],
   "source": [
    "m = 0\n",
    "\n",
    "def diffsum(x,y,z):\n",
    "    a = x + y + z\n",
    "    b = x ** 2 + y ** 2 + z ** 2 \n",
    "    global c\n",
    "    c = abs(a - b)\n",
    "    return c\n",
    "i = c\n",
    "def diffsum2(i):\n",
    "    global m\n",
    "    if i > m:\n",
    "        m = i\n",
    "    else:\n",
    "        m = m\n",
    "\n",
    "diffsum(2,3,4)\n",
    "print(\"c=\" + str(c))\n",
    "print(\"i=\" + str(i))\n",
    "print(\"m=\" + str(m))"
   ]
  },
  {
   "cell_type": "code",
   "execution_count": 120,
   "metadata": {},
   "outputs": [
    {
     "name": "stdout",
     "output_type": "stream",
     "text": [
      "c=20\n",
      "i=20\n",
      "m=0\n"
     ]
    }
   ],
   "source": [
    "m = 0\n",
    "\n",
    "def diffsum(x,y,z):\n",
    "    a = x + y + z\n",
    "    b = x ** 2 + y ** 2 + z ** 2 \n",
    "    global c\n",
    "    c = abs(a - b)\n",
    "    return c\n",
    "\n",
    "i = c\n",
    "\n",
    "def diffsum2(i):\n",
    "    global m\n",
    "    if i > m:\n",
    "        m = i\n",
    "        return m\n",
    "    else:\n",
    "        m = m\n",
    "        return m\n",
    "\n",
    "diffsum(2,3,4)\n",
    "print(\"c=\" + str(c))\n",
    "print(\"i=\" + str(i))\n",
    "print(\"m=\" + str(m))"
   ]
  },
  {
   "cell_type": "code",
   "execution_count": 121,
   "metadata": {},
   "outputs": [
    {
     "name": "stdout",
     "output_type": "stream",
     "text": [
      "c=20\n",
      "i=20\n",
      "m=0\n"
     ]
    }
   ],
   "source": [
    "m = 0\n",
    "\n",
    "def diffsum(x,y,z):\n",
    "    a = x + y + z\n",
    "    b = x ** 2 + y ** 2 + z ** 2 \n",
    "    global c\n",
    "    c = abs(a - b)\n",
    "    return c\n",
    "\n",
    "i = c\n",
    "\n",
    "def diffsum2(i):\n",
    "    global m\n",
    "    if i > m:\n",
    "        m = c\n",
    "        return m\n",
    "    else:\n",
    "        m = m\n",
    "        return m\n",
    "\n",
    "diffsum(2,3,4)\n",
    "print(\"c=\" + str(c))\n",
    "print(\"i=\" + str(i))\n",
    "print(\"m=\" + str(m))"
   ]
  },
  {
   "cell_type": "code",
   "execution_count": 122,
   "metadata": {},
   "outputs": [
    {
     "name": "stdout",
     "output_type": "stream",
     "text": [
      "c=20\n",
      "i=20\n",
      "m=0\n"
     ]
    }
   ],
   "source": [
    "m = 0\n",
    "\n",
    "def diffsum(x,y,z):\n",
    "    a = x + y + z\n",
    "    b = x ** 2 + y ** 2 + z ** 2 \n",
    "    global c\n",
    "    c = abs(a - b)\n",
    "    return c\n",
    "\n",
    "i = c\n",
    "\n",
    "def diffsum2(i):\n",
    "    global m\n",
    "    if i > m:\n",
    "        m = c\n",
    "        return m\n",
    "    else:\n",
    "        m = m\n",
    "        return m\n",
    "\n",
    "diffsum(2,3,4)\n",
    "print(\"c=\" + str(c))\n",
    "print(\"i=\" + str(i))\n",
    "print(\"m=\" + str(m))"
   ]
  },
  {
   "cell_type": "code",
   "execution_count": 123,
   "metadata": {},
   "outputs": [
    {
     "name": "stdout",
     "output_type": "stream",
     "text": [
      "20\n"
     ]
    }
   ],
   "source": [
    "m = 0\n",
    "\n",
    "def diffsum(x,y,z):\n",
    "    a = x + y + z\n",
    "    b = x ** 2 + y ** 2 + z ** 2 \n",
    "    global c\n",
    "    c = abs(a - b)\n",
    "    return c\n",
    "\n",
    "i = c\n",
    "\n",
    "def diffsum2(i):\n",
    "    global m\n",
    "    if i > m:\n",
    "        m = c\n",
    "        return m\n",
    "    else:\n",
    "        m = m\n",
    "        return m\n",
    "diffsum2(20)\n",
    "print(m)"
   ]
  },
  {
   "cell_type": "code",
   "execution_count": 124,
   "metadata": {},
   "outputs": [
    {
     "name": "stdout",
     "output_type": "stream",
     "text": [
      "5\n"
     ]
    }
   ],
   "source": [
    "m = 5\n",
    "\n",
    "def diffsum(x,y,z):\n",
    "    a = x + y + z\n",
    "    b = x ** 2 + y ** 2 + z ** 2 \n",
    "    global c\n",
    "    c = abs(a - b)\n",
    "    return c\n",
    "\n",
    "i = c\n",
    "\n",
    "def diffsum2(i):\n",
    "    global m\n",
    "    if i > m:\n",
    "        m = c\n",
    "        return m\n",
    "    else:\n",
    "        m = m\n",
    "        return m\n",
    "diffsum2(3)\n",
    "print(m)"
   ]
  },
  {
   "cell_type": "code",
   "execution_count": 125,
   "metadata": {},
   "outputs": [
    {
     "name": "stdout",
     "output_type": "stream",
     "text": [
      "20\n"
     ]
    }
   ],
   "source": [
    "m = 0\n",
    "\n",
    "def diffsum(x,y,z):\n",
    "    a = x + y + z\n",
    "    b = x ** 2 + y ** 2 + z ** 2 \n",
    "    global c\n",
    "    c = abs(a - b)\n",
    "    return c\n",
    "\n",
    "def diffsum2(c):\n",
    "    global m\n",
    "    if c > m:\n",
    "        m = c\n",
    "        return m\n",
    "    else:\n",
    "        m = m\n",
    "        return m\n",
    "diffsum2(20)\n",
    "print(m)"
   ]
  },
  {
   "cell_type": "code",
   "execution_count": 126,
   "metadata": {},
   "outputs": [
    {
     "name": "stdout",
     "output_type": "stream",
     "text": [
      "20\n"
     ]
    }
   ],
   "source": [
    "m=0\n",
    "def diffsum2(c):\n",
    "    global m\n",
    "    if c > m:\n",
    "        m = c\n",
    "        return m\n",
    "    else:\n",
    "        m = m\n",
    "        return m\n",
    "diffsum2(20)\n",
    "print(m)"
   ]
  },
  {
   "cell_type": "code",
   "execution_count": 127,
   "metadata": {},
   "outputs": [
    {
     "name": "stdout",
     "output_type": "stream",
     "text": [
      "20\n"
     ]
    }
   ],
   "source": [
    "m = 0\n",
    "\n",
    "def diffsum(x,y,z):\n",
    "    a = x + y + z\n",
    "    b = x ** 2 + y ** 2 + z ** 2 \n",
    "    c = abs(a - b)\n",
    "    def diffsum2(c):\n",
    "    global m\n",
    "    if c > m:\n",
    "        m = c\n",
    "        return m\n",
    "    else:\n",
    "        m = m\n",
    "        return m\n",
    "\n",
    "    \n",
    "    \n",
    "diffsum(2,3,4)\n",
    "print(m)"
   ]
  },
  {
   "cell_type": "code",
   "execution_count": 128,
   "metadata": {},
   "outputs": [
    {
     "ename": "IndentationError",
     "evalue": "expected an indented block (<ipython-input-128-ba71eccad4a9>, line 8)",
     "output_type": "error",
     "traceback": [
      "\u001b[1;36m  File \u001b[1;32m\"<ipython-input-128-ba71eccad4a9>\"\u001b[1;36m, line \u001b[1;32m8\u001b[0m\n\u001b[1;33m    global m\u001b[0m\n\u001b[1;37m         ^\u001b[0m\n\u001b[1;31mIndentationError\u001b[0m\u001b[1;31m:\u001b[0m expected an indented block\n"
     ]
    }
   ],
   "source": [
    "m = 0\n",
    "\n",
    "def diffsum(x,y,z):\n",
    "    global m\n",
    "    a = x + y + z\n",
    "    b = x ** 2 + y ** 2 + z ** 2 \n",
    "    c = abs(a - b)\n",
    "    def diffsum2(c):\n",
    "    if c > m:\n",
    "        m = c\n",
    "        return m\n",
    "    else:\n",
    "        m = m\n",
    "        return m\n",
    "\n",
    "    \n",
    "    \n",
    "diffsum(2,3,4)\n",
    "print(m)"
   ]
  },
  {
   "cell_type": "code",
   "execution_count": 129,
   "metadata": {},
   "outputs": [
    {
     "ename": "IndentationError",
     "evalue": "expected an indented block (<ipython-input-129-8e733513e9a9>, line 9)",
     "output_type": "error",
     "traceback": [
      "\u001b[1;36m  File \u001b[1;32m\"<ipython-input-129-8e733513e9a9>\"\u001b[1;36m, line \u001b[1;32m9\u001b[0m\n\u001b[1;33m    if c > m:\u001b[0m\n\u001b[1;37m     ^\u001b[0m\n\u001b[1;31mIndentationError\u001b[0m\u001b[1;31m:\u001b[0m expected an indented block\n"
     ]
    }
   ],
   "source": [
    "m = 0\n",
    "\n",
    "def diffsum(x,y,z):\n",
    "    global m\n",
    "    a = x + y + z\n",
    "    b = x ** 2 + y ** 2 + z ** 2 \n",
    "    c = abs(a - b)\n",
    "    def diffsum2(c):\n",
    "        if c > m:\n",
    "            m = c\n",
    "            return m\n",
    "        else:\n",
    "            m = m\n",
    "            return m\n",
    "\n",
    "    \n",
    "    \n",
    "diffsum(2,3,4)\n",
    "print(m)"
   ]
  },
  {
   "cell_type": "code",
   "execution_count": 130,
   "metadata": {},
   "outputs": [
    {
     "name": "stdout",
     "output_type": "stream",
     "text": [
      "0\n"
     ]
    }
   ],
   "source": [
    "m = 0\n",
    "\n",
    "def diffsum(x,y,z):\n",
    "    global m\n",
    "    a = x + y + z\n",
    "    b = x ** 2 + y ** 2 + z ** 2 \n",
    "    c = abs(a - b)\n",
    "    def diffsum2(c):\n",
    "        if c > m:\n",
    "            m = c\n",
    "            return m\n",
    "        else:\n",
    "            m = m\n",
    "            return m\n",
    "\n",
    "    \n",
    "    \n",
    "diffsum(2,3,4)\n",
    "print(m)"
   ]
  },
  {
   "cell_type": "code",
   "execution_count": 131,
   "metadata": {},
   "outputs": [
    {
     "name": "stdout",
     "output_type": "stream",
     "text": [
      "20\n",
      "0\n"
     ]
    }
   ],
   "source": [
    "m = 0\n",
    "\n",
    "def diffsum(x,y,z):\n",
    "    global m\n",
    "    a = x + y + z\n",
    "    b = x ** 2 + y ** 2 + z ** 2 \n",
    "    c = abs(a - b)\n",
    "    def diffsum2(c):\n",
    "        if c > m:\n",
    "            m = c\n",
    "            return m\n",
    "        else:\n",
    "            m = m\n",
    "            return m\n",
    "    return m\n",
    "\n",
    "    \n",
    "    \n",
    "diffsum(2,3,4)\n",
    "print(c)\n",
    "print(m)"
   ]
  },
  {
   "cell_type": "code",
   "execution_count": 132,
   "metadata": {},
   "outputs": [
    {
     "name": "stdout",
     "output_type": "stream",
     "text": [
      "20\n",
      "0\n"
     ]
    }
   ],
   "source": [
    "m = 0\n",
    "\n",
    "def diffsum(x,y,z):\n",
    "    global m\n",
    "    a = x + y + z\n",
    "    b = x ** 2 + y ** 2 + z ** 2 \n",
    "    c = abs(a - b)\n",
    "    def diffsum2(c):\n",
    "        if c > m:\n",
    "            m = c\n",
    "        else:\n",
    "            m = m\n",
    "        return m\n",
    "    \n",
    "    \n",
    "diffsum(2,3,4)\n",
    "print(c)\n",
    "print(m)"
   ]
  },
  {
   "cell_type": "code",
   "execution_count": 133,
   "metadata": {},
   "outputs": [
    {
     "name": "stdout",
     "output_type": "stream",
     "text": [
      "20\n",
      "0\n"
     ]
    }
   ],
   "source": [
    "m = 0\n",
    "\n",
    "def diffsum(x,y,z):\n",
    "    a = x + y + z\n",
    "    b = x ** 2 + y ** 2 + z ** 2 \n",
    "    c = abs(a - b)\n",
    "    def diffsum2(c):\n",
    "        global m\n",
    "        if c > m:\n",
    "            m = c\n",
    "        else:\n",
    "            m = m\n",
    "        return m\n",
    "    \n",
    "    \n",
    "diffsum(2,3,4)\n",
    "print(c)\n",
    "print(m)"
   ]
  },
  {
   "cell_type": "code",
   "execution_count": 134,
   "metadata": {},
   "outputs": [
    {
     "name": "stdout",
     "output_type": "stream",
     "text": [
      "20\n",
      "0\n"
     ]
    }
   ],
   "source": [
    "m = 0\n",
    "\n",
    "def diffsum(x,y,z):\n",
    "    a = x + y + z\n",
    "    b = x ** 2 + y ** 2 + z ** 2 \n",
    "    c = abs(a - b)\n",
    "    def diffsum2(c):\n",
    "        global m\n",
    "        if c > m:\n",
    "            m = c\n",
    "        else:\n",
    "            m = m\n",
    "        return m\n",
    "    return diffsum2\n",
    "    \n",
    "    \n",
    "diffsum(2,3,4)\n",
    "print(c)\n",
    "print(m)"
   ]
  },
  {
   "cell_type": "code",
   "execution_count": 135,
   "metadata": {},
   "outputs": [
    {
     "name": "stdout",
     "output_type": "stream",
     "text": [
      "20\n",
      "0\n"
     ]
    }
   ],
   "source": [
    "m = 0\n",
    "\n",
    "def diffsum(x,y,z):\n",
    "    a = x + y + z\n",
    "    b = x ** 2 + y ** 2 + z ** 2 \n",
    "    c = abs(a - b)\n",
    "    def diffsum2(c):\n",
    "        global m\n",
    "        if c > m:\n",
    "            m = c\n",
    "        else:\n",
    "            m = m\n",
    "        return m\n",
    "    return c\n",
    "    \n",
    "    \n",
    "diffsum(2,3,4)\n",
    "print(c)\n",
    "print(m)"
   ]
  },
  {
   "cell_type": "code",
   "execution_count": 136,
   "metadata": {},
   "outputs": [
    {
     "name": "stdout",
     "output_type": "stream",
     "text": [
      "20\n",
      "0\n"
     ]
    }
   ],
   "source": [
    "m = 0\n",
    "\n",
    "def diffsum(x,y,z):\n",
    "    a = x + y + z\n",
    "    b = x ** 2 + y ** 2 + z ** 2 \n",
    "    c = abs(a - b)\n",
    "    def diffsum2(c):\n",
    "        global m\n",
    "        if c > m:\n",
    "            m = c\n",
    "        else:\n",
    "            m = m\n",
    "        return m\n",
    "    return c\n",
    "    \n",
    "    \n",
    "diffsum(2,3,4)"
   ]
  },
  {
   "cell_type": "code",
   "execution_count": 137,
   "metadata": {},
   "outputs": [
    {
     "data": {
      "text/plain": [
       "20"
      ]
     },
     "execution_count": 137,
     "metadata": {},
     "output_type": "execute_result"
    }
   ],
   "source": [
    "m = 0\n",
    "\n",
    "def diffsum(x,y,z):\n",
    "    a = x + y + z\n",
    "    b = x ** 2 + y ** 2 + z ** 2 \n",
    "    c = abs(a - b)\n",
    "    def diffsum2(c):\n",
    "        global m\n",
    "        if m < c:\n",
    "            m = c\n",
    "        else:\n",
    "            m = m\n",
    "        return m\n",
    "    return c\n",
    "    \n",
    "    \n",
    "diffsum(2,3,4)"
   ]
  },
  {
   "cell_type": "code",
   "execution_count": 138,
   "metadata": {},
   "outputs": [
    {
     "name": "stdout",
     "output_type": "stream",
     "text": [
      "0\n"
     ]
    }
   ],
   "source": [
    "m = 0\n",
    "\n",
    "def diffsum(x,y,z):\n",
    "    a = x + y + z\n",
    "    b = x ** 2 + y ** 2 + z ** 2 \n",
    "    c = abs(a - b)\n",
    "    def diffsum2(c):\n",
    "        global m\n",
    "        if m < c:\n",
    "            m = c\n",
    "        else:\n",
    "            m = m\n",
    "        return m\n",
    "    return c\n",
    "    \n",
    "    \n",
    "diffsum(2,3,4)\n",
    "print(m)"
   ]
  },
  {
   "cell_type": "code",
   "execution_count": 139,
   "metadata": {},
   "outputs": [
    {
     "name": "stdout",
     "output_type": "stream",
     "text": [
      "=\n",
      "=\n",
      "=\n",
      "=\n",
      "=\n",
      "=\n",
      "=\n",
      "=\n",
      "=\n",
      "=\n"
     ]
    }
   ],
   "source": [
    "for i in range(10):\n",
    "    print(\"=\")"
   ]
  },
  {
   "cell_type": "code",
   "execution_count": 140,
   "metadata": {},
   "outputs": [
    {
     "name": "stdout",
     "output_type": "stream",
     "text": [
      "0\n",
      "1\n",
      "2\n",
      "3\n",
      "4\n",
      "5\n",
      "6\n",
      "7\n",
      "8\n",
      "9\n"
     ]
    }
   ],
   "source": [
    "for i in range(10):\n",
    "    print(i)"
   ]
  },
  {
   "cell_type": "code",
   "execution_count": 141,
   "metadata": {},
   "outputs": [
    {
     "name": "stdout",
     "output_type": "stream",
     "text": [
      "=0=\n",
      "=1=\n",
      "=2=\n",
      "=3=\n",
      "=4=\n",
      "=5=\n",
      "=6=\n",
      "=7=\n",
      "=8=\n",
      "=9=\n"
     ]
    }
   ],
   "source": [
    "for i in range(10):\n",
    "    print(\"=\" + str(i) + \"=\")"
   ]
  },
  {
   "cell_type": "code",
   "execution_count": 142,
   "metadata": {},
   "outputs": [
    {
     "name": "stdout",
     "output_type": "stream",
     "text": [
      "=1=\n",
      "=2=\n",
      "=3=\n",
      "=4=\n",
      "=5=\n",
      "=6=\n",
      "=7=\n",
      "=8=\n",
      "=9=\n",
      "=10=\n"
     ]
    }
   ],
   "source": [
    "for i in range(10):\n",
    "    print(\"=\" + str(i + 1) + \"=\")"
   ]
  },
  {
   "cell_type": "code",
   "execution_count": 143,
   "metadata": {},
   "outputs": [
    {
     "name": "stdout",
     "output_type": "stream",
     "text": [
      "=8=\n",
      "=9=\n",
      "=10=\n",
      "=11=\n",
      "=12=\n",
      "=13=\n",
      "=14=\n",
      "=15=\n",
      "=16=\n",
      "=17=\n"
     ]
    }
   ],
   "source": [
    "for i in range(10):\n",
    "    print(\"=\" + str(i + 8) + \"=\")"
   ]
  },
  {
   "cell_type": "code",
   "execution_count": 144,
   "metadata": {},
   "outputs": [
    {
     "name": "stdout",
     "output_type": "stream",
     "text": [
      "*\n",
      "**\n",
      "***\n",
      "****\n",
      "*****\n",
      "******\n",
      "*******\n",
      "********\n",
      "*********\n",
      "**********\n"
     ]
    }
   ],
   "source": [
    "for i in range(10):\n",
    "    print(\"*\" * (i + 1))"
   ]
  },
  {
   "cell_type": "code",
   "execution_count": 145,
   "metadata": {},
   "outputs": [
    {
     "ename": "SyntaxError",
     "evalue": "can't assign to operator (<ipython-input-145-93dfdd5ff68d>, line 1)",
     "output_type": "error",
     "traceback": [
      "\u001b[1;36m  File \u001b[1;32m\"<ipython-input-145-93dfdd5ff68d>\"\u001b[1;36m, line \u001b[1;32m1\u001b[0m\n\u001b[1;33m    for -i in range(10):\u001b[0m\n\u001b[1;37m       ^\u001b[0m\n\u001b[1;31mSyntaxError\u001b[0m\u001b[1;31m:\u001b[0m can't assign to operator\n"
     ]
    }
   ],
   "source": [
    "for -i in range(10):\n",
    "    print(\"*\" * (i + 1))"
   ]
  },
  {
   "cell_type": "code",
   "execution_count": 146,
   "metadata": {},
   "outputs": [
    {
     "name": "stdout",
     "output_type": "stream",
     "text": [
      "*\n",
      "\n",
      "\n",
      "\n",
      "\n",
      "\n",
      "\n",
      "\n",
      "\n",
      "\n"
     ]
    }
   ],
   "source": [
    "for i in range(10):\n",
    "    print(\"*\" * (-i + 1))"
   ]
  },
  {
   "cell_type": "code",
   "execution_count": 147,
   "metadata": {},
   "outputs": [
    {
     "name": "stdout",
     "output_type": "stream",
     "text": [
      "**********\n",
      "*********\n",
      "********\n",
      "*******\n",
      "******\n",
      "*****\n",
      "****\n",
      "***\n",
      "**\n",
      "*\n"
     ]
    }
   ],
   "source": [
    "for i in range(10):\n",
    "    print(\"*\" * (10 - i))"
   ]
  },
  {
   "cell_type": "code",
   "execution_count": 148,
   "metadata": {},
   "outputs": [
    {
     "name": "stdout",
     "output_type": "stream",
     "text": [
      "*\n",
      "**\n",
      "***\n",
      "****\n",
      "*****\n",
      "******\n",
      "*******\n",
      "********\n",
      "*********\n",
      "**********\n"
     ]
    }
   ],
   "source": [
    "for i in range(10):\n",
    "    print(\"*\" * (i + 1))"
   ]
  },
  {
   "cell_type": "code",
   "execution_count": 152,
   "metadata": {},
   "outputs": [
    {
     "name": "stdout",
     "output_type": "stream",
     "text": [
      "*\n",
      "**\n",
      "***\n",
      "****\n",
      "*****\n",
      "******\n",
      "*******\n",
      "********\n",
      "*********\n",
      "**********\n"
     ]
    }
   ],
   "source": [
    "for i in range(10):\n",
    "    print(\"*\" * (i + 1))\n",
    "    if i == 10:\n",
    "        print(\"*\" * (10 - i))"
   ]
  },
  {
   "cell_type": "code",
   "execution_count": 153,
   "metadata": {},
   "outputs": [
    {
     "name": "stdout",
     "output_type": "stream",
     "text": [
      "*\n",
      "**\n",
      "***\n",
      "****\n",
      "*****\n",
      "******\n",
      "*******\n",
      "********\n",
      "*********\n",
      "**********\n"
     ]
    }
   ],
   "source": [
    "for i in range(10):\n",
    "    print(\"*\" * (i + 1))\n",
    "    if i == 10:\n",
    "        for j in range(9):\n",
    "            print(\"*\" * (9 - j))"
   ]
  },
  {
   "cell_type": "code",
   "execution_count": 154,
   "metadata": {},
   "outputs": [
    {
     "name": "stdout",
     "output_type": "stream",
     "text": [
      "*********\n",
      "********\n",
      "*******\n",
      "******\n",
      "*****\n",
      "****\n",
      "***\n",
      "**\n",
      "*\n"
     ]
    }
   ],
   "source": [
    "for j in range(9):\n",
    "    print(\"*\" * (9 - j))"
   ]
  },
  {
   "cell_type": "code",
   "execution_count": 155,
   "metadata": {},
   "outputs": [
    {
     "name": "stdout",
     "output_type": "stream",
     "text": [
      "*\n",
      "**\n",
      "***\n",
      "****\n",
      "*****\n",
      "******\n",
      "*******\n",
      "********\n",
      "*********\n",
      "**********\n",
      "*********\n",
      "********\n",
      "*******\n",
      "******\n",
      "*****\n",
      "****\n",
      "***\n",
      "**\n",
      "*\n"
     ]
    }
   ],
   "source": [
    "for i in range(10):\n",
    "    print(\"*\" * (i + 1))\n",
    "    if i == 9:\n",
    "        for j in range(9):\n",
    "            print(\"*\" * (9 - j)) # 연습문제 3.2.22"
   ]
  },
  {
   "cell_type": "code",
   "execution_count": 156,
   "metadata": {},
   "outputs": [
    {
     "name": "stdout",
     "output_type": "stream",
     "text": [
      "*\n"
     ]
    }
   ],
   "source": [
    "print(\"*\")"
   ]
  },
  {
   "cell_type": "code",
   "execution_count": 157,
   "metadata": {},
   "outputs": [
    {
     "name": "stdout",
     "output_type": "stream",
     "text": [
      "10%10\n"
     ]
    },
    {
     "ename": "TypeError",
     "evalue": "unsupported operand type(s) for %: 'NoneType' and 'str'",
     "output_type": "error",
     "traceback": [
      "\u001b[1;31m---------------------------------------------------------------------------\u001b[0m",
      "\u001b[1;31mTypeError\u001b[0m                                 Traceback (most recent call last)",
      "\u001b[1;32m<ipython-input-157-df5a35529b4b>\u001b[0m in \u001b[0;36m<module>\u001b[1;34m\u001b[0m\n\u001b[1;32m----> 1\u001b[1;33m \u001b[0mprint\u001b[0m\u001b[1;33m(\u001b[0m\u001b[1;34m\"10%10\"\u001b[0m\u001b[1;33m)\u001b[0m\u001b[1;33m%\u001b[0m\u001b[1;34m\"*\"\u001b[0m\u001b[1;33m\u001b[0m\u001b[1;33m\u001b[0m\u001b[0m\n\u001b[0m",
      "\u001b[1;31mTypeError\u001b[0m: unsupported operand type(s) for %: 'NoneType' and 'str'"
     ]
    }
   ],
   "source": [
    "print(\"10%10\")%\"*\""
   ]
  },
  {
   "cell_type": "code",
   "execution_count": 158,
   "metadata": {},
   "outputs": [
    {
     "name": "stdout",
     "output_type": "stream",
     "text": [
      "10%S10\n"
     ]
    },
    {
     "ename": "TypeError",
     "evalue": "unsupported operand type(s) for %: 'NoneType' and 'str'",
     "output_type": "error",
     "traceback": [
      "\u001b[1;31m---------------------------------------------------------------------------\u001b[0m",
      "\u001b[1;31mTypeError\u001b[0m                                 Traceback (most recent call last)",
      "\u001b[1;32m<ipython-input-158-aca3b11275d4>\u001b[0m in \u001b[0;36m<module>\u001b[1;34m\u001b[0m\n\u001b[1;32m----> 1\u001b[1;33m \u001b[0mprint\u001b[0m\u001b[1;33m(\u001b[0m\u001b[1;34m\"10%S10\"\u001b[0m\u001b[1;33m)\u001b[0m\u001b[1;33m%\u001b[0m\u001b[1;34m\"*\"\u001b[0m\u001b[1;33m\u001b[0m\u001b[1;33m\u001b[0m\u001b[0m\n\u001b[0m",
      "\u001b[1;31mTypeError\u001b[0m: unsupported operand type(s) for %: 'NoneType' and 'str'"
     ]
    }
   ],
   "source": [
    "print(\"10%S10\")%\"*\""
   ]
  },
  {
   "cell_type": "code",
   "execution_count": 159,
   "metadata": {},
   "outputs": [
    {
     "name": "stdout",
     "output_type": "stream",
     "text": [
      "%S10\n"
     ]
    },
    {
     "ename": "TypeError",
     "evalue": "unsupported operand type(s) for %: 'NoneType' and 'str'",
     "output_type": "error",
     "traceback": [
      "\u001b[1;31m---------------------------------------------------------------------------\u001b[0m",
      "\u001b[1;31mTypeError\u001b[0m                                 Traceback (most recent call last)",
      "\u001b[1;32m<ipython-input-159-9fc671cb841a>\u001b[0m in \u001b[0;36m<module>\u001b[1;34m\u001b[0m\n\u001b[1;32m----> 1\u001b[1;33m \u001b[0mprint\u001b[0m\u001b[1;33m(\u001b[0m\u001b[1;34m\"%S10\"\u001b[0m\u001b[1;33m)\u001b[0m\u001b[1;33m%\u001b[0m\u001b[1;34m\"*\"\u001b[0m\u001b[1;33m\u001b[0m\u001b[1;33m\u001b[0m\u001b[0m\n\u001b[0m",
      "\u001b[1;31mTypeError\u001b[0m: unsupported operand type(s) for %: 'NoneType' and 'str'"
     ]
    }
   ],
   "source": [
    "print(\"%S10\")%\"*\""
   ]
  },
  {
   "cell_type": "code",
   "execution_count": 160,
   "metadata": {},
   "outputs": [
    {
     "name": "stdout",
     "output_type": "stream",
     "text": [
      "%10S\n"
     ]
    },
    {
     "ename": "TypeError",
     "evalue": "unsupported operand type(s) for %: 'NoneType' and 'str'",
     "output_type": "error",
     "traceback": [
      "\u001b[1;31m---------------------------------------------------------------------------\u001b[0m",
      "\u001b[1;31mTypeError\u001b[0m                                 Traceback (most recent call last)",
      "\u001b[1;32m<ipython-input-160-48cdbc8b3920>\u001b[0m in \u001b[0;36m<module>\u001b[1;34m\u001b[0m\n\u001b[1;32m----> 1\u001b[1;33m \u001b[0mprint\u001b[0m\u001b[1;33m(\u001b[0m\u001b[1;34m\"%10S\"\u001b[0m\u001b[1;33m)\u001b[0m\u001b[1;33m%\u001b[0m\u001b[1;34m\"*\"\u001b[0m\u001b[1;33m\u001b[0m\u001b[1;33m\u001b[0m\u001b[0m\n\u001b[0m",
      "\u001b[1;31mTypeError\u001b[0m: unsupported operand type(s) for %: 'NoneType' and 'str'"
     ]
    }
   ],
   "source": [
    "print(\"%10S\")%\"*\""
   ]
  },
  {
   "cell_type": "code",
   "execution_count": 161,
   "metadata": {},
   "outputs": [
    {
     "ename": "ValueError",
     "evalue": "unsupported format character 'S' (0x53) at index 3",
     "output_type": "error",
     "traceback": [
      "\u001b[1;31m---------------------------------------------------------------------------\u001b[0m",
      "\u001b[1;31mValueError\u001b[0m                                Traceback (most recent call last)",
      "\u001b[1;32m<ipython-input-161-f0fd9f3c6740>\u001b[0m in \u001b[0;36m<module>\u001b[1;34m\u001b[0m\n\u001b[1;32m----> 1\u001b[1;33m \u001b[1;34m\"%10S\"\u001b[0m\u001b[1;33m%\u001b[0m\u001b[1;34m\"*\"\u001b[0m\u001b[1;33m\u001b[0m\u001b[1;33m\u001b[0m\u001b[0m\n\u001b[0m",
      "\u001b[1;31mValueError\u001b[0m: unsupported format character 'S' (0x53) at index 3"
     ]
    }
   ],
   "source": [
    "\"%10S\"%\"*\""
   ]
  },
  {
   "cell_type": "code",
   "execution_count": 162,
   "metadata": {},
   "outputs": [
    {
     "ename": "ValueError",
     "evalue": "unsupported format character 'S' (0x53) at index 7",
     "output_type": "error",
     "traceback": [
      "\u001b[1;31m---------------------------------------------------------------------------\u001b[0m",
      "\u001b[1;31mValueError\u001b[0m                                Traceback (most recent call last)",
      "\u001b[1;32m<ipython-input-162-eb6b2cbfb813>\u001b[0m in \u001b[0;36m<module>\u001b[1;34m\u001b[0m\n\u001b[1;32m----> 1\u001b[1;33m \u001b[1;34m\"내 이름은 %S입니다.\"\u001b[0m\u001b[1;33m%\u001b[0m\u001b[1;34m\"홍길동\"\u001b[0m\u001b[1;33m\u001b[0m\u001b[1;33m\u001b[0m\u001b[0m\n\u001b[0m",
      "\u001b[1;31mValueError\u001b[0m: unsupported format character 'S' (0x53) at index 7"
     ]
    }
   ],
   "source": [
    "\"내 이름은 %S입니다.\"%\"홍길동\""
   ]
  },
  {
   "cell_type": "code",
   "execution_count": 163,
   "metadata": {},
   "outputs": [
    {
     "data": {
      "text/plain": [
       "'내 이름은 홍길동입니다.'"
      ]
     },
     "execution_count": 163,
     "metadata": {},
     "output_type": "execute_result"
    }
   ],
   "source": [
    "\"내 이름은 %s입니다.\"%\"홍길동\""
   ]
  },
  {
   "cell_type": "code",
   "execution_count": 164,
   "metadata": {},
   "outputs": [
    {
     "ename": "ValueError",
     "evalue": "unsupported format character 'S' (0x53) at index 7",
     "output_type": "error",
     "traceback": [
      "\u001b[1;31m---------------------------------------------------------------------------\u001b[0m",
      "\u001b[1;31mValueError\u001b[0m                                Traceback (most recent call last)",
      "\u001b[1;32m<ipython-input-164-96853434cf96>\u001b[0m in \u001b[0;36m<module>\u001b[1;34m\u001b[0m\n\u001b[1;32m----> 1\u001b[1;33m \u001b[0mprint\u001b[0m\u001b[1;33m(\u001b[0m\u001b[1;34m\"내 이름은 %S입니다.\"\u001b[0m\u001b[1;33m%\u001b[0m\u001b[1;34m\"홍길동\"\u001b[0m\u001b[1;33m)\u001b[0m\u001b[1;33m\u001b[0m\u001b[1;33m\u001b[0m\u001b[0m\n\u001b[0m",
      "\u001b[1;31mValueError\u001b[0m: unsupported format character 'S' (0x53) at index 7"
     ]
    }
   ],
   "source": [
    "print(\"내 이름은 %S입니다.\"%\"홍길동\")"
   ]
  },
  {
   "cell_type": "code",
   "execution_count": 165,
   "metadata": {},
   "outputs": [
    {
     "name": "stdout",
     "output_type": "stream",
     "text": [
      "내 이름은 홍길동입니다.\n"
     ]
    }
   ],
   "source": [
    "print(\"내 이름은 %s입니다.\"%\"홍길동\")"
   ]
  },
  {
   "cell_type": "code",
   "execution_count": 166,
   "metadata": {},
   "outputs": [
    {
     "name": "stdout",
     "output_type": "stream",
     "text": [
      "*\n"
     ]
    }
   ],
   "source": [
    "print(\"%s\"%\"*\")"
   ]
  },
  {
   "cell_type": "code",
   "execution_count": 167,
   "metadata": {},
   "outputs": [
    {
     "name": "stdout",
     "output_type": "stream",
     "text": [
      "                   *\n"
     ]
    }
   ],
   "source": [
    "print(\"%20s\"%\"*\")"
   ]
  },
  {
   "cell_type": "code",
   "execution_count": 168,
   "metadata": {},
   "outputs": [
    {
     "name": "stdout",
     "output_type": "stream",
     "text": [
      "    *\n",
      " ***\n"
     ]
    }
   ],
   "source": [
    "print(\"%5s\"%\"*\")\n",
    "print(\"%4s\"%\"***\")"
   ]
  },
  {
   "cell_type": "code",
   "execution_count": 169,
   "metadata": {},
   "outputs": [
    {
     "name": "stdout",
     "output_type": "stream",
     "text": [
      "    *\n",
      "  ***\n"
     ]
    }
   ],
   "source": [
    "print(\"%5s\"%\"*\")\n",
    "print(\"%5s\"%\"***\")"
   ]
  },
  {
   "cell_type": "code",
   "execution_count": 170,
   "metadata": {},
   "outputs": [
    {
     "name": "stdout",
     "output_type": "stream",
     "text": [
      "    *\n",
      "*** \n"
     ]
    }
   ],
   "source": [
    "print(\"%5s\"%\"*\")\n",
    "print(\"%-4s\"%\"***\")"
   ]
  },
  {
   "cell_type": "code",
   "execution_count": 171,
   "metadata": {},
   "outputs": [
    {
     "name": "stdout",
     "output_type": "stream",
     "text": [
      "    *\n",
      "***  \n"
     ]
    }
   ],
   "source": [
    "print(\"%5s\"%\"*\")\n",
    "print(\"%-5s\"%\"***\")"
   ]
  },
  {
   "cell_type": "code",
   "execution_count": 172,
   "metadata": {},
   "outputs": [
    {
     "name": "stdout",
     "output_type": "stream",
     "text": [
      "    *\n",
      "   ***\n"
     ]
    }
   ],
   "source": [
    "print(\"%5s\"%\"*\")\n",
    "print(\"%6s\"%\"***\")"
   ]
  },
  {
   "cell_type": "code",
   "execution_count": 173,
   "metadata": {},
   "outputs": [
    {
     "name": "stdout",
     "output_type": "stream",
     "text": [
      "    *\n",
      "   ***\n",
      "  *****\n"
     ]
    }
   ],
   "source": [
    "print(\"%5s\"%\"*\")\n",
    "print(\"%6s\"%\"***\")\n",
    "print(\"%7s\"%\"*****\")"
   ]
  },
  {
   "cell_type": "code",
   "execution_count": 174,
   "metadata": {},
   "outputs": [
    {
     "ename": "TypeError",
     "evalue": "format requires a mapping",
     "output_type": "error",
     "traceback": [
      "\u001b[1;31m---------------------------------------------------------------------------\u001b[0m",
      "\u001b[1;31mTypeError\u001b[0m                                 Traceback (most recent call last)",
      "\u001b[1;32m<ipython-input-174-682a270be4e7>\u001b[0m in \u001b[0;36m<module>\u001b[1;34m\u001b[0m\n\u001b[0;32m      1\u001b[0m \u001b[1;32mfor\u001b[0m \u001b[0mi\u001b[0m \u001b[1;32min\u001b[0m \u001b[0mrange\u001b[0m\u001b[1;33m(\u001b[0m\u001b[1;36m6\u001b[0m\u001b[1;33m)\u001b[0m\u001b[1;33m:\u001b[0m\u001b[1;33m\u001b[0m\u001b[1;33m\u001b[0m\u001b[0m\n\u001b[1;32m----> 2\u001b[1;33m     \u001b[0mprint\u001b[0m\u001b[1;33m(\u001b[0m\u001b[1;34m\"%(5 + i)s\"\u001b[0m\u001b[1;33m%\u001b[0m\u001b[1;34m\"*\"\u001b[0m \u001b[1;33m*\u001b[0m \u001b[1;33m(\u001b[0m\u001b[1;36m2\u001b[0m \u001b[1;33m*\u001b[0m \u001b[0mi\u001b[0m \u001b[1;33m+\u001b[0m \u001b[1;36m1\u001b[0m\u001b[1;33m)\u001b[0m\u001b[1;33m)\u001b[0m\u001b[1;33m\u001b[0m\u001b[1;33m\u001b[0m\u001b[0m\n\u001b[0m",
      "\u001b[1;31mTypeError\u001b[0m: format requires a mapping"
     ]
    }
   ],
   "source": [
    "for i in range(6):\n",
    "    print(\"%(5 + i)s\"%\"*\" * (2 * i + 1))"
   ]
  },
  {
   "cell_type": "code",
   "execution_count": 175,
   "metadata": {},
   "outputs": [
    {
     "ename": "TypeError",
     "evalue": "format requires a mapping",
     "output_type": "error",
     "traceback": [
      "\u001b[1;31m---------------------------------------------------------------------------\u001b[0m",
      "\u001b[1;31mTypeError\u001b[0m                                 Traceback (most recent call last)",
      "\u001b[1;32m<ipython-input-175-65ef1398ff5f>\u001b[0m in \u001b[0;36m<module>\u001b[1;34m\u001b[0m\n\u001b[0;32m      1\u001b[0m \u001b[1;32mfor\u001b[0m \u001b[0mi\u001b[0m \u001b[1;32min\u001b[0m \u001b[0mrange\u001b[0m\u001b[1;33m(\u001b[0m\u001b[1;36m6\u001b[0m\u001b[1;33m)\u001b[0m\u001b[1;33m:\u001b[0m\u001b[1;33m\u001b[0m\u001b[1;33m\u001b[0m\u001b[0m\n\u001b[1;32m----> 2\u001b[1;33m     \u001b[0mprint\u001b[0m\u001b[1;33m(\u001b[0m\u001b[1;34m\"%(i + 5)s\"\u001b[0m\u001b[1;33m%\u001b[0m\u001b[1;34m\"*\"\u001b[0m \u001b[1;33m*\u001b[0m \u001b[1;33m(\u001b[0m\u001b[1;36m2\u001b[0m \u001b[1;33m*\u001b[0m \u001b[0mi\u001b[0m \u001b[1;33m+\u001b[0m \u001b[1;36m1\u001b[0m\u001b[1;33m)\u001b[0m\u001b[1;33m)\u001b[0m\u001b[1;33m\u001b[0m\u001b[1;33m\u001b[0m\u001b[0m\n\u001b[0m",
      "\u001b[1;31mTypeError\u001b[0m: format requires a mapping"
     ]
    }
   ],
   "source": [
    "for i in range(6):\n",
    "    print(\"%(i + 5)s\"%\"*\" * (2 * i + 1))"
   ]
  },
  {
   "cell_type": "code",
   "execution_count": 176,
   "metadata": {},
   "outputs": [
    {
     "ename": "SyntaxError",
     "evalue": "unexpected EOF while parsing (<ipython-input-176-a3faca2bbfc9>, line 2)",
     "output_type": "error",
     "traceback": [
      "\u001b[1;36m  File \u001b[1;32m\"<ipython-input-176-a3faca2bbfc9>\"\u001b[1;36m, line \u001b[1;32m2\u001b[0m\n\u001b[1;33m    print(\"%(i + 5)s\"%\"*\" * (2 * i + 1)\u001b[0m\n\u001b[1;37m                                       ^\u001b[0m\n\u001b[1;31mSyntaxError\u001b[0m\u001b[1;31m:\u001b[0m unexpected EOF while parsing\n"
     ]
    }
   ],
   "source": [
    "for i in range(6):\n",
    "    print(\"%(i + 5)s\"%\"*\" * (2 * i + 1)"
   ]
  },
  {
   "cell_type": "code",
   "execution_count": 177,
   "metadata": {},
   "outputs": [
    {
     "ename": "TypeError",
     "evalue": "format requires a mapping",
     "output_type": "error",
     "traceback": [
      "\u001b[1;31m---------------------------------------------------------------------------\u001b[0m",
      "\u001b[1;31mTypeError\u001b[0m                                 Traceback (most recent call last)",
      "\u001b[1;32m<ipython-input-177-1d254e65e419>\u001b[0m in \u001b[0;36m<module>\u001b[1;34m\u001b[0m\n\u001b[0;32m      1\u001b[0m \u001b[1;32mfor\u001b[0m \u001b[0mi\u001b[0m \u001b[1;32min\u001b[0m \u001b[0mrange\u001b[0m\u001b[1;33m(\u001b[0m\u001b[1;36m6\u001b[0m\u001b[1;33m)\u001b[0m\u001b[1;33m:\u001b[0m\u001b[1;33m\u001b[0m\u001b[1;33m\u001b[0m\u001b[0m\n\u001b[1;32m----> 2\u001b[1;33m    \u001b[1;34m\"%(i + 5)s\"\u001b[0m\u001b[1;33m%\u001b[0m\u001b[1;34m\"*\"\u001b[0m \u001b[1;33m*\u001b[0m \u001b[1;33m(\u001b[0m\u001b[1;36m2\u001b[0m \u001b[1;33m*\u001b[0m \u001b[0mi\u001b[0m \u001b[1;33m+\u001b[0m \u001b[1;36m1\u001b[0m\u001b[1;33m)\u001b[0m\u001b[1;33m\u001b[0m\u001b[1;33m\u001b[0m\u001b[0m\n\u001b[0m",
      "\u001b[1;31mTypeError\u001b[0m: format requires a mapping"
     ]
    }
   ],
   "source": [
    "for i in range(6):\n",
    "   \"%(i + 5)s\"%\"*\" * (2 * i + 1)"
   ]
  },
  {
   "cell_type": "code",
   "execution_count": 178,
   "metadata": {},
   "outputs": [
    {
     "name": "stdout",
     "output_type": "stream",
     "text": [
      "    *\n",
      "    *    *    *\n",
      "    *    *    *    *    *\n",
      "    *    *    *    *    *    *    *\n",
      "    *    *    *    *    *    *    *    *    *\n",
      "    *    *    *    *    *    *    *    *    *    *    *\n"
     ]
    }
   ],
   "source": [
    "for i in range(6):\n",
    "    print(\"%5s\"%\"*\" * (2 * i + 1))"
   ]
  },
  {
   "cell_type": "code",
   "execution_count": 179,
   "metadata": {},
   "outputs": [
    {
     "name": "stdout",
     "output_type": "stream",
     "text": [
      " *\n",
      " * * *\n",
      " * * * * *\n",
      " * * * * * * *\n",
      " * * * * * * * * *\n",
      " * * * * * * * * * * *\n"
     ]
    }
   ],
   "source": [
    "for i in range(6):\n",
    "    print(\"%2s\"%\"*\" * (2 * i + 1))"
   ]
  },
  {
   "cell_type": "code",
   "execution_count": 180,
   "metadata": {},
   "outputs": [
    {
     "name": "stdout",
     "output_type": "stream",
     "text": [
      "    *\n",
      "   ***\n",
      "  *****\n"
     ]
    }
   ],
   "source": [
    "print(\"%5s\"%\"*\")\n",
    "print(\"%6s\"%\"***\")\n",
    "print(\"%7s\"%\"*****\")"
   ]
  },
  {
   "cell_type": "code",
   "execution_count": 181,
   "metadata": {},
   "outputs": [
    {
     "ename": "TypeError",
     "evalue": "format requires a mapping",
     "output_type": "error",
     "traceback": [
      "\u001b[1;31m---------------------------------------------------------------------------\u001b[0m",
      "\u001b[1;31mTypeError\u001b[0m                                 Traceback (most recent call last)",
      "\u001b[1;32m<ipython-input-181-7e246cdd22d8>\u001b[0m in \u001b[0;36m<module>\u001b[1;34m\u001b[0m\n\u001b[0;32m      1\u001b[0m \u001b[1;32mfor\u001b[0m \u001b[0mi\u001b[0m \u001b[1;32min\u001b[0m \u001b[0mrange\u001b[0m\u001b[1;33m(\u001b[0m\u001b[1;36m6\u001b[0m\u001b[1;33m)\u001b[0m\u001b[1;33m:\u001b[0m\u001b[1;33m\u001b[0m\u001b[1;33m\u001b[0m\u001b[0m\n\u001b[1;32m----> 2\u001b[1;33m     \u001b[0mprint\u001b[0m\u001b[1;33m(\u001b[0m\u001b[1;34m\"%(i*s+5s)\"\u001b[0m\u001b[1;33m%\u001b[0m\u001b[1;34m\"*\"\u001b[0m\u001b[1;33m*\u001b[0m\u001b[1;33m(\u001b[0m\u001b[1;36m2\u001b[0m\u001b[1;33m*\u001b[0m\u001b[0mi\u001b[0m \u001b[1;33m-\u001b[0m \u001b[1;36m1\u001b[0m\u001b[1;33m)\u001b[0m\u001b[1;33m)\u001b[0m\u001b[1;33m\u001b[0m\u001b[1;33m\u001b[0m\u001b[0m\n\u001b[0m",
      "\u001b[1;31mTypeError\u001b[0m: format requires a mapping"
     ]
    }
   ],
   "source": [
    "for i in range(6):\n",
    "    print(\"%(i*s+5s)\"%\"*\"*(2*i - 1))"
   ]
  },
  {
   "cell_type": "code",
   "execution_count": 182,
   "metadata": {},
   "outputs": [
    {
     "ename": "TypeError",
     "evalue": "format requires a mapping",
     "output_type": "error",
     "traceback": [
      "\u001b[1;31m---------------------------------------------------------------------------\u001b[0m",
      "\u001b[1;31mTypeError\u001b[0m                                 Traceback (most recent call last)",
      "\u001b[1;32m<ipython-input-182-8ecba2e1dbb5>\u001b[0m in \u001b[0;36m<module>\u001b[1;34m\u001b[0m\n\u001b[0;32m      1\u001b[0m \u001b[1;32mfor\u001b[0m \u001b[0mi\u001b[0m \u001b[1;32min\u001b[0m \u001b[0mrange\u001b[0m\u001b[1;33m(\u001b[0m\u001b[1;36m6\u001b[0m\u001b[1;33m)\u001b[0m\u001b[1;33m:\u001b[0m\u001b[1;33m\u001b[0m\u001b[1;33m\u001b[0m\u001b[0m\n\u001b[1;32m----> 2\u001b[1;33m     \u001b[0mprint\u001b[0m\u001b[1;33m(\u001b[0m\u001b[1;34m\"%(is+5s)\"\u001b[0m\u001b[1;33m%\u001b[0m\u001b[1;34m\"*\"\u001b[0m\u001b[1;33m*\u001b[0m\u001b[1;33m(\u001b[0m\u001b[1;36m2\u001b[0m\u001b[1;33m*\u001b[0m\u001b[0mi\u001b[0m \u001b[1;33m-\u001b[0m \u001b[1;36m1\u001b[0m\u001b[1;33m)\u001b[0m\u001b[1;33m)\u001b[0m\u001b[1;33m\u001b[0m\u001b[1;33m\u001b[0m\u001b[0m\n\u001b[0m",
      "\u001b[1;31mTypeError\u001b[0m: format requires a mapping"
     ]
    }
   ],
   "source": [
    "for i in range(6):\n",
    "    print(\"%(is+5s)\"%\"*\"*(2*i - 1))"
   ]
  },
  {
   "cell_type": "code",
   "execution_count": 183,
   "metadata": {},
   "outputs": [
    {
     "name": "stdout",
     "output_type": "stream",
     "text": [
      "\n",
      "    *\n",
      "    *    *    *\n",
      "    *    *    *    *    *\n",
      "    *    *    *    *    *    *    *\n",
      "    *    *    *    *    *    *    *    *    *\n"
     ]
    }
   ],
   "source": [
    "for i in range(6):\n",
    "    print(\"%5s\"%\"*\"*(2*i - 1))"
   ]
  },
  {
   "cell_type": "code",
   "execution_count": 184,
   "metadata": {},
   "outputs": [
    {
     "name": "stdout",
     "output_type": "stream",
     "text": [
      "    *\n",
      "   ***\n",
      "  *****\n"
     ]
    },
    {
     "ename": "TypeError",
     "evalue": "not all arguments converted during string formatting",
     "output_type": "error",
     "traceback": [
      "\u001b[1;31m---------------------------------------------------------------------------\u001b[0m",
      "\u001b[1;31mTypeError\u001b[0m                                 Traceback (most recent call last)",
      "\u001b[1;32m<ipython-input-184-fd7446597afc>\u001b[0m in \u001b[0;36m<module>\u001b[1;34m\u001b[0m\n\u001b[0;32m      2\u001b[0m \u001b[0mprint\u001b[0m\u001b[1;33m(\u001b[0m\u001b[1;34m\"%6s\"\u001b[0m\u001b[1;33m%\u001b[0m\u001b[1;34m\"***\"\u001b[0m\u001b[1;33m)\u001b[0m\u001b[1;33m\u001b[0m\u001b[1;33m\u001b[0m\u001b[0m\n\u001b[0;32m      3\u001b[0m \u001b[0mprint\u001b[0m\u001b[1;33m(\u001b[0m\u001b[1;34m\"%7s\"\u001b[0m\u001b[1;33m%\u001b[0m\u001b[1;34m\"*****\"\u001b[0m\u001b[1;33m)\u001b[0m\u001b[1;33m\u001b[0m\u001b[1;33m\u001b[0m\u001b[0m\n\u001b[1;32m----> 4\u001b[1;33m \u001b[0mprint\u001b[0m\u001b[1;33m(\u001b[0m\u001b[1;34m\"&8s\"\u001b[0m\u001b[1;33m%\u001b[0m\u001b[1;34m\"*******\"\u001b[0m\u001b[1;33m)\u001b[0m\u001b[1;33m\u001b[0m\u001b[1;33m\u001b[0m\u001b[0m\n\u001b[0m",
      "\u001b[1;31mTypeError\u001b[0m: not all arguments converted during string formatting"
     ]
    }
   ],
   "source": [
    "print(\"%5s\"%\"*\")\n",
    "print(\"%6s\"%\"***\")\n",
    "print(\"%7s\"%\"*****\")\n",
    "print(\"%8s\"%\"*******\")"
   ]
  },
  {
   "cell_type": "code",
   "execution_count": 185,
   "metadata": {},
   "outputs": [
    {
     "name": "stdout",
     "output_type": "stream",
     "text": [
      "    *\n",
      "   ***\n",
      "  *****\n",
      " *******\n"
     ]
    }
   ],
   "source": [
    "print(\"%5s\"%\"*\")\n",
    "print(\"%6s\"%\"***\")\n",
    "print(\"%7s\"%\"*****\")\n",
    "print(\"%8s\"%\"*******\")"
   ]
  },
  {
   "cell_type": "code",
   "execution_count": 186,
   "metadata": {},
   "outputs": [
    {
     "name": "stdout",
     "output_type": "stream",
     "text": [
      "    *\n",
      "   ***\n",
      "  *****\n",
      " *******\n",
      " *********\n"
     ]
    }
   ],
   "source": [
    "print(\"%5s\"%\"*\")\n",
    "print(\"%6s\"%\"***\")\n",
    "print(\"%7s\"%\"*****\")\n",
    "print(\"%8s\"%\"*******\")\n",
    "print(\"%10s\"%\"**********\")"
   ]
  },
  {
   "cell_type": "code",
   "execution_count": 187,
   "metadata": {},
   "outputs": [
    {
     "name": "stdout",
     "output_type": "stream",
     "text": [
      "    *\n",
      "   ***\n",
      "  *****\n",
      " *******\n",
      "**********\n"
     ]
    }
   ],
   "source": [
    "print(\"%5s\"%\"*\")\n",
    "print(\"%6s\"%\"***\")\n",
    "print(\"%7s\"%\"*****\")\n",
    "print(\"%8s\"%\"*******\")\n",
    "print(\"%10s\"%\"**********\")"
   ]
  },
  {
   "cell_type": "code",
   "execution_count": 188,
   "metadata": {},
   "outputs": [
    {
     "data": {
      "text/plain": [
       "'    *'"
      ]
     },
     "execution_count": 188,
     "metadata": {},
     "output_type": "execute_result"
    }
   ],
   "source": [
    "\"{:>5}\".format(\"*\")"
   ]
  },
  {
   "cell_type": "code",
   "execution_count": 189,
   "metadata": {},
   "outputs": [
    {
     "data": {
      "text/plain": [
       "'     *'"
      ]
     },
     "execution_count": 189,
     "metadata": {},
     "output_type": "execute_result"
    }
   ],
   "source": [
    "\"{:>6}\".format(\"*\")"
   ]
  },
  {
   "cell_type": "code",
   "execution_count": 190,
   "metadata": {},
   "outputs": [
    {
     "data": {
      "text/plain": [
       "'    ***'"
      ]
     },
     "execution_count": 190,
     "metadata": {},
     "output_type": "execute_result"
    }
   ],
   "source": [
    "print(\"{:>5}\".format(\"*\"))\n",
    "print(\"{:>7}\".format(\"***\"))"
   ]
  },
  {
   "cell_type": "code",
   "execution_count": 191,
   "metadata": {},
   "outputs": [
    {
     "name": "stdout",
     "output_type": "stream",
     "text": [
      "    *\n",
      "    ***\n"
     ]
    }
   ],
   "source": [
    "print(\"{:>5}\".format(\"*\"))\n",
    "print(\"{:>7}\".format(\"***\"))"
   ]
  },
  {
   "cell_type": "code",
   "execution_count": 192,
   "metadata": {},
   "outputs": [],
   "source": [
    "for i in range(5):\n",
    "    j = i + 1\n",
    "    j"
   ]
  },
  {
   "cell_type": "code",
   "execution_count": 193,
   "metadata": {},
   "outputs": [
    {
     "data": {
      "text/plain": [
       "5"
      ]
     },
     "execution_count": 193,
     "metadata": {},
     "output_type": "execute_result"
    }
   ],
   "source": [
    "for i in range(5):\n",
    "    j = i + 1\n",
    "j"
   ]
  },
  {
   "cell_type": "code",
   "execution_count": 197,
   "metadata": {},
   "outputs": [
    {
     "name": "stdout",
     "output_type": "stream",
     "text": [
      "8\n",
      "9\n",
      "10\n",
      "11\n",
      "12\n"
     ]
    }
   ],
   "source": [
    "for i in range(5):\n",
    "    j = i + 8\n",
    "    print(j)"
   ]
  },
  {
   "cell_type": "code",
   "execution_count": 198,
   "metadata": {},
   "outputs": [
    {
     "name": "stdout",
     "output_type": "stream",
     "text": [
      "    *\n",
      "   ***\n",
      "  *****\n",
      " *******\n",
      "**********\n"
     ]
    }
   ],
   "source": [
    "print(\"%5s\"%\"*\")\n",
    "print(\"%6s\"%\"***\")\n",
    "print(\"%7s\"%\"*****\")\n",
    "print(\"%8s\"%\"*******\")\n",
    "print(\"%10s\"%\"**********\")"
   ]
  },
  {
   "cell_type": "code",
   "execution_count": 199,
   "metadata": {},
   "outputs": [
    {
     "name": "stdout",
     "output_type": "stream",
     "text": [
      "     *\n"
     ]
    }
   ],
   "source": [
    "print(\" \"*5 +\"*\")"
   ]
  },
  {
   "cell_type": "code",
   "execution_count": 200,
   "metadata": {},
   "outputs": [
    {
     "name": "stdout",
     "output_type": "stream",
     "text": [
      "     *\n",
      "       ***\n"
     ]
    }
   ],
   "source": [
    "print(\" \"*5 +\"*\")\n",
    "print(\" \"*7 +\"*\"*3)"
   ]
  },
  {
   "cell_type": "code",
   "execution_count": 201,
   "metadata": {},
   "outputs": [
    {
     "name": "stdout",
     "output_type": "stream",
     "text": [
      "     *\n",
      "     ***\n"
     ]
    }
   ],
   "source": [
    "print(\" \"*5 +\"*\")\n",
    "print(\" \"*5 +\"*\"*3)"
   ]
  },
  {
   "cell_type": "code",
   "execution_count": 202,
   "metadata": {},
   "outputs": [
    {
     "name": "stdout",
     "output_type": "stream",
     "text": [
      "     *\n",
      "   ***\n"
     ]
    }
   ],
   "source": [
    "print(\" \"*5 +\"*\")\n",
    "print(\" \"*3 +\"*\"*3)"
   ]
  },
  {
   "cell_type": "code",
   "execution_count": 203,
   "metadata": {},
   "outputs": [
    {
     "name": "stdout",
     "output_type": "stream",
     "text": [
      "     *\n",
      "    ***\n"
     ]
    }
   ],
   "source": [
    "print(\" \"*5 +\"*\")\n",
    "print(\" \"*4 +\"*\"*3)"
   ]
  },
  {
   "cell_type": "code",
   "execution_count": 204,
   "metadata": {},
   "outputs": [
    {
     "name": "stdout",
     "output_type": "stream",
     "text": [
      "     *\n",
      "    ***\n",
      "   *****\n"
     ]
    }
   ],
   "source": [
    "print(\" \"*5 +\"*\")\n",
    "print(\" \"*4 +\"*\"*3)\n",
    "print(\" \"*3 +\"*\"*5)"
   ]
  },
  {
   "cell_type": "code",
   "execution_count": 205,
   "metadata": {},
   "outputs": [
    {
     "name": "stdout",
     "output_type": "stream",
     "text": [
      "     *\n",
      "    ***\n",
      "   *****\n",
      "  *******\n"
     ]
    }
   ],
   "source": [
    "print(\" \"*5 +\"*\")\n",
    "print(\" \"*4 +\"*\"*3)\n",
    "print(\" \"*3 +\"*\"*5)\n",
    "print(\" \"*2 +\"*\"*7)"
   ]
  },
  {
   "cell_type": "code",
   "execution_count": 206,
   "metadata": {},
   "outputs": [
    {
     "name": "stdout",
     "output_type": "stream",
     "text": [
      "     *\n",
      "    ***\n",
      "   *****\n",
      "  *******\n",
      " *********\n"
     ]
    }
   ],
   "source": [
    "print(\" \"*5 +\"*\")\n",
    "print(\" \"*4 +\"*\"*3)\n",
    "print(\" \"*3 +\"*\"*5)\n",
    "print(\" \"*2 +\"*\"*7)\n",
    "print(\" \"*1 +\"*\"*9)"
   ]
  },
  {
   "cell_type": "code",
   "execution_count": 207,
   "metadata": {},
   "outputs": [
    {
     "name": "stdout",
     "output_type": "stream",
     "text": [
      "     *\n",
      "    ***\n",
      "   *****\n",
      "  *******\n",
      " *********\n",
      "***********\n"
     ]
    }
   ],
   "source": [
    "print(\" \"*5 +\"*\")\n",
    "print(\" \"*4 +\"*\"*3)\n",
    "print(\" \"*3 +\"*\"*5)\n",
    "print(\" \"*2 +\"*\"*7)\n",
    "print(\" \"*1 +\"*\"*9)\n",
    "print(\" \"*0 +\"*\"*11)"
   ]
  },
  {
   "cell_type": "code",
   "execution_count": 208,
   "metadata": {},
   "outputs": [
    {
     "name": "stdout",
     "output_type": "stream",
     "text": [
      "     *\n",
      "    ***\n",
      "   *****\n",
      "  *******\n",
      " *********\n",
      "***********\n"
     ]
    }
   ],
   "source": [
    "for i in range(6):\n",
    "    print(\" \" * (5 - i) + \"*\" * (2 * i + 1))"
   ]
  },
  {
   "cell_type": "code",
   "execution_count": 209,
   "metadata": {},
   "outputs": [
    {
     "name": "stdout",
     "output_type": "stream",
     "text": [
      "     *\n",
      "    ***\n",
      "   *****\n",
      "  *******\n",
      " *********\n",
      "***********\n",
      "      *********\n",
      "      *******\n",
      "      *****\n",
      "      ***\n",
      "      *\n"
     ]
    }
   ],
   "source": [
    "for i in range(6):\n",
    "    print(\" \" * (5 - i) + \"*\" * (2 * i + 1))\n",
    "    if i == 5:\n",
    "        for j in range(5):\n",
    "            print(\" \" * (i + 1) + \"*\" * (9 - 2 * j))"
   ]
  },
  {
   "cell_type": "code",
   "execution_count": 210,
   "metadata": {},
   "outputs": [
    {
     "name": "stdout",
     "output_type": "stream",
     "text": [
      "     *\n",
      "    ***\n",
      "   *****\n",
      "  *******\n",
      " *********\n",
      "***********\n",
      " *********\n",
      "  *******\n",
      "   *****\n",
      "    ***\n",
      "     *\n"
     ]
    }
   ],
   "source": [
    "for i in range(6):\n",
    "    print(\" \" * (5 - i) + \"*\" * (2 * i + 1))\n",
    "    if i == 5:\n",
    "        for j in range(5):\n",
    "            print(\" \" * (j + 1) + \"*\" * (9 - 2 * j)) # 3.2.22"
   ]
  },
  {
   "cell_type": "code",
   "execution_count": 211,
   "metadata": {},
   "outputs": [
    {
     "name": "stdout",
     "output_type": "stream",
     "text": [
      "0 1 2 3 \n",
      "1 2 3 4 \n",
      "2 3 4 5 \n",
      "3 4 5 6 \n"
     ]
    }
   ],
   "source": [
    "for i in range(4):\n",
    "    for j in range(4):\n",
    "        print(i + j, end=\" \")\n",
    "    print()"
   ]
  },
  {
   "cell_type": "code",
   "execution_count": 212,
   "metadata": {},
   "outputs": [
    {
     "name": "stdout",
     "output_type": "stream",
     "text": [
      "0 1 2 3 1 2 3 4 2 3 4 5 3 4 5 6 "
     ]
    }
   ],
   "source": [
    "for i in range(4):\n",
    "    for j in range(4):\n",
    "        print(i + j, end=\" \")"
   ]
  },
  {
   "cell_type": "code",
   "execution_count": 213,
   "metadata": {},
   "outputs": [
    {
     "name": "stdout",
     "output_type": "stream",
     "text": [
      "0 1 2 3 1\n",
      "1 2 3 4 1\n",
      "2 3 4 5 1\n",
      "3 4 5 6 1\n"
     ]
    }
   ],
   "source": [
    "for i in range(4):\n",
    "    for j in range(4):\n",
    "        print(i + j, end=\" \")\n",
    "    print(1)"
   ]
  },
  {
   "cell_type": "code",
   "execution_count": 214,
   "metadata": {},
   "outputs": [
    {
     "name": "stdout",
     "output_type": "stream",
     "text": [
      "0 1 2 3 4\n",
      "1 2 3 4 4\n",
      "2 3 4 5 4\n",
      "3 4 5 6 4\n"
     ]
    }
   ],
   "source": [
    "for i in range(4):\n",
    "    for j in range(4):\n",
    "        print(i + j, end=\" \")\n",
    "    print(4)"
   ]
  },
  {
   "cell_type": "code",
   "execution_count": 215,
   "metadata": {},
   "outputs": [
    {
     "name": "stdout",
     "output_type": "stream",
     "text": [
      "\n"
     ]
    }
   ],
   "source": [
    "print()"
   ]
  },
  {
   "cell_type": "code",
   "execution_count": 216,
   "metadata": {},
   "outputs": [
    {
     "name": "stdout",
     "output_type": "stream",
     "text": [
      "0\n",
      "1\n",
      "2\n",
      "3\n",
      "1\n",
      "2\n",
      "3\n",
      "4\n",
      "2\n",
      "3\n",
      "4\n",
      "5\n",
      "3\n",
      "4\n",
      "5\n",
      "6\n"
     ]
    }
   ],
   "source": [
    "for i in range(4):\n",
    "    for j in range(4):\n",
    "        print(i + j)"
   ]
  },
  {
   "cell_type": "code",
   "execution_count": 217,
   "metadata": {},
   "outputs": [
    {
     "name": "stdout",
     "output_type": "stream",
     "text": [
      "0 1 2 3 \n",
      "1 2 3 4 \n",
      "2 3 4 5 \n",
      "3 4 5 6 \n"
     ]
    }
   ],
   "source": [
    "for i in range(4):\n",
    "    for j in range(4):\n",
    "        print(i + j, end=\" \")\n",
    "    print()"
   ]
  },
  {
   "cell_type": "code",
   "execution_count": 218,
   "metadata": {
    "scrolled": true
   },
   "outputs": [
    {
     "name": "stdout",
     "output_type": "stream",
     "text": [
      "0\n",
      "1\n",
      "2\n",
      "3\n",
      "\n",
      "1\n",
      "2\n",
      "3\n",
      "4\n",
      "\n",
      "2\n",
      "3\n",
      "4\n",
      "5\n",
      "\n",
      "3\n",
      "4\n",
      "5\n",
      "6\n",
      "\n"
     ]
    }
   ],
   "source": [
    "for i in range(4):\n",
    "    for j in range(4):\n",
    "        print(i + j)\n",
    "    print()"
   ]
  },
  {
   "cell_type": "code",
   "execution_count": 219,
   "metadata": {},
   "outputs": [
    {
     "name": "stdout",
     "output_type": "stream",
     "text": [
      "0 1 2 3 \n",
      "1 2 3 4 \n",
      "2 3 4 5 \n",
      "3 4 5 6 \n"
     ]
    }
   ],
   "source": [
    "for i in range(4):\n",
    "    for j in range(4):\n",
    "        print(i + j, end=\" \")\n",
    "    print()"
   ]
  },
  {
   "cell_type": "code",
   "execution_count": 220,
   "metadata": {},
   "outputs": [
    {
     "name": "stdout",
     "output_type": "stream",
     "text": [
      "1 1\n",
      "1 2\n",
      "1 3\n",
      "1 4\n",
      "1 5\n",
      "1 6\n",
      "2 1\n",
      "2 2\n",
      "2 3\n",
      "2 4\n",
      "2 5\n",
      "2 6\n",
      "3 1\n",
      "3 2\n",
      "3 3\n",
      "3 4\n",
      "3 5\n",
      "3 6\n",
      "4 1\n",
      "4 2\n",
      "4 3\n",
      "4 4\n",
      "4 5\n",
      "4 6\n",
      "5 1\n",
      "5 2\n",
      "5 3\n",
      "5 4\n",
      "5 5\n",
      "5 6\n",
      "6 1\n",
      "6 2\n",
      "6 3\n",
      "6 4\n",
      "6 5\n",
      "6 6\n"
     ]
    }
   ],
   "source": [
    "for i in range(6):\n",
    "    n1 = i + 1\n",
    "    for j in range(6):\n",
    "        n2 = j + 1\n",
    "        print(n1,n2)"
   ]
  },
  {
   "cell_type": "code",
   "execution_count": 221,
   "metadata": {},
   "outputs": [
    {
     "name": "stdout",
     "output_type": "stream",
     "text": [
      "1 3\n",
      "2 2\n",
      "2 6\n",
      "3 1\n",
      "3 5\n",
      "4 4\n",
      "5 3\n",
      "6 2\n",
      "6 6\n"
     ]
    }
   ],
   "source": [
    "for i in range(6):\n",
    "    n1 = i + 1\n",
    "    for j in range(6):\n",
    "        n2 = j + 1\n",
    "        n = n1 + n2\n",
    "        if n % 4 == 0:\n",
    "            print(n1,n2)"
   ]
  },
  {
   "cell_type": "code",
   "execution_count": 222,
   "metadata": {},
   "outputs": [
    {
     "name": "stdout",
     "output_type": "stream",
     "text": [
      "512.0\n",
      "2048\n"
     ]
    }
   ],
   "source": [
    "a = 1024\n",
    "for i in range(2):\n",
    "    j = 2 * i -1\n",
    "    b = a * 2 ** j\n",
    "    print(b)"
   ]
  },
  {
   "cell_type": "code",
   "execution_count": 223,
   "metadata": {},
   "outputs": [
    {
     "name": "stdout",
     "output_type": "stream",
     "text": [
      "256.0\n",
      "1024.0\n",
      "1024.0\n",
      "4096\n"
     ]
    }
   ],
   "source": [
    "a = 1024\n",
    "for i in range(2):\n",
    "    j = 2 * i -1\n",
    "    b = a * 2 ** j\n",
    "    for k in range(2):\n",
    "        l = 2 *k - 1\n",
    "        c = b * 2 ** l\n",
    "        print(c)"
   ]
  },
  {
   "cell_type": "code",
   "execution_count": 224,
   "metadata": {},
   "outputs": [
    {
     "name": "stdout",
     "output_type": "stream",
     "text": [
      "128.0\n",
      "512.0\n",
      "512.0\n",
      "2048.0\n",
      "512.0\n",
      "2048.0\n",
      "2048.0\n",
      "8192\n"
     ]
    }
   ],
   "source": [
    "a = 1024\n",
    "for i in range(2):\n",
    "    j = 2 * i -1\n",
    "    b = a * 2 ** j\n",
    "    for k in range(2):\n",
    "        l = 2 *k - 1\n",
    "        c = b * 2 ** l\n",
    "        for m in range(2):\n",
    "            n = 2 * m - 1\n",
    "            d = c * 2 ** n\n",
    "            print(d) #3.2.23"
   ]
  },
  {
   "cell_type": "code",
   "execution_count": null,
   "metadata": {},
   "outputs": [],
   "source": []
  }
 ],
 "metadata": {
  "kernelspec": {
   "display_name": "Python 3",
   "language": "python",
   "name": "python3"
  },
  "language_info": {
   "codemirror_mode": {
    "name": "ipython",
    "version": 3
   },
   "file_extension": ".py",
   "mimetype": "text/x-python",
   "name": "python",
   "nbconvert_exporter": "python",
   "pygments_lexer": "ipython3",
   "version": "3.7.7"
  }
 },
 "nbformat": 4,
 "nbformat_minor": 4
}
