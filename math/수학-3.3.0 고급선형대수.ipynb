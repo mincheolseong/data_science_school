{
 "cells": [
  {
   "cell_type": "code",
   "execution_count": 22,
   "metadata": {},
   "outputs": [],
   "source": [
    "%matplotlib inline\n",
    "import numpy as np\n",
    "import matplotlib.pylab as plt\n",
    "plt.rc(\"font\", size=18)  # 그림의 폰트 크기를 18로 고정\n",
    "gray = {\"facecolor\": \"gray\"}\n",
    "black = {\"facecolor\": \"black\"}\n",
    "red = {\"facecolor\": \"red\"}\n",
    "green = {\"facecolor\": \"green\"}\n",
    "blue = {\"facecolor\": \"blue\"}"
   ]
  },
  {
   "cell_type": "code",
   "execution_count": 8,
   "metadata": {},
   "outputs": [
    {
     "data": {
      "image/png": "[encoded data removed]",
      "text/plain": [
       "<Figure size 432x288 with 1 Axes>"
      ]
     },
     "metadata": {
      "needs_background": "light"
     },
     "output_type": "display_data"
    }
   ],
   "source": [
    "a = np.array([1, 2])\n",
    "plt.plot(0, 0, 'kP', ms=20)\n",
    "plt.plot(a[0], a[1], 'ro', ms=20)\n",
    "plt.annotate('', xy=[-0.6, 1.6], xytext=(0.2, 0.7), arrowprops=gray)\n",
    "plt.annotate('', xy=a, xytext=(0, 0), arrowprops=black)\n",
    "plt.annotate('', xy=a + [-1, 1], xytext=(-1, 1), arrowprops=black)\n",
    "plt.text(0.35, 1.15, \"$a$\")\n",
    "plt.text(1.15, 2.25, \"$(1,2)$\")\n",
    "plt.text(-0.7, 2.1, \"$a$\")\n",
    "plt.text(-0.9, 0.6, \"평행이동\")\n",
    "plt.xticks(np.arange(-2, 4))\n",
    "plt.yticks(np.arange(-1, 4))\n",
    "plt.xlim(-2.4, 3.4)\n",
    "plt.ylim(-0.8, 3.4)\n",
    "plt.show()"
   ]
  },
  {
   "cell_type": "code",
   "execution_count": 9,
   "metadata": {},
   "outputs": [
    {
     "data": {
      "text/plain": [
       "2.23606797749979"
      ]
     },
     "execution_count": 9,
     "metadata": {},
     "output_type": "execute_result"
    }
   ],
   "source": [
    "a = np.array([1,2])\n",
    "np.linalg.norm(a)"
   ]
  },
  {
   "cell_type": "code",
   "execution_count": 10,
   "metadata": {},
   "outputs": [
    {
     "data": {
      "text/plain": [
       "(1.0, 1.0, 0.9999999999999999)"
      ]
     },
     "execution_count": 10,
     "metadata": {},
     "output_type": "execute_result"
    }
   ],
   "source": [
    "a = np.array([1,0])\n",
    "b = np.array([0,1])\n",
    "c = np.array([1 / np.sqrt(2), 1 / np.sqrt(2)])\n",
    "np.linalg.norm(a), np.linalg.norm(b), np.linalg.norm(c)"
   ]
  },
  {
   "cell_type": "code",
   "execution_count": 16,
   "metadata": {},
   "outputs": [],
   "source": [
    "#연습 문제 3.1.1\n",
    "x_1 = np.array([[1],[2]])\n",
    "x_2 = np.array([[2],[1]])\n",
    "X = np.array([[1,2],[2,1]])\n",
    "b = np.array([[3],[1]])"
   ]
  },
  {
   "cell_type": "code",
   "execution_count": 17,
   "metadata": {},
   "outputs": [
    {
     "data": {
      "text/plain": [
       "array([[-0.33333333],\n",
       "       [ 1.66666667]])"
      ]
     },
     "execution_count": 17,
     "metadata": {},
     "output_type": "execute_result"
    }
   ],
   "source": [
    "x, resid, rank, s = np.linalg.lstsq(X,b)\n",
    "x"
   ]
  },
  {
   "cell_type": "code",
   "execution_count": 18,
   "metadata": {},
   "outputs": [
    {
     "data": {
      "text/plain": [
       "array([[-0.33333333],\n",
       "       [ 1.66666667]])"
      ]
     },
     "execution_count": 18,
     "metadata": {},
     "output_type": "execute_result"
    }
   ],
   "source": [
    "Xinv = np.linalg.inv(X)\n",
    "c = Xinv @ b\n",
    "c"
   ]
  },
  {
   "cell_type": "code",
   "execution_count": 19,
   "metadata": {},
   "outputs": [],
   "source": [
    "d = np.array([[-1],[-1]])"
   ]
  },
  {
   "cell_type": "code",
   "execution_count": 20,
   "metadata": {},
   "outputs": [
    {
     "data": {
      "text/plain": [
       "array([[-0.33333333],\n",
       "       [-0.33333333]])"
      ]
     },
     "execution_count": 20,
     "metadata": {},
     "output_type": "execute_result"
    }
   ],
   "source": [
    "x, resid, rank, s = np.linalg.lstsq(X,d)\n",
    "x"
   ]
  },
  {
   "cell_type": "code",
   "execution_count": 21,
   "metadata": {},
   "outputs": [
    {
     "data": {
      "text/plain": [
       "array([[-0.33333333],\n",
       "       [-0.33333333]])"
      ]
     },
     "execution_count": 21,
     "metadata": {},
     "output_type": "execute_result"
    }
   ],
   "source": [
    "e = Xinv @ d\n",
    "e"
   ]
  },
  {
   "cell_type": "code",
   "execution_count": 23,
   "metadata": {},
   "outputs": [
    {
     "data": {
      "image/png": "[encoded data removed]",
      "text/plain": [
       "<Figure size 432x288 with 1 Axes>"
      ]
     },
     "metadata": {
      "needs_background": "light"
     },
     "output_type": "display_data"
    }
   ],
   "source": [
    "a = np.array([2, 2])\n",
    "b = np.array([3, 4])\n",
    "c = np.array([4, 1])\n",
    "d = a + (c - a)\n",
    "e = b + (c - a)\n",
    "plt.annotate('', xy=b, xytext=a, arrowprops=black)\n",
    "plt.annotate('', xy=e, xytext=d, arrowprops=black)\n",
    "plt.annotate('', xy=c, xytext=[0, 0], arrowprops=gray)\n",
    "plt.plot(0, 0, 'kP', ms=10)\n",
    "plt.plot(a[0], a[1], 'ro', ms=10)\n",
    "plt.plot(b[0], b[1], 'ro', ms=10)\n",
    "plt.plot(c[0], c[1], 'ro', ms=10)\n",
    "plt.text(1.6, 1.5, \"seoul\")\n",
    "plt.text(2.5, 4.3, \"Korea\")\n",
    "plt.text(3.5, 0.5, \"tokyo\")\n",
    "plt.text(4.9, 3.2, \"Japan\")\n",
    "plt.xticks(np.arange(-2, 7))\n",
    "plt.yticks(np.arange(-1, 6))\n",
    "plt.xlim(-1.4, 6.4)\n",
    "plt.ylim(-0.6, 5.8)\n",
    "plt.show()"
   ]
  },
  {
   "cell_type": "code",
   "execution_count": 24,
   "metadata": {},
   "outputs": [
    {
     "data": {
      "image/png": "[encoded data removed]",
      "text/plain": [
       "<Figure size 432x288 with 1 Axes>"
      ]
     },
     "metadata": {
      "needs_background": "light"
     },
     "output_type": "display_data"
    }
   ],
   "source": [
    "plt.plot([0, 1], [0, 2], 'k-', lw=3)\n",
    "plt.plot([0, 1], [0, 0], 'k-', lw=3)\n",
    "plt.plot([1, 1], [0, 2], 'k-', lw=3)\n",
    "plt.text(0.05, 1, \"빗변 h\")\n",
    "plt.text(0.35, -0.2, \"밑변 b\")\n",
    "plt.text(1.05, 1, \"높이 a\")\n",
    "plt.text(0.12, 0.06, r\"$\\theta$\")\n",
    "plt.xticks(np.arange(-2, 4))\n",
    "plt.yticks(np.arange(-1, 4))\n",
    "plt.xlim(-1.1, 2.1)\n",
    "plt.ylim(-0.5, 2.3)\n",
    "plt.show()"
   ]
  },
  {
   "cell_type": "code",
   "execution_count": 26,
   "metadata": {},
   "outputs": [
    {
     "name": "stderr",
     "output_type": "stream",
     "text": [
      "Font 'default' does not have a glyph for '\\uc640' [U+c640], substituting with a dummy symbol.\n",
      "Font 'default' does not have a glyph for '\\uc758' [U+c758], substituting with a dummy symbol.\n",
      "Font 'default' does not have a glyph for '\\uadf8' [U+adf8], substituting with a dummy symbol.\n",
      "Font 'default' does not have a glyph for '\\ub798' [U+b798], substituting with a dummy symbol.\n",
      "Font 'default' does not have a glyph for '\\ud504' [U+d504], substituting with a dummy symbol.\n",
      "Font 'default' does not have a glyph for '\\uc640' [U+c640], substituting with a dummy symbol.\n",
      "Font 'default' does not have a glyph for '\\uc758' [U+c758], substituting with a dummy symbol.\n",
      "Font 'default' does not have a glyph for '\\uadf8' [U+adf8], substituting with a dummy symbol.\n",
      "Font 'default' does not have a glyph for '\\ub798' [U+b798], substituting with a dummy symbol.\n",
      "Font 'default' does not have a glyph for '\\ud504' [U+d504], substituting with a dummy symbol.\n"
     ]
    },
    {
     "data": {
      "image/png": "[encoded data removed]",
      "text/plain": [
       "<Figure size 432x288 with 1 Axes>"
      ]
     },
     "metadata": {
      "needs_background": "light"
     },
     "output_type": "display_data"
    }
   ],
   "source": [
    "x = np.linspace(0, np.pi/2, 100)\n",
    "y1 = np.sin(x)\n",
    "y2 = np.cos(x)\n",
    "plt.plot(x, y1, 'r--', lw=3,  label=r\"$sintheta$\")\n",
    "plt.plot(x, y2, 'b-', lw=3, label=r\"$\\cos\\theta$\")\n",
    "plt.legend()\n",
    "plt.xticks([0, np.pi/4, np.pi/2], [r'$0^{\\circ}$', r'$45^{\\circ}$', r'$90^{\\circ}$'])\n",
    "plt.xlabel(r\"$\\theta$\")\n",
    "plt.title(r\"$\\sin\\theta$와 $\\cos\\theta$의 그래프\")\n",
    "plt.show()"
   ]
  },
  {
   "cell_type": "code",
   "execution_count": 27,
   "metadata": {},
   "outputs": [
    {
     "data": {
      "text/plain": [
       "0"
      ]
     },
     "execution_count": 27,
     "metadata": {},
     "output_type": "execute_result"
    }
   ],
   "source": [
    "a = np.array([1,1])\n",
    "b = np.array([-1,1])\n",
    "a.T @ b #직교orthogonal"
   ]
  },
  {
   "cell_type": "code",
   "execution_count": 1,
   "metadata": {},
   "outputs": [],
   "source": [
    "#연습 문제 3.1.7"
   ]
  },
  {
   "cell_type": "code",
   "execution_count": 2,
   "metadata": {},
   "outputs": [],
   "source": [
    "a = np.array([[4],[5],[2],[2]])\n",
    "b = np.array([[4],[0],[2],[0]])\n",
    "c = np.array([[2],[2],[0],[1]])"
   ]
  },
  {
   "cell_type": "code",
   "execution_count": 6,
   "metadata": {},
   "outputs": [],
   "source": [
    "#|a-b|\n",
    "a_b = (np.linalg.norm(a) ** 2 + np.linalg.norm(b) ** 2 - 2 *(a.T @ b)) ** 0.5\n",
    "b_c = (np.linalg.norm(b) ** 2 + np.linalg.norm(c) ** 2 - 2 *(b.T @ c)) ** 0.5\n",
    "c_a = (np.linalg.norm(c) ** 2 + np.linalg.norm(a) ** 2 - 2 *(c.T @ a)) ** 0.5"
   ]
  },
  {
   "cell_type": "code",
   "execution_count": 7,
   "metadata": {},
   "outputs": [
    {
     "data": {
      "text/plain": [
       "array([[5.38516481]])"
      ]
     },
     "execution_count": 7,
     "metadata": {},
     "output_type": "execute_result"
    }
   ],
   "source": [
    "a_b"
   ]
  },
  {
   "cell_type": "code",
   "execution_count": 8,
   "metadata": {},
   "outputs": [
    {
     "data": {
      "text/plain": [
       "array([[3.60555128]])"
      ]
     },
     "execution_count": 8,
     "metadata": {},
     "output_type": "execute_result"
    }
   ],
   "source": [
    "b_c"
   ]
  },
  {
   "cell_type": "code",
   "execution_count": 9,
   "metadata": {},
   "outputs": [
    {
     "data": {
      "text/plain": [
       "array([[4.24264069]])"
      ]
     },
     "execution_count": 9,
     "metadata": {},
     "output_type": "execute_result"
    }
   ],
   "source": [
    "c_a"
   ]
  },
  {
   "cell_type": "code",
   "execution_count": 14,
   "metadata": {},
   "outputs": [],
   "source": [
    "cos_a_b = (a.T @ b) / (np.linalg.norm(a) * np.linalg.norm(b))\n",
    "cos_b_c = (b.T @ c) / (np.linalg.norm(b) * np.linalg.norm(c))\n",
    "cos_c_a = (c.T @ a) / (np.linalg.norm(c) * np.linalg.norm(a))"
   ]
  },
  {
   "cell_type": "code",
   "execution_count": 18,
   "metadata": {},
   "outputs": [
    {
     "data": {
      "text/plain": [
       "array([[0.36112344]])"
      ]
     },
     "execution_count": 18,
     "metadata": {},
     "output_type": "execute_result"
    }
   ],
   "source": [
    "1 - cos_a_b"
   ]
  },
  {
   "cell_type": "code",
   "execution_count": 19,
   "metadata": {},
   "outputs": [
    {
     "data": {
      "text/plain": [
       "array([[0.40371521]])"
      ]
     },
     "execution_count": 19,
     "metadata": {},
     "output_type": "execute_result"
    }
   ],
   "source": [
    "1 - cos_b_c"
   ]
  },
  {
   "cell_type": "code",
   "execution_count": 20,
   "metadata": {},
   "outputs": [
    {
     "data": {
      "text/plain": [
       "array([[0.04761905]])"
      ]
     },
     "execution_count": 20,
     "metadata": {},
     "output_type": "execute_result"
    }
   ],
   "source": [
    "1 - cos_c_a"
   ]
  },
  {
   "cell_type": "code",
   "execution_count": 23,
   "metadata": {},
   "outputs": [
    {
     "data": {
      "image/png": "[encoded data removed]",
      "text/plain": [
       "<Figure size 432x288 with 1 Axes>"
      ]
     },
     "metadata": {
      "needs_background": "light"
     },
     "output_type": "display_data"
    }
   ],
   "source": [
    "a = np.array([1, 2])\n",
    "b = np.array([2, 0])\n",
    "a2 = (a @ b) / np.linalg.norm(b) * np.array([1, 0])\n",
    "a1 = a - a2\n",
    "plt.annotate('', xy=b, xytext=(0, 0), arrowprops=green)\n",
    "plt.annotate('', xy=a2, xytext=(0, 0), arrowprops=blue)\n",
    "plt.annotate('', xy=a1, xytext=(0, 0), arrowprops=blue)\n",
    "plt.annotate('', xy=a, xytext=(0, 0), arrowprops=red)\n",
    "plt.plot(0, 0, 'kP', ms=10)\n",
    "plt.plot(a[0], a[1], 'ro', ms=10)\n",
    "plt.plot(b[0], b[1], 'ro', ms=10)\n",
    "plt.text(0.35, 1.15, \"$a$\")\n",
    "plt.text(1.55, 0.15, \"$b$\")\n",
    "plt.text(-0.5, 1.05, \"$a^{\\perp b}$\")\n",
    "plt.text(0.50, 0.15, \"$a^{\\Vert b}$\")\n",
    "plt.xticks(np.arange(-10, 10))\n",
    "plt.yticks(np.arange(-10, 10))\n",
    "plt.xlim(-1.2, 4.1)\n",
    "plt.ylim(-0.5, 3.2)\n",
    "plt.show()"
   ]
  },
  {
   "cell_type": "code",
   "execution_count": 24,
   "metadata": {},
   "outputs": [
    {
     "data": {
      "text/plain": [
       "array([[1.]])"
      ]
     },
     "execution_count": 24,
     "metadata": {},
     "output_type": "execute_result"
    }
   ],
   "source": [
    "a = np.array([[1],[2]])\n",
    "b = np.array([[2],[0]])\n",
    "length_a = a.T @ (b / np.linalg.norm(b))\n",
    "length_a"
   ]
  },
  {
   "cell_type": "code",
   "execution_count": 25,
   "metadata": {},
   "outputs": [
    {
     "data": {
      "text/plain": [
       "array([[1.],\n",
       "       [0.]])"
      ]
     },
     "execution_count": 25,
     "metadata": {},
     "output_type": "execute_result"
    }
   ],
   "source": [
    "vector_a = 1 * (b / np.linalg.norm(b))\n",
    "vector_a"
   ]
  },
  {
   "cell_type": "code",
   "execution_count": 26,
   "metadata": {},
   "outputs": [
    {
     "data": {
      "text/plain": [
       "array([[0.],\n",
       "       [2.]])"
      ]
     },
     "execution_count": 26,
     "metadata": {},
     "output_type": "execute_result"
    }
   ],
   "source": [
    "vector_hor_a = a - vector_a\n",
    "vector_hor_a"
   ]
  },
  {
   "cell_type": "code",
   "execution_count": null,
   "metadata": {},
   "outputs": [],
   "source": []
  }
 ],
 "metadata": {
  "kernelspec": {
   "display_name": "Python 3",
   "language": "python",
   "name": "python3"
  },
  "language_info": {
   "codemirror_mode": {
    "name": "ipython",
    "version": 3
   },
   "file_extension": ".py",
   "mimetype": "text/x-python",
   "name": "python",
   "nbconvert_exporter": "python",
   "pygments_lexer": "ipython3",
   "version": "3.7.7"
  }
 },
 "nbformat": 4,
 "nbformat_minor": 4
}
