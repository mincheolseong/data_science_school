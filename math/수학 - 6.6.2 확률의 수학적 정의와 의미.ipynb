{
 "cells": [
  {
   "cell_type": "code",
   "execution_count": 7,
   "metadata": {},
   "outputs": [
    {
     "data": {
      "text/plain": [
       "{frozenset(), frozenset({'H'}), frozenset({'T'}), frozenset({'H', 'T'})}"
      ]
     },
     "execution_count": 7,
     "metadata": {},
     "output_type": "execute_result"
    }
   ],
   "source": [
    "A = frozenset([])\n",
    "B = frozenset(['H'])\n",
    "C = frozenset(['T'])\n",
    "D = frozenset(['H','T'])\n",
    "set([A, B, C, D])"
   ]
  },
  {
   "cell_type": "code",
   "execution_count": 2,
   "metadata": {},
   "outputs": [
    {
     "data": {
      "text/plain": [
       "{'♠', '♡', '♢', '♣'}"
      ]
     },
     "execution_count": 2,
     "metadata": {},
     "output_type": "execute_result"
    }
   ],
   "source": [
    "C = {\"\\u2660\", \"\\u2661\", \"\\u2662\", \"\\u2663\"}\n",
    "C"
   ]
  },
  {
   "cell_type": "code",
   "execution_count": 10,
   "metadata": {},
   "outputs": [
    {
     "data": {
      "text/plain": [
       "{frozenset(),\n",
       " frozenset({'♠'}),\n",
       " frozenset({'♢'}),\n",
       " frozenset({'♡'}),\n",
       " frozenset({'♣'})}"
      ]
     },
     "execution_count": 10,
     "metadata": {},
     "output_type": "execute_result"
    }
   ],
   "source": [
    "A = frozenset([\"\\u2660\"])\n",
    "B = frozenset([\"\\u2661\"])\n",
    "C = frozenset([\"\\u2662\"])\n",
    "D = frozenset([\"\\u2663\"])\n",
    "E = frozenset([])\n",
    "set([A, B, C, D, E])"
   ]
  },
  {
   "cell_type": "code",
   "execution_count": 11,
   "metadata": {},
   "outputs": [
    {
     "data": {
      "text/plain": [
       "{frozenset({'♠'}): 0.3,\n",
       " frozenset({'♡'}): 0.2,\n",
       " frozenset({'♢'}): 0.1,\n",
       " frozenset({'♣'}): 0.4,\n",
       " frozenset(): 0}"
      ]
     },
     "execution_count": 11,
     "metadata": {},
     "output_type": "execute_result"
    }
   ],
   "source": [
    "P = {A : 0.3, B : 0.2, C : 0.1, D : 0.4, E : 0}\n",
    "P"
   ]
  },
  {
   "cell_type": "code",
   "execution_count": 15,
   "metadata": {},
   "outputs": [
    {
     "data": {
      "text/plain": [
       "{frozenset({1}): 0.5,\n",
       " frozenset({2}): 0.1,\n",
       " frozenset({3}): 0.1,\n",
       " frozenset({4}): 0.1,\n",
       " frozenset({5}): 0.2,\n",
       " frozenset({6}): 0}"
      ]
     },
     "execution_count": 15,
     "metadata": {},
     "output_type": "execute_result"
    }
   ],
   "source": [
    "A = frozenset([1])\n",
    "B = frozenset([2])\n",
    "C = frozenset([3])\n",
    "D = frozenset([4])\n",
    "E = frozenset([5])\n",
    "F = frozenset([6])\n",
    "set([A, B, C, D, E, F])\n",
    "P = {A : 0.5, B : 0.1, C : 0.1, D : 0.1, E : 0.2, F : 0}\n",
    "P"
   ]
  },
  {
   "cell_type": "code",
   "execution_count": null,
   "metadata": {},
   "outputs": [],
   "source": []
  }
 ],
 "metadata": {
  "kernelspec": {
   "display_name": "Python 3",
   "language": "python",
   "name": "python3"
  },
  "language_info": {
   "codemirror_mode": {
    "name": "ipython",
    "version": 3
   },
   "file_extension": ".py",
   "mimetype": "text/x-python",
   "name": "python",
   "nbconvert_exporter": "python",
   "pygments_lexer": "ipython3",
   "version": "3.7.7"
  }
 },
 "nbformat": 4,
 "nbformat_minor": 4
}
