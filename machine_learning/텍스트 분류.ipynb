{
 "cells": [
  {
   "cell_type": "code",
   "execution_count": 33,
   "metadata": {},
   "outputs": [
    {
     "name": "stdout",
     "output_type": "stream",
     "text": [
      "2.0.0-rc1\n"
     ]
    }
   ],
   "source": [
    "import tensorflow as tf\n",
    "from tensorflow import keras\n",
    "%matplotlib inline\n",
    "import numpy as np\n",
    "\n",
    "print(tf.__version__)"
   ]
  },
  {
   "cell_type": "code",
   "execution_count": 3,
   "metadata": {},
   "outputs": [],
   "source": [
    "#리뷰는 미리 전처리해서 정수 시퀀스로 변환되어 있고, 각 정수는 어휘 사전에 있는 특정단어를 의미\n",
    "imdb = keras.datasets.imdb\n",
    "(train_data,train_labels), (test_data, test_labels) = imdb.load_data(num_words = 10000)\n",
    "#상위 10000개의 단어 선택"
   ]
  },
  {
   "cell_type": "code",
   "execution_count": 6,
   "metadata": {},
   "outputs": [
    {
     "name": "stdout",
     "output_type": "stream",
     "text": [
      "훈련 샘플: 25000, 레이블 : 25000\n"
     ]
    }
   ],
   "source": [
    "#데이터 탐색 : 데이터셋은 전처리된 정수 배열, 레이블은 0(부정), 1(긍정)\n",
    "print(\"훈련 샘플: {}, 레이블 : {}\".format(len(train_data), len(train_labels)))"
   ]
  },
  {
   "cell_type": "code",
   "execution_count": 7,
   "metadata": {},
   "outputs": [
    {
     "name": "stdout",
     "output_type": "stream",
     "text": [
      "[1, 14, 22, 16, 43, 530, 973, 1622, 1385, 65, 458, 4468, 66, 3941, 4, 173, 36, 256, 5, 25, 100, 43, 838, 112, 50, 670, 2, 9, 35, 480, 284, 5, 150, 4, 172, 112, 167, 2, 336, 385, 39, 4, 172, 4536, 1111, 17, 546, 38, 13, 447, 4, 192, 50, 16, 6, 147, 2025, 19, 14, 22, 4, 1920, 4613, 469, 4, 22, 71, 87, 12, 16, 43, 530, 38, 76, 15, 13, 1247, 4, 22, 17, 515, 17, 12, 16, 626, 18, 2, 5, 62, 386, 12, 8, 316, 8, 106, 5, 4, 2223, 5244, 16, 480, 66, 3785, 33, 4, 130, 12, 16, 38, 619, 5, 25, 124, 51, 36, 135, 48, 25, 1415, 33, 6, 22, 12, 215, 28, 77, 52, 5, 14, 407, 16, 82, 2, 8, 4, 107, 117, 5952, 15, 256, 4, 2, 7, 3766, 5, 723, 36, 71, 43, 530, 476, 26, 400, 317, 46, 7, 4, 2, 1029, 13, 104, 88, 4, 381, 15, 297, 98, 32, 2071, 56, 26, 141, 6, 194, 7486, 18, 4, 226, 22, 21, 134, 476, 26, 480, 5, 144, 30, 5535, 18, 51, 36, 28, 224, 92, 25, 104, 4, 226, 65, 16, 38, 1334, 88, 12, 16, 283, 5, 16, 4472, 113, 103, 32, 15, 16, 5345, 19, 178, 32]\n"
     ]
    }
   ],
   "source": [
    "#리뷰 텍스트는 어휘 사전의 특정 단어를 나타내는 정수로 변환\n",
    "#첫 번째 리뷰 확인\n",
    "print(train_data[0])"
   ]
  },
  {
   "cell_type": "code",
   "execution_count": 9,
   "metadata": {},
   "outputs": [
    {
     "data": {
      "text/plain": [
       "(218, 189)"
      ]
     },
     "execution_count": 9,
     "metadata": {},
     "output_type": "execute_result"
    }
   ],
   "source": [
    "#각 리뷰의 길이는 다르다.\n",
    "#신경망의 입력은 길이가 같아야하기때문에 나중에 이 문제 해결!!\n",
    "len(train_data[0]), len(train_data[1])"
   ]
  },
  {
   "cell_type": "code",
   "execution_count": 11,
   "metadata": {},
   "outputs": [],
   "source": [
    "#정수를 단어로 다시 변환하기\n",
    "#정수와 문자열을 매핑한 dictionary 객체에 질의하는 helper 함수를 만든다.\n",
    "\n",
    "#단어와 정수 인덱스를 매핑한 dictionary\n",
    "word_index = imdb.get_word_index()\n",
    "\n",
    "#처음 몇 개 인덱스는 사전에 정의되어 있다.\n",
    "word_index = {k:(v+3) for k,v in word_index.items()}\n",
    "word_index[\"<PAD>\"] = 0\n",
    "word_index[\"<START>\"] = 1\n",
    "word_index[\"<UNK>\"] = 2 #unknown\n",
    "word_index[\"<UNUSED>\"] = 3\n",
    "\n",
    "reverse_word_index = dict([(value,key) for (key, value) in word_index.items()])\n",
    "\n",
    "def decode_review(text):\n",
    "    return ''.join([reverse_word_index.get(i,'?') for i in text])"
   ]
  },
  {
   "cell_type": "code",
   "execution_count": 12,
   "metadata": {},
   "outputs": [
    {
     "data": {
      "text/plain": [
       "\"<START>thisfilmwasjustbrilliantcastinglocationscenerystorydirectioneveryone'sreallysuitedtheparttheyplayedandyoucouldjustimaginebeingthererobert<UNK>isanamazingactorandnowthesamebeingdirector<UNK>fathercamefromthesamescottishislandasmyselfsoilovedthefacttherewasarealconnectionwiththisfilmthewittyremarksthroughoutthefilmweregreatitwasjustbrilliantsomuchthatiboughtthefilmassoonasitwasreleasedfor<UNK>andwouldrecommendittoeveryonetowatchandtheflyfishingwasamazingreallycriedattheenditwassosadandyouknowwhattheysayifyoucryatafilmitmusthavebeengoodandthisdefinitelywasalso<UNK>tothetwolittleboy'sthatplayedthe<UNK>ofnormanandpaultheywerejustbrilliantchildrenareoftenleftoutofthe<UNK>listithinkbecausethestarsthatplaythemallgrownuparesuchabigprofileforthewholefilmbutthesechildrenareamazingandshouldbepraisedforwhattheyhavedonedon'tyouthinkthewholestorywassolovelybecauseitwastrueandwassomeone'slifeafterallthatwassharedwithusall\""
      ]
     },
     "execution_count": 12,
     "metadata": {},
     "output_type": "execute_result"
    }
   ],
   "source": [
    "decode_review(train_data[0])"
   ]
  },
  {
   "cell_type": "code",
   "execution_count": 13,
   "metadata": {},
   "outputs": [],
   "source": [
    "#데이터 준비\n",
    "#리뷰(정수 배열)는 신경망에 주입하기 전에 텐서로 변환해야한다.\n",
    "#1번째 변환방법 = one-hot encoding : 메모리 많이 사용\n",
    "#2번째 변환방법 = padding 추가 : 정수 배열 길이 갇도록 padding 추가\n",
    "#여기서는 2번째 방법 사용"
   ]
  },
  {
   "cell_type": "code",
   "execution_count": 15,
   "metadata": {},
   "outputs": [],
   "source": [
    "train_data = keras.preprocessing.sequence.pad_sequences(train_data,\n",
    "                                                        value = word_index[\"<PAD>\"],\n",
    "                                                        padding = 'post',\n",
    "                                                        maxlen = 256)\n",
    "test_data = keras.preprocessing.sequence.pad_sequences(test_data,\n",
    "                                                        value = word_index[\"<PAD>\"],\n",
    "                                                        padding = 'post',\n",
    "                                                        maxlen = 256)"
   ]
  },
  {
   "cell_type": "code",
   "execution_count": 16,
   "metadata": {},
   "outputs": [
    {
     "data": {
      "text/plain": [
       "(256, 256)"
      ]
     },
     "execution_count": 16,
     "metadata": {},
     "output_type": "execute_result"
    }
   ],
   "source": [
    "len(train_data[0]), len(train_data[1])"
   ]
  },
  {
   "cell_type": "code",
   "execution_count": 17,
   "metadata": {},
   "outputs": [
    {
     "name": "stdout",
     "output_type": "stream",
     "text": [
      "[   1   14   22   16   43  530  973 1622 1385   65  458 4468   66 3941\n",
      "    4  173   36  256    5   25  100   43  838  112   50  670    2    9\n",
      "   35  480  284    5  150    4  172  112  167    2  336  385   39    4\n",
      "  172 4536 1111   17  546   38   13  447    4  192   50   16    6  147\n",
      " 2025   19   14   22    4 1920 4613  469    4   22   71   87   12   16\n",
      "   43  530   38   76   15   13 1247    4   22   17  515   17   12   16\n",
      "  626   18    2    5   62  386   12    8  316    8  106    5    4 2223\n",
      " 5244   16  480   66 3785   33    4  130   12   16   38  619    5   25\n",
      "  124   51   36  135   48   25 1415   33    6   22   12  215   28   77\n",
      "   52    5   14  407   16   82    2    8    4  107  117 5952   15  256\n",
      "    4    2    7 3766    5  723   36   71   43  530  476   26  400  317\n",
      "   46    7    4    2 1029   13  104   88    4  381   15  297   98   32\n",
      " 2071   56   26  141    6  194 7486   18    4  226   22   21  134  476\n",
      "   26  480    5  144   30 5535   18   51   36   28  224   92   25  104\n",
      "    4  226   65   16   38 1334   88   12   16  283    5   16 4472  113\n",
      "  103   32   15   16 5345   19  178   32    0    0    0    0    0    0\n",
      "    0    0    0    0    0    0    0    0    0    0    0    0    0    0\n",
      "    0    0    0    0    0    0    0    0    0    0    0    0    0    0\n",
      "    0    0    0    0]\n"
     ]
    }
   ],
   "source": [
    "print(train_data[0])"
   ]
  },
  {
   "cell_type": "code",
   "execution_count": 20,
   "metadata": {
    "scrolled": true
   },
   "outputs": [
    {
     "name": "stdout",
     "output_type": "stream",
     "text": [
      "Model: \"sequential_1\"\n",
      "_________________________________________________________________\n",
      "Layer (type)                 Output Shape              Param #   \n",
      "=================================================================\n",
      "embedding_1 (Embedding)      (None, None, 16)          160000    \n",
      "_________________________________________________________________\n",
      "global_average_pooling1d_1 ( (None, 16)                0         \n",
      "_________________________________________________________________\n",
      "dense_2 (Dense)              (None, 16)                272       \n",
      "_________________________________________________________________\n",
      "dense_3 (Dense)              (None, 1)                 17        \n",
      "=================================================================\n",
      "Total params: 160,289\n",
      "Trainable params: 160,289\n",
      "Non-trainable params: 0\n",
      "_________________________________________________________________\n"
     ]
    }
   ],
   "source": [
    "#모델 구성 : 2가지를 결정해야한다.\n",
    "#모델에서 얼마나 많은 층을 사용할 것인가\n",
    "#각 층에서 얼마나 많은 hidden unit을 사용할 것인가\n",
    "\n",
    "#입력 크기는 영화 리뷰 데이터셋에 적용된 어휘 사전의 크기(10,000개의 단어)\n",
    "vocab_size = 10000\n",
    "\n",
    "model = keras.Sequential()\n",
    "model.add(keras.layers.Embedding(vocab_size, 16, input_shape = (None,)))\n",
    "#정수로 인코딩된 단어를 입력받고 각 단어 인덱스에 해당하는 임베딩 벡터를 찾는다.\n",
    "#출력벡터에 새로운 차원을 추가한다.(batch, sequence, embedding)\n",
    "model.add(keras.layers.GlobalAveragePooling1D())\n",
    "#sequence 차원의 평균을 계산해서 각 샘플에 대해 고정된 길이의 출력 벡터 반환\n",
    "#길이가 다른 입력을 다루는 가장 간단한 방법\n",
    "model.add(keras.layers.Dense(16, activation = 'relu'))\n",
    "#16개의 hiden unit을 가진 fully-connected layer\n",
    "model.add(keras.layers.Dense(1, activation = 'sigmoid'))\n",
    "#sigmoid를 거쳐서 0~1사이의 확률 또는 신뢰도값 1개 output으로\n",
    "\n",
    "model.summary()"
   ]
  },
  {
   "cell_type": "code",
   "execution_count": 21,
   "metadata": {},
   "outputs": [],
   "source": [
    "#은닉 유닛 hidden unit\n",
    "#위 모델에서 2개의 hidden layer가 있다.\n",
    "#각 레이어의 출력의 개수 = 층이 가진 표현 공간 representational space의 차원이 된다.\n",
    "#즉, 내부 표현을 학습할 때 허용되는 네트워크 자유도의 양이다.\n",
    "\n",
    "#모델에 많은 hidden unit(고차원의 표현 공간)과 층이 있다면 네트워크는 더 복잡한 표현 가능\n",
    "#but 계산 비용이 많이 들고 원치않은 패턴 학습 가능 => overfitting 문제점이 있다."
   ]
  },
  {
   "cell_type": "code",
   "execution_count": 22,
   "metadata": {},
   "outputs": [],
   "source": [
    "#Loss functino과 Optimizer\n",
    "#모델이 훈련하려면 Loss와 Optimizer 필요\n",
    "#일반적으로 확률 : binary_crossentropy\n",
    "\n",
    "model.compile(optimizer = 'adam',\n",
    "             loss = 'binary_crossentropy',\n",
    "             metrics = ['accuracy'])"
   ]
  },
  {
   "cell_type": "code",
   "execution_count": 25,
   "metadata": {},
   "outputs": [],
   "source": [
    "#검증 세트 만들기 validation set\n",
    "#모델 훈련할때 validation set으로 정확도 확인하는것이 좋다.\n",
    "#이 때 train_data에서 샘플을 떼어내야한다!!! 우리의 목표는 only train_data로 모델 개발 및 튜닝\n",
    "#test_data는 단지 딱 한번만 정확도 평가\n",
    "\n",
    "x_val = train_data[:10000]\n",
    "partial_x_train = train_data[10000:]\n",
    "\n",
    "y_val = train_labels[:10000]\n",
    "partial_y_train = train_labels[10000:]"
   ]
  },
  {
   "cell_type": "code",
   "execution_count": 26,
   "metadata": {},
   "outputs": [
    {
     "name": "stdout",
     "output_type": "stream",
     "text": [
      "Train on 15000 samples, validate on 10000 samples\n",
      "Epoch 1/40\n",
      "WARNING:tensorflow:From C:\\Users\\82104\\anaconda3\\lib\\site-packages\\tensorflow_core\\python\\ops\\nn_impl.py:183: where (from tensorflow.python.ops.array_ops) is deprecated and will be removed in a future version.\n",
      "Instructions for updating:\n",
      "Use tf.where in 2.0, which has the same broadcast rule as np.where\n",
      "WARNING:tensorflow:Entity <function Function._initialize_uninitialized_variables.<locals>.initialize_variables at 0x0000028E8593A678> could not be transformed and will be executed as-is. Please report this to the AutoGraph team. When filing the bug, set the verbosity to 10 (on Linux, `export AUTOGRAPH_VERBOSITY=10`) and attach the full output. Cause: module 'gast' has no attribute 'Num'\n",
      "WARNING: Entity <function Function._initialize_uninitialized_variables.<locals>.initialize_variables at 0x0000028E8593A678> could not be transformed and will be executed as-is. Please report this to the AutoGraph team. When filing the bug, set the verbosity to 10 (on Linux, `export AUTOGRAPH_VERBOSITY=10`) and attach the full output. Cause: module 'gast' has no attribute 'Num'\n",
      "15000/15000 [==============================] - 2s 105us/sample - loss: 0.6917 - accuracy: 0.5929 - val_loss: 0.6898 - val_accuracy: 0.5303\n",
      "Epoch 2/40\n",
      "15000/15000 [==============================] - 1s 56us/sample - loss: 0.6852 - accuracy: 0.6700 - val_loss: 0.6807 - val_accuracy: 0.7021\n",
      "Epoch 3/40\n",
      "15000/15000 [==============================] - 1s 56us/sample - loss: 0.6716 - accuracy: 0.7336 - val_loss: 0.6639 - val_accuracy: 0.7391\n",
      "Epoch 4/40\n",
      "15000/15000 [==============================] - 1s 56us/sample - loss: 0.6481 - accuracy: 0.7644 - val_loss: 0.6373 - val_accuracy: 0.7691\n",
      "Epoch 5/40\n",
      "15000/15000 [==============================] - 1s 63us/sample - loss: 0.6135 - accuracy: 0.7930 - val_loss: 0.6006 - val_accuracy: 0.7851\n",
      "Epoch 6/40\n",
      "15000/15000 [==============================] - 1s 59us/sample - loss: 0.5694 - accuracy: 0.8143 - val_loss: 0.5571 - val_accuracy: 0.8062\n",
      "Epoch 7/40\n",
      "15000/15000 [==============================] - 1s 58us/sample - loss: 0.5205 - accuracy: 0.8337 - val_loss: 0.5128 - val_accuracy: 0.8233\n",
      "Epoch 8/40\n",
      "15000/15000 [==============================] - 1s 58us/sample - loss: 0.4723 - accuracy: 0.8498 - val_loss: 0.4713 - val_accuracy: 0.8372\n",
      "Epoch 9/40\n",
      "15000/15000 [==============================] - 1s 58us/sample - loss: 0.4285 - accuracy: 0.8628 - val_loss: 0.4355 - val_accuracy: 0.8434\n",
      "Epoch 10/40\n",
      "15000/15000 [==============================] - 1s 60us/sample - loss: 0.3903 - accuracy: 0.8742 - val_loss: 0.4058 - val_accuracy: 0.8522\n",
      "Epoch 11/40\n",
      "15000/15000 [==============================] - 1s 59us/sample - loss: 0.3578 - accuracy: 0.8844 - val_loss: 0.3830 - val_accuracy: 0.8586\n",
      "Epoch 12/40\n",
      "15000/15000 [==============================] - 1s 61us/sample - loss: 0.3313 - accuracy: 0.8901 - val_loss: 0.3615 - val_accuracy: 0.8664\n",
      "Epoch 13/40\n",
      "15000/15000 [==============================] - 1s 59us/sample - loss: 0.3085 - accuracy: 0.8952 - val_loss: 0.3464 - val_accuracy: 0.8689\n",
      "Epoch 14/40\n",
      "15000/15000 [==============================] - 1s 64us/sample - loss: 0.2890 - accuracy: 0.9023 - val_loss: 0.3335 - val_accuracy: 0.8732\n",
      "Epoch 15/40\n",
      "15000/15000 [==============================] - 1s 62us/sample - loss: 0.2717 - accuracy: 0.9072 - val_loss: 0.3242 - val_accuracy: 0.8755\n",
      "Epoch 16/40\n",
      "15000/15000 [==============================] - 1s 59us/sample - loss: 0.2568 - accuracy: 0.9119 - val_loss: 0.3160 - val_accuracy: 0.8756\n",
      "Epoch 17/40\n",
      "15000/15000 [==============================] - 1s 59us/sample - loss: 0.2429 - accuracy: 0.9171 - val_loss: 0.3084 - val_accuracy: 0.8794\n",
      "Epoch 18/40\n",
      "15000/15000 [==============================] - 1s 61us/sample - loss: 0.2309 - accuracy: 0.9205 - val_loss: 0.3031 - val_accuracy: 0.8805\n",
      "Epoch 19/40\n",
      "15000/15000 [==============================] - 1s 58us/sample - loss: 0.2199 - accuracy: 0.9241 - val_loss: 0.2985 - val_accuracy: 0.8810\n",
      "Epoch 20/40\n",
      "15000/15000 [==============================] - 1s 59us/sample - loss: 0.2097 - accuracy: 0.9281 - val_loss: 0.2948 - val_accuracy: 0.8827\n",
      "Epoch 21/40\n",
      "15000/15000 [==============================] - 1s 59us/sample - loss: 0.1999 - accuracy: 0.9321 - val_loss: 0.2923 - val_accuracy: 0.8839\n",
      "Epoch 22/40\n",
      "15000/15000 [==============================] - 1s 61us/sample - loss: 0.1909 - accuracy: 0.9362 - val_loss: 0.2912 - val_accuracy: 0.8836\n",
      "Epoch 23/40\n",
      "15000/15000 [==============================] - 1s 59us/sample - loss: 0.1833 - accuracy: 0.9399 - val_loss: 0.2897 - val_accuracy: 0.8826\n",
      "Epoch 24/40\n",
      "15000/15000 [==============================] - 1s 60us/sample - loss: 0.1751 - accuracy: 0.9431 - val_loss: 0.2873 - val_accuracy: 0.8844\n",
      "Epoch 25/40\n",
      "15000/15000 [==============================] - 1s 60us/sample - loss: 0.1678 - accuracy: 0.9460 - val_loss: 0.2858 - val_accuracy: 0.8849\n",
      "Epoch 26/40\n",
      "15000/15000 [==============================] - 1s 59us/sample - loss: 0.1607 - accuracy: 0.9493 - val_loss: 0.2859 - val_accuracy: 0.8856\n",
      "Epoch 27/40\n",
      "15000/15000 [==============================] - 1s 59us/sample - loss: 0.1539 - accuracy: 0.9524 - val_loss: 0.2857 - val_accuracy: 0.8854\n",
      "Epoch 28/40\n",
      "15000/15000 [==============================] - 1s 60us/sample - loss: 0.1480 - accuracy: 0.9552 - val_loss: 0.2865 - val_accuracy: 0.8860\n",
      "Epoch 29/40\n",
      "15000/15000 [==============================] - 1s 61us/sample - loss: 0.1420 - accuracy: 0.9571 - val_loss: 0.2876 - val_accuracy: 0.8851\n",
      "Epoch 30/40\n",
      "15000/15000 [==============================] - 1s 59us/sample - loss: 0.1367 - accuracy: 0.9597 - val_loss: 0.2894 - val_accuracy: 0.8856\n",
      "Epoch 31/40\n",
      "15000/15000 [==============================] - 1s 59us/sample - loss: 0.1312 - accuracy: 0.9617 - val_loss: 0.2889 - val_accuracy: 0.8855\n",
      "Epoch 32/40\n",
      "15000/15000 [==============================] - 1s 60us/sample - loss: 0.1261 - accuracy: 0.9635 - val_loss: 0.2905 - val_accuracy: 0.8861\n",
      "Epoch 33/40\n",
      "15000/15000 [==============================] - 1s 57us/sample - loss: 0.1209 - accuracy: 0.9663 - val_loss: 0.2928 - val_accuracy: 0.8850\n",
      "Epoch 34/40\n",
      "15000/15000 [==============================] - 1s 58us/sample - loss: 0.1169 - accuracy: 0.9676 - val_loss: 0.2941 - val_accuracy: 0.8855\n",
      "Epoch 35/40\n",
      "15000/15000 [==============================] - 1s 58us/sample - loss: 0.1118 - accuracy: 0.9691 - val_loss: 0.2969 - val_accuracy: 0.8843\n",
      "Epoch 36/40\n",
      "15000/15000 [==============================] - 1s 59us/sample - loss: 0.1074 - accuracy: 0.9709 - val_loss: 0.2993 - val_accuracy: 0.8845\n",
      "Epoch 37/40\n",
      "15000/15000 [==============================] - 1s 56us/sample - loss: 0.1033 - accuracy: 0.9722 - val_loss: 0.3020 - val_accuracy: 0.8847\n",
      "Epoch 38/40\n",
      "15000/15000 [==============================] - 1s 59us/sample - loss: 0.0995 - accuracy: 0.9733 - val_loss: 0.3046 - val_accuracy: 0.8827\n",
      "Epoch 39/40\n",
      "15000/15000 [==============================] - 1s 54us/sample - loss: 0.0959 - accuracy: 0.9748 - val_loss: 0.3076 - val_accuracy: 0.8833\n",
      "Epoch 40/40\n",
      "15000/15000 [==============================] - 1s 59us/sample - loss: 0.0925 - accuracy: 0.9765 - val_loss: 0.3138 - val_accuracy: 0.8805\n"
     ]
    }
   ],
   "source": [
    "#모델 훈련 : 512개의 샘플로이루어진 mini-batch에서 40번의 epochs동안 훈련\n",
    "#x_train, y_train 텐서에 있는 모든 샘플에 대해 40번 반복한다는 뜻\n",
    "#훈련하는 동안 10,000개의 validation set에서 모델의 손실과 정확도를 모니터링\n",
    "\n",
    "history = model.fit(partial_x_train,\n",
    "                   partial_y_train,\n",
    "                   epochs = 40,\n",
    "                   batch_size = 512,\n",
    "                   validation_data = (x_val, y_val),\n",
    "                   verbose = 1)"
   ]
  },
  {
   "cell_type": "code",
   "execution_count": 29,
   "metadata": {},
   "outputs": [
    {
     "name": "stdout",
     "output_type": "stream",
     "text": [
      "25000/1 - 1s - loss: 0.3547 - accuracy: 0.8719\n",
      "[0.3321869279575348, 0.87192]\n"
     ]
    }
   ],
   "source": [
    "#모델 평가\n",
    "result = model.evaluate(test_data, test_labels, verbose = 2)\n",
    "\n",
    "print(result) #loss과 accuracy 반환\n",
    "#매우 단순한 모델이라 87%의 정확도이고 고급 방법을 사용한 모델은 95%에 가까운 정확도 보임"
   ]
  },
  {
   "cell_type": "code",
   "execution_count": 31,
   "metadata": {},
   "outputs": [
    {
     "data": {
      "text/plain": [
       "dict_keys(['loss', 'accuracy', 'val_loss', 'val_accuracy'])"
      ]
     },
     "execution_count": 31,
     "metadata": {},
     "output_type": "execute_result"
    }
   ],
   "source": [
    "#정확도와 손실 그래프 보기 : model.fit()은 history 객체 반환 => literally history\n",
    "history_dict = history.history\n",
    "history_dict.keys()\n",
    "#4개의 지표가 있고 이것들이 훈련, 검증 단계에서 모니터링하는 지표"
   ]
  },
  {
   "cell_type": "code",
   "execution_count": 39,
   "metadata": {},
   "outputs": [
    {
     "data": {
      "image/png": "[encoded data removed]",
      "text/plain": [
       "<Figure size 432x288 with 1 Axes>"
      ]
     },
     "metadata": {
      "needs_background": "light"
     },
     "output_type": "display_data"
    }
   ],
   "source": [
    "import matplotlib.pyplot as plt\n",
    "\n",
    "acc = history_dict['accuracy']\n",
    "val_accuracy = history_dict['val_accuracy']\n",
    "loss = history_dict['loss']\n",
    "val_loss = history_dict['val_loss']\n",
    "\n",
    "epochs = range(1, len(acc) + 1)\n",
    "\n",
    "plt.plot(epochs, loss, 'bo', label = 'Training loss')\n",
    "plt.plot(epochs, val_loss, 'b', label = 'Validation loss')\n",
    "plt.title('Training and validation loss')\n",
    "plt.xlabel('Epochs')\n",
    "plt.ylabel('Loss')\n",
    "plt.legend()\n",
    "\n",
    "plt.show()"
   ]
  },
  {
   "cell_type": "code",
   "execution_count": 42,
   "metadata": {},
   "outputs": [
    {
     "data": {
      "image/png": "[encoded data removed]",
      "text/plain": [
       "<Figure size 432x288 with 1 Axes>"
      ]
     },
     "metadata": {
      "needs_background": "light"
     },
     "output_type": "display_data"
    }
   ],
   "source": [
    "plt.clf()   # 그림을 초기화합니다\n",
    "\n",
    "plt.plot(epochs, acc, 'bo', label='Training acc')\n",
    "plt.plot(epochs, val_accuracy, 'b', label='Validation acc')\n",
    "plt.title('Training and validation accuracy')\n",
    "plt.xlabel('Epochs')\n",
    "plt.ylabel('Accuracy')\n",
    "plt.legend()\n",
    "\n",
    "plt.show()"
   ]
  },
  {
   "cell_type": "code",
   "execution_count": null,
   "metadata": {},
   "outputs": [],
   "source": [
    "#validation set같은 경우 20 epochs 부근이 최적점이다. Overfitting 때문\n",
    "#즉, 이 지점부터는 테스트 데이터에서 일반화되기 어려운 훈련 데이터 특정까지 학습하니까 그냥 단순하게 훈련 멈추는 방법이 있다.\n",
    "#As knowned \"Callback\" method"
   ]
  }
 ],
 "metadata": {
  "kernelspec": {
   "display_name": "Python 3",
   "language": "python",
   "name": "python3"
  },
  "language_info": {
   "codemirror_mode": {
    "name": "ipython",
    "version": 3
   },
   "file_extension": ".py",
   "mimetype": "text/x-python",
   "name": "python",
   "nbconvert_exporter": "python",
   "pygments_lexer": "ipython3",
   "version": "3.7.9"
  }
 },
 "nbformat": 4,
 "nbformat_minor": 4
}
