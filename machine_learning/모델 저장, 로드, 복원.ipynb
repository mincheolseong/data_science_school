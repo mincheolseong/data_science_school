{
 "cells": [
  {
   "cell_type": "code",
   "execution_count": 1,
   "metadata": {},
   "outputs": [],
   "source": [
    "#훈련 중, 훈련 후 모델 저장 가능\n",
    "#모델중지 지점부터 다시 훈련 가능\n",
    "#모델 공유(모델 코드, weight, parameter) 가능"
   ]
  },
  {
   "cell_type": "code",
   "execution_count": 2,
   "metadata": {},
   "outputs": [],
   "source": [
    "#설치와 임포트 ; 필요한 라이브러리 설치 및 텐서플로 임포트"
   ]
  },
  {
   "cell_type": "code",
   "execution_count": 3,
   "metadata": {},
   "outputs": [
    {
     "name": "stdout",
     "output_type": "stream",
     "text": [
      "Note: you may need to restart the kernel to use updated packages.\n"
     ]
    }
   ],
   "source": [
    "pip install -q pyyaml h5py"
   ]
  },
  {
   "cell_type": "code",
   "execution_count": 1,
   "metadata": {},
   "outputs": [
    {
     "name": "stdout",
     "output_type": "stream",
     "text": [
      "2.0.0-rc1\n"
     ]
    }
   ],
   "source": [
    "import os\n",
    "\n",
    "import tensorflow as tf\n",
    "from tensorflow import keras\n",
    "\n",
    "print(tf.__version__)"
   ]
  },
  {
   "cell_type": "code",
   "execution_count": 2,
   "metadata": {},
   "outputs": [],
   "source": [
    "#예제 데이터셋 받기 ; MNIST 데이터셋, 모델 실행 속도 빠르게 하기 위해 처음 1,000개만 사용\n",
    "(train_images, train_labels), (test_images,test_labels) = tf.keras.datasets.mnist.load_data()\n",
    "\n",
    "train_labels = train_labels[:1000]\n",
    "test_labels = test_labels[:1000]\n",
    "\n",
    "#신경망 모델에 주입하기 전에 이 값의 범위를 0~1사이로 조정\n",
    "#훈련세트와 테스트 세트를 동일한 방식으로 전처리하는 것이 중요하다!!\n",
    "#reshape(-1,28*28)은 열은 28*28 size, 행은 남은 차원\n",
    "train_images = train_images[:1000].reshape(-1,28*28) / 255.0\n",
    "test_images = test_images[:1000].reshape(-1,28*28) / 255.0"
   ]
  },
  {
   "cell_type": "code",
   "execution_count": 3,
   "metadata": {},
   "outputs": [
    {
     "name": "stdout",
     "output_type": "stream",
     "text": [
      "Model: \"sequential\"\n",
      "_________________________________________________________________\n",
      "Layer (type)                 Output Shape              Param #   \n",
      "=================================================================\n",
      "dense (Dense)                (None, 512)               401920    \n",
      "_________________________________________________________________\n",
      "dropout (Dropout)            (None, 512)               0         \n",
      "_________________________________________________________________\n",
      "dense_1 (Dense)              (None, 10)                5130      \n",
      "=================================================================\n",
      "Total params: 407,050\n",
      "Trainable params: 407,050\n",
      "Non-trainable params: 0\n",
      "_________________________________________________________________\n"
     ]
    }
   ],
   "source": [
    "#모델 정의\n",
    "#간단한 Sequential 모델 정의\n",
    "def create_model():\n",
    "    model = tf.keras.models.Sequential([\n",
    "        keras.layers.Dense(512, activation = 'relu', input_shape = (784,)),\n",
    "        keras.layers.Dropout(0.2),\n",
    "        keras.layers.Dense(10)\n",
    "    ])\n",
    "    \n",
    "    model.compile(optimizer = 'adam',\n",
    "                  #tf에서 loss설정방법은 3가지가 있다.\n",
    "                  #1번째는 lossfunction의 이름을 문자열로 전달\n",
    "                  #2번째는 tf.keras.losses의 손실 함수 사용\n",
    "                  #3번째는 tf.keras.losses의 손실함수 클래스 사용\n",
    "                  #logit? 모델 출력값이 문제에 맞게 normalize가 되었느냐\n",
    "                  #즉, 이미지 분류 문제에서 출력값이 확률이면 logit = False\n",
    "                  #출력값이 sigmoid, linear라면 logit = true\n",
    "                 loss = tf.losses.SparseCategoricalCrossentropy(from_logits = True),\n",
    "                 metrics = ['accuracy'])\n",
    "    return model\n",
    "\n",
    "#모델 객체 만들기\n",
    "model = create_model()\n",
    "\n",
    "model.summary()"
   ]
  },
  {
   "cell_type": "code",
   "execution_count": 4,
   "metadata": {},
   "outputs": [],
   "source": [
    "#훈련하는 동안 체크포인트 저장하기 ; 다시 훈련하지 않고 모델 재사용 또는 이어서 훈련 가능\n",
    "#tf.keras.callbacks.ModelCheckpoint"
   ]
  },
  {
   "cell_type": "code",
   "execution_count": 5,
   "metadata": {},
   "outputs": [
    {
     "name": "stdout",
     "output_type": "stream",
     "text": [
      "Train on 1000 samples, validate on 1000 samples\n",
      "Epoch 1/10\n",
      "WARNING:tensorflow:Entity <function Function._initialize_uninitialized_variables.<locals>.initialize_variables at 0x000001CF82B98798> could not be transformed and will be executed as-is. Please report this to the AutoGraph team. When filing the bug, set the verbosity to 10 (on Linux, `export AUTOGRAPH_VERBOSITY=10`) and attach the full output. Cause: module 'gast' has no attribute 'Num'\n",
      "WARNING: Entity <function Function._initialize_uninitialized_variables.<locals>.initialize_variables at 0x000001CF82B98798> could not be transformed and will be executed as-is. Please report this to the AutoGraph team. When filing the bug, set the verbosity to 10 (on Linux, `export AUTOGRAPH_VERBOSITY=10`) and attach the full output. Cause: module 'gast' has no attribute 'Num'\n",
      " 576/1000 [================>.............] - ETA: 0s - loss: 1.4890 - accuracy: 0.5764 \n",
      "Epoch 00001: saving model to training_1/cp.ckpt\n",
      "1000/1000 [==============================] - 1s 584us/sample - loss: 1.1555 - accuracy: 0.6790 - val_loss: 0.7104 - val_accuracy: 0.7870\n",
      "Epoch 2/10\n",
      " 576/1000 [================>.............] - ETA: 0s - loss: 0.4519 - accuracy: 0.8681\n",
      "Epoch 00002: saving model to training_1/cp.ckpt\n",
      "1000/1000 [==============================] - 0s 189us/sample - loss: 0.4137 - accuracy: 0.8820 - val_loss: 0.5229 - val_accuracy: 0.8350\n",
      "Epoch 3/10\n",
      " 576/1000 [================>.............] - ETA: 0s - loss: 0.2856 - accuracy: 0.9236\n",
      "Epoch 00003: saving model to training_1/cp.ckpt\n",
      "1000/1000 [==============================] - 0s 187us/sample - loss: 0.2775 - accuracy: 0.9290 - val_loss: 0.4493 - val_accuracy: 0.8550\n",
      "Epoch 4/10\n",
      " 960/1000 [===========================>..] - ETA: 0s - loss: 0.2130 - accuracy: 0.9448\n",
      "Epoch 00004: saving model to training_1/cp.ckpt\n",
      "1000/1000 [==============================] - 0s 229us/sample - loss: 0.2136 - accuracy: 0.9450 - val_loss: 0.4499 - val_accuracy: 0.8460\n",
      "Epoch 5/10\n",
      " 544/1000 [===============>..............] - ETA: 0s - loss: 0.1409 - accuracy: 0.9688\n",
      "Epoch 00005: saving model to training_1/cp.ckpt\n",
      "1000/1000 [==============================] - 0s 215us/sample - loss: 0.1399 - accuracy: 0.9680 - val_loss: 0.4261 - val_accuracy: 0.8610\n",
      "Epoch 6/10\n",
      " 992/1000 [============================>.] - ETA: 0s - loss: 0.1202 - accuracy: 0.9728\n",
      "Epoch 00006: saving model to training_1/cp.ckpt\n",
      "1000/1000 [==============================] - 0s 209us/sample - loss: 0.1196 - accuracy: 0.9730 - val_loss: 0.4115 - val_accuracy: 0.8650\n",
      "Epoch 7/10\n",
      " 544/1000 [===============>..............] - ETA: 0s - loss: 0.0757 - accuracy: 0.9926\n",
      "Epoch 00007: saving model to training_1/cp.ckpt\n",
      "1000/1000 [==============================] - 0s 186us/sample - loss: 0.0782 - accuracy: 0.9920 - val_loss: 0.3968 - val_accuracy: 0.8690\n",
      "Epoch 8/10\n",
      " 512/1000 [==============>...............] - ETA: 0s - loss: 0.0577 - accuracy: 0.9961\n",
      "Epoch 00008: saving model to training_1/cp.ckpt\n",
      "1000/1000 [==============================] - 0s 202us/sample - loss: 0.0593 - accuracy: 0.9950 - val_loss: 0.4209 - val_accuracy: 0.8660\n",
      "Epoch 9/10\n",
      " 992/1000 [============================>.] - ETA: 0s - loss: 0.0460 - accuracy: 0.9970\n",
      "Epoch 00009: saving model to training_1/cp.ckpt\n",
      "1000/1000 [==============================] - 0s 210us/sample - loss: 0.0464 - accuracy: 0.9970 - val_loss: 0.3921 - val_accuracy: 0.8710\n",
      "Epoch 10/10\n",
      " 992/1000 [============================>.] - ETA: 0s - loss: 0.0402 - accuracy: 0.9980\n",
      "Epoch 00010: saving model to training_1/cp.ckpt\n",
      "1000/1000 [==============================] - 0s 197us/sample - loss: 0.0403 - accuracy: 0.9980 - val_loss: 0.4182 - val_accuracy: 0.8660\n"
     ]
    },
    {
     "data": {
      "text/plain": [
       "<tensorflow.python.keras.callbacks.History at 0x1cf82b91048>"
      ]
     },
     "execution_count": 5,
     "metadata": {},
     "output_type": "execute_result"
    }
   ],
   "source": [
    "#체크포인트 콜백 사용하기\n",
    "checkpoint_path = \"training_1/cp.ckpt\"\n",
    "checkpoint_dir = os.path.dirname(checkpoint_path)\n",
    "\n",
    "#모델의 가중치를 저장하는 콜백 만들기\n",
    "cp_callback = tf.keras.callbacks.ModelCheckpoint(filepath = checkpoint_path,\n",
    "                                                save_weights_only = True,\n",
    "                                                verbose = 1)\n",
    "#새로운 콜백으로 모델 훈련하기\n",
    "model.fit(train_images,\n",
    "         train_labels,\n",
    "         epochs = 10,\n",
    "         validation_data = (test_images, test_labels),\n",
    "         callbacks = [cp_callback]) #콜백을 훈련에 전달\n",
    "\n",
    "#텐서플로 체크포인트를 만들고 에포크 종료될때마다 업데이트"
   ]
  },
  {
   "cell_type": "code",
   "execution_count": 6,
   "metadata": {},
   "outputs": [
    {
     "name": "stdout",
     "output_type": "stream",
     "text": [
      " C 드라이브의 볼륨: OS\n",
      " 볼륨 일련 번호: F423-2466\n",
      "\n",
      " C:\\Users\\82104\\training_1 디렉터리\n",
      "\n",
      "2021-02-18  오후 11:30    <DIR>          .\n",
      "2021-02-18  오후 11:30    <DIR>          ..\n",
      "2021-02-18  오후 11:30                71 checkpoint\n",
      "2021-02-18  오후 11:30         4,886,688 cp.ckpt.data-00000-of-00001\n",
      "2021-02-18  오후 11:30             1,222 cp.ckpt.index\n",
      "               3개 파일           4,887,981 바이트\n",
      "               2개 디렉터리  254,184,656,896 바이트 남음\n"
     ]
    }
   ],
   "source": [
    "ls {checkpoint_dir}"
   ]
  },
  {
   "cell_type": "code",
   "execution_count": 7,
   "metadata": {},
   "outputs": [
    {
     "name": "stdout",
     "output_type": "stream",
     "text": [
      "1000/1 - 0s - loss: 2.2703 - accuracy: 0.1170\n",
      "훈련되지 않은 모델의 정확도 : 11.70%\n"
     ]
    }
   ],
   "source": [
    "#훈련하지 않은 새로운 모델 생성\n",
    "#가중치만 복원할 때에는 원본 모델과 동일한 구조로 모델 생성해야함!!\n",
    "#여기서는 동일한 구조로 모델을 만들어서 다른 객체지만 가중치 공유 가능\n",
    "\n",
    "#기본 모델 객체 생성 & test set에서 평가\n",
    "model = create_model()\n",
    "\n",
    "#모델 평가\n",
    "loss, acc = model.evaluate(test_images,test_labels, verbose = 2)\n",
    "print(\"훈련되지 않은 모델의 정확도 : {:0.2f}%\".format(100*acc))\n",
    "\n",
    "#훈련되지 않은 모델의 성능은 무작위로 선택하는 정도 10% 수준"
   ]
  },
  {
   "cell_type": "code",
   "execution_count": 8,
   "metadata": {},
   "outputs": [
    {
     "name": "stdout",
     "output_type": "stream",
     "text": [
      "1000/1 - 0s - loss: 0.6057 - accuracy: 0.8660\n",
      "복원된 모델의 정확도 : 86.60%\n"
     ]
    }
   ],
   "source": [
    "#체크포인트에서 가중치 로드하고 다시 평가하기\n",
    "#가중치 로드\n",
    "model.load_weights(checkpoint_path)\n",
    "\n",
    "#model Re-evaluation\n",
    "loss, acc = model.evaluate(test_images, test_labels, verbose = 2)\n",
    "print(\"복원된 모델의 정확도 : {:0.2f}%\".format(100*acc))"
   ]
  },
  {
   "cell_type": "code",
   "execution_count": 9,
   "metadata": {},
   "outputs": [
    {
     "name": "stdout",
     "output_type": "stream",
     "text": [
      "WARNING:tensorflow:`period` argument is deprecated. Please use `save_freq` to specify the frequency in number of samples seen.\n",
      "WARNING:tensorflow:Entity <function Function._initialize_uninitialized_variables.<locals>.initialize_variables at 0x000001CF84BF9EE8> could not be transformed and will be executed as-is. Please report this to the AutoGraph team. When filing the bug, set the verbosity to 10 (on Linux, `export AUTOGRAPH_VERBOSITY=10`) and attach the full output. Cause: module 'gast' has no attribute 'Num'\n",
      "WARNING: Entity <function Function._initialize_uninitialized_variables.<locals>.initialize_variables at 0x000001CF84BF9EE8> could not be transformed and will be executed as-is. Please report this to the AutoGraph team. When filing the bug, set the verbosity to 10 (on Linux, `export AUTOGRAPH_VERBOSITY=10`) and attach the full output. Cause: module 'gast' has no attribute 'Num'\n",
      "\n",
      "Epoch 00005: saving model to training_2/cp-0005.ckpt\n",
      "\n",
      "Epoch 00010: saving model to training_2/cp-0010.ckpt\n",
      "\n",
      "Epoch 00015: saving model to training_2/cp-0015.ckpt\n",
      "\n",
      "Epoch 00020: saving model to training_2/cp-0020.ckpt\n",
      "\n",
      "Epoch 00025: saving model to training_2/cp-0025.ckpt\n",
      "\n",
      "Epoch 00030: saving model to training_2/cp-0030.ckpt\n",
      "\n",
      "Epoch 00035: saving model to training_2/cp-0035.ckpt\n",
      "\n",
      "Epoch 00040: saving model to training_2/cp-0040.ckpt\n",
      "\n",
      "Epoch 00045: saving model to training_2/cp-0045.ckpt\n",
      "\n",
      "Epoch 00050: saving model to training_2/cp-0050.ckpt\n"
     ]
    },
    {
     "data": {
      "text/plain": [
       "<tensorflow.python.keras.callbacks.History at 0x1cf84c3e388>"
      ]
     },
     "execution_count": 9,
     "metadata": {},
     "output_type": "execute_result"
    }
   ],
   "source": [
    "#체크포인트 콜백 매개변수 ; 체크포인트 이름 고유하게 만들기, 체크포인트 주기 설정\n",
    "#파일이름에 에포크 번호를 포함시킨다('str.format'포맷)\n",
    "checkpoint_path = \"training_2/cp-{epoch:04d}.ckpt\"\n",
    "checkpoint_dir = os.path.dirname(checkpoint_path)\n",
    "\n",
    "#다섯 번째 에포크마다 가중치를 저장하기위한 콜백 만들기\n",
    "cp_callback = tf.keras.callbacks.ModelCheckpoint(\n",
    "               filepath = checkpoint_path,\n",
    "               verbose = 1,\n",
    "               save_weights_only = True,\n",
    "               period = 5)\n",
    "\n",
    "#새로운 모델 객체 생성\n",
    "model = create_model()\n",
    "\n",
    "#'checkpoint_path'포맷을 사용하는 가중치를 저장\n",
    "model.save_weights(checkpoint_path.format(epoch=0))\n",
    "\n",
    "#새로운 콜백을 사용하여 모델을 훈련\n",
    "model.fit(train_images,\n",
    "         train_labels,\n",
    "         epochs = 50,\n",
    "         callbacks = [cp_callback],\n",
    "         validation_data = (test_images,test_labels),\n",
    "         verbose = 0)"
   ]
  },
  {
   "cell_type": "code",
   "execution_count": 10,
   "metadata": {},
   "outputs": [
    {
     "name": "stdout",
     "output_type": "stream",
     "text": [
      " C 드라이브의 볼륨: OS\n",
      " 볼륨 일련 번호: F423-2466\n",
      "\n",
      " C:\\Users\\82104\\training_2 디렉터리\n",
      "\n",
      "2021-02-18  오후 11:31    <DIR>          .\n",
      "2021-02-18  오후 11:31    <DIR>          ..\n",
      "2021-02-18  오후 11:31                81 checkpoint\n",
      "2021-02-18  오후 11:31         1,628,741 cp-0000.ckpt.data-00000-of-00001\n",
      "2021-02-18  오후 11:31               402 cp-0000.ckpt.index\n",
      "2021-02-18  오후 11:31         4,886,700 cp-0005.ckpt.data-00000-of-00001\n",
      "2021-02-18  오후 11:31             1,222 cp-0005.ckpt.index\n",
      "2021-02-18  오후 11:31         4,886,700 cp-0010.ckpt.data-00000-of-00001\n",
      "2021-02-18  오후 11:31             1,222 cp-0010.ckpt.index\n",
      "2021-02-18  오후 11:31         4,886,700 cp-0015.ckpt.data-00000-of-00001\n",
      "2021-02-18  오후 11:31             1,222 cp-0015.ckpt.index\n",
      "2021-02-18  오후 11:31         4,886,700 cp-0020.ckpt.data-00000-of-00001\n",
      "2021-02-18  오후 11:31             1,222 cp-0020.ckpt.index\n",
      "2021-02-18  오후 11:31         4,886,700 cp-0025.ckpt.data-00000-of-00001\n",
      "2021-02-18  오후 11:31             1,222 cp-0025.ckpt.index\n",
      "2021-02-18  오후 11:31         4,886,700 cp-0030.ckpt.data-00000-of-00001\n",
      "2021-02-18  오후 11:31             1,222 cp-0030.ckpt.index\n",
      "2021-02-18  오후 11:31         4,886,700 cp-0035.ckpt.data-00000-of-00001\n",
      "2021-02-18  오후 11:31             1,222 cp-0035.ckpt.index\n",
      "2021-02-18  오후 11:31         4,886,700 cp-0040.ckpt.data-00000-of-00001\n",
      "2021-02-18  오후 11:31             1,222 cp-0040.ckpt.index\n",
      "2021-02-18  오후 11:31         4,886,700 cp-0045.ckpt.data-00000-of-00001\n",
      "2021-02-18  오후 11:31             1,222 cp-0045.ckpt.index\n",
      "2021-02-18  오후 11:31         4,886,700 cp-0050.ckpt.data-00000-of-00001\n",
      "2021-02-18  오후 11:31             1,222 cp-0050.ckpt.index\n",
      "              23개 파일          50,508,444 바이트\n",
      "               2개 디렉터리  254,184,337,408 바이트 남음\n"
     ]
    }
   ],
   "source": [
    "ls {checkpoint_dir}"
   ]
  },
  {
   "cell_type": "code",
   "execution_count": 11,
   "metadata": {},
   "outputs": [
    {
     "data": {
      "text/plain": [
       "'training_2\\\\cp-0050.ckpt'"
      ]
     },
     "execution_count": 11,
     "metadata": {},
     "output_type": "execute_result"
    }
   ],
   "source": [
    "latest = tf.train.latest_checkpoint(checkpoint_dir)\n",
    "latest"
   ]
  },
  {
   "cell_type": "code",
   "execution_count": 12,
   "metadata": {},
   "outputs": [
    {
     "name": "stdout",
     "output_type": "stream",
     "text": [
      "1000/1 - 0s - loss: 0.5304 - accuracy: 0.8800\n",
      "복원된 모델의 정확도: 88.00%\n"
     ]
    }
   ],
   "source": [
    "#모델 초기화 후 최근 체크포인트 로드하여 테스트\n",
    "#새로운 모델 객체 만들기\n",
    "model = create_model()\n",
    "\n",
    "#이전에 저장한 가중치를 로드\n",
    "model.load_weights(latest)\n",
    "\n",
    "#모델 재평가\n",
    "loss,acc = model.evaluate(test_images,test_labels,verbose = 2)\n",
    "print(\"복원된 모델의 정확도: {:0.2f}%\".format(100*acc))"
   ]
  },
  {
   "cell_type": "code",
   "execution_count": null,
   "metadata": {},
   "outputs": [],
   "source": [
    "#수동으로 가중치 저장하기\n",
    "#가중치 저장하기\n",
    "model.save_weights('./checkpoint/my_checkpoint')\n",
    "#새로운 모델 객체 생성\n",
    "model = create_model()\n",
    "#가중치 복원\n",
    "model.load_weights('./checkoint/my_checkpoint')\n",
    "#모델 평가\n",
    "loss,acc = model.evaluate(test_images,test_labels,verbose = 2)\n",
    "print(\"복원된 모델의 정확도: {:0.2f}%\".format(100*acc))"
   ]
  },
  {
   "cell_type": "code",
   "execution_count": null,
   "metadata": {},
   "outputs": [],
   "source": [
    "#전체 모델 저장하기\n",
    "#model.save() ; 모델 구조, weight, 훈련 설정을 하나의 폴더나 파일로 저장\n",
    "#원본 파이썬 코드 없어도 되고 정확히 중지된 시점에서 훈련 재시작 가능(optimizer상태 복원)\n",
    "#2개의 포맷(SavedModel, HDF5)으로 모델 저장 가능\n",
    "\n",
    "#SavedModel 포맷 ; 모델을 직렬화하는 다른 방법\n",
    "#새로운 모델 객체 만들고 훈련\n",
    "model = create_model()\n",
    "model.fit(train_images,train_labels,epochs = 5)\n",
    "\n",
    "#SavedModel로 전체 모델 저장\n",
    "!mkdir -p saved_model\n",
    "model.save('saved_model/my_model')"
   ]
  },
  {
   "cell_type": "code",
   "execution_count": null,
   "metadata": {},
   "outputs": [],
   "source": [
    "#지정된 모델로부터 새로운 케라스 모델 로드\n",
    "\n",
    "new_model = tf.keras.models.load_model('saved_model/my_model')\n",
    "\n",
    "#모델 구조 확인\n",
    "new_model.summary()\n",
    "\n",
    "#커널 계속 꺼짐 현상 발생"
   ]
  },
  {
   "cell_type": "code",
   "execution_count": null,
   "metadata": {},
   "outputs": [],
   "source": [
    "#HDF5파일로 저장하기\n",
    "# 새로운 모델 객체를 만들고 훈련합니다\n",
    "model = create_model()\n",
    "model.fit(train_images, train_labels, epochs=5)\n",
    "\n",
    "# 전체 모델을 HDF5 파일로 저장합니다\n",
    "# '.h5' 확장자는 이 모델이 HDF5로 저장되었다는 것을 나타냅니다\n",
    "model.save('my_model.h5')"
   ]
  },
  {
   "cell_type": "code",
   "execution_count": null,
   "metadata": {},
   "outputs": [],
   "source": [
    "# 가중치와 옵티마이저를 포함하여 정확히 동일한 모델을 다시 생성합니다\n",
    "new_model = tf.keras.models.load_model('my_model.h5')\n",
    "\n",
    "# 모델 구조를 출력합니다\n",
    "new_model.summary()"
   ]
  },
  {
   "cell_type": "code",
   "execution_count": null,
   "metadata": {},
   "outputs": [],
   "source": [
    "loss, acc = new_model.evaluate(test_images,  test_labels, verbose=2)\n",
    "print('복원된 모델의 정확도: {:5.2f}%'.format(100*acc))"
   ]
  },
  {
   "cell_type": "code",
   "execution_count": null,
   "metadata": {},
   "outputs": [],
   "source": [
    "#정리\n",
    "#케라스는 모델 구조를 파악하여 정리(weight 값, 모델구조, 모델 훈련 설정;컴파일시 전달한 값, 옵티마이저)\n"
   ]
  }
 ],
 "metadata": {
  "kernelspec": {
   "display_name": "Python 3",
   "language": "python",
   "name": "python3"
  },
  "language_info": {
   "codemirror_mode": {
    "name": "ipython",
    "version": 3
   },
   "file_extension": ".py",
   "mimetype": "text/x-python",
   "name": "python",
   "nbconvert_exporter": "python",
   "pygments_lexer": "ipython3",
   "version": "3.7.9"
  }
 },
 "nbformat": 4,
 "nbformat_minor": 4
}
