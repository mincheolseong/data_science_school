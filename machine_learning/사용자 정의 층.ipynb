{
 "cells": [
  {
   "cell_type": "code",
   "execution_count": 6,
   "metadata": {},
   "outputs": [],
   "source": [
    "import tensorflow as tf\n",
    "from tensorflow import keras"
   ]
  },
  {
   "cell_type": "code",
   "execution_count": 8,
   "metadata": {},
   "outputs": [],
   "source": [
    "layer = tf.keras.layers.Dense(100)\n",
    "layer = tf.keras.layers.Dense(10, input_shape = (None,5))"
   ]
  },
  {
   "cell_type": "code",
   "execution_count": 11,
   "metadata": {},
   "outputs": [
    {
     "data": {
      "text/plain": [
       "<tf.Tensor: id=44, shape=(10, 10), dtype=float32, numpy=\n",
       "array([[0., 0., 0., 0., 0., 0., 0., 0., 0., 0.],\n",
       "       [0., 0., 0., 0., 0., 0., 0., 0., 0., 0.],\n",
       "       [0., 0., 0., 0., 0., 0., 0., 0., 0., 0.],\n",
       "       [0., 0., 0., 0., 0., 0., 0., 0., 0., 0.],\n",
       "       [0., 0., 0., 0., 0., 0., 0., 0., 0., 0.],\n",
       "       [0., 0., 0., 0., 0., 0., 0., 0., 0., 0.],\n",
       "       [0., 0., 0., 0., 0., 0., 0., 0., 0., 0.],\n",
       "       [0., 0., 0., 0., 0., 0., 0., 0., 0., 0.],\n",
       "       [0., 0., 0., 0., 0., 0., 0., 0., 0., 0.],\n",
       "       [0., 0., 0., 0., 0., 0., 0., 0., 0., 0.]], dtype=float32)>"
      ]
     },
     "execution_count": 11,
     "metadata": {},
     "output_type": "execute_result"
    }
   ],
   "source": [
    "layer(tf.zeros([10,5]))"
   ]
  },
  {
   "cell_type": "code",
   "execution_count": 14,
   "metadata": {
    "scrolled": true
   },
   "outputs": [
    {
     "data": {
      "text/plain": [
       "[<tf.Variable 'dense_3/kernel:0' shape=(5, 10) dtype=float32, numpy=\n",
       " array([[ 0.16880196, -0.38340312, -0.578185  ,  0.16551656,  0.37793416,\n",
       "          0.60704273,  0.4965536 ,  0.4418872 , -0.08378357, -0.26956153],\n",
       "        [ 0.22863418, -0.606331  ,  0.34585965,  0.40218705, -0.18036824,\n",
       "          0.22829902, -0.14934641, -0.39265147,  0.6192238 ,  0.6141152 ],\n",
       "        [ 0.3680387 , -0.26308423,  0.55735093,  0.46650952, -0.50442046,\n",
       "          0.36120892, -0.5123651 ,  0.22539842,  0.1785636 , -0.00734282],\n",
       "        [-0.32545954,  0.24403596,  0.394188  , -0.47530472, -0.05346352,\n",
       "          0.2138781 , -0.54837745,  0.18970406, -0.3372686 , -0.39867806],\n",
       "        [-0.5667181 , -0.6306633 , -0.3756245 , -0.13353133, -0.5392212 ,\n",
       "         -0.09630257, -0.4445932 ,  0.24392891, -0.15110323, -0.15222919]],\n",
       "       dtype=float32)>,\n",
       " <tf.Variable 'dense_3/bias:0' shape=(10,) dtype=float32, numpy=array([0., 0., 0., 0., 0., 0., 0., 0., 0., 0.], dtype=float32)>]"
      ]
     },
     "execution_count": 14,
     "metadata": {},
     "output_type": "execute_result"
    }
   ],
   "source": [
    "layer.variables #층 안에 있는 모든 변수 확인"
   ]
  },
  {
   "cell_type": "code",
   "execution_count": 15,
   "metadata": {},
   "outputs": [
    {
     "data": {
      "text/plain": [
       "(<tf.Variable 'dense_3/kernel:0' shape=(5, 10) dtype=float32, numpy=\n",
       " array([[ 0.16880196, -0.38340312, -0.578185  ,  0.16551656,  0.37793416,\n",
       "          0.60704273,  0.4965536 ,  0.4418872 , -0.08378357, -0.26956153],\n",
       "        [ 0.22863418, -0.606331  ,  0.34585965,  0.40218705, -0.18036824,\n",
       "          0.22829902, -0.14934641, -0.39265147,  0.6192238 ,  0.6141152 ],\n",
       "        [ 0.3680387 , -0.26308423,  0.55735093,  0.46650952, -0.50442046,\n",
       "          0.36120892, -0.5123651 ,  0.22539842,  0.1785636 , -0.00734282],\n",
       "        [-0.32545954,  0.24403596,  0.394188  , -0.47530472, -0.05346352,\n",
       "          0.2138781 , -0.54837745,  0.18970406, -0.3372686 , -0.39867806],\n",
       "        [-0.5667181 , -0.6306633 , -0.3756245 , -0.13353133, -0.5392212 ,\n",
       "         -0.09630257, -0.4445932 ,  0.24392891, -0.15110323, -0.15222919]],\n",
       "       dtype=float32)>,\n",
       " <tf.Variable 'dense_3/bias:0' shape=(10,) dtype=float32, numpy=array([0., 0., 0., 0., 0., 0., 0., 0., 0., 0.], dtype=float32)>)"
      ]
     },
     "execution_count": 15,
     "metadata": {},
     "output_type": "execute_result"
    }
   ],
   "source": [
    "#또한 변수는 객체의 속성을 통해 편리하게 접근 가능\n",
    "layer.kernel, layer.bias"
   ]
  },
  {
   "cell_type": "code",
   "execution_count": 16,
   "metadata": {},
   "outputs": [
    {
     "data": {
      "text/plain": [
       "<tf.Variable 'dense_3/bias:0' shape=(10,) dtype=float32, numpy=array([0., 0., 0., 0., 0., 0., 0., 0., 0., 0.], dtype=float32)>"
      ]
     },
     "execution_count": 16,
     "metadata": {},
     "output_type": "execute_result"
    }
   ],
   "source": [
    "layer.bias"
   ]
  },
  {
   "cell_type": "code",
   "execution_count": null,
   "metadata": {},
   "outputs": [],
   "source": [
    "#사용자 정의 층 구현# 중요!!!\n",
    "#가장 좋은 방법은 tf.keras.Layer클래스 상속 후 다음과 같이 구현\n",
    "#__init__에서 층이 필요한 매개변수 입력\n",
    "#build, 입력 텐서의 크기 얻고 남은 초기화 진행\n",
    "#call, 정방향 연산 진행할 수 있다."
   ]
  },
  {
   "cell_type": "code",
   "execution_count": 22,
   "metadata": {},
   "outputs": [
    {
     "name": "stdout",
     "output_type": "stream",
     "text": [
      "tf.Tensor(\n",
      "[[0. 0. 0. 0. 0. 0. 0. 0. 0. 0.]\n",
      " [0. 0. 0. 0. 0. 0. 0. 0. 0. 0.]\n",
      " [0. 0. 0. 0. 0. 0. 0. 0. 0. 0.]\n",
      " [0. 0. 0. 0. 0. 0. 0. 0. 0. 0.]\n",
      " [0. 0. 0. 0. 0. 0. 0. 0. 0. 0.]\n",
      " [0. 0. 0. 0. 0. 0. 0. 0. 0. 0.]\n",
      " [0. 0. 0. 0. 0. 0. 0. 0. 0. 0.]\n",
      " [0. 0. 0. 0. 0. 0. 0. 0. 0. 0.]\n",
      " [0. 0. 0. 0. 0. 0. 0. 0. 0. 0.]\n",
      " [0. 0. 0. 0. 0. 0. 0. 0. 0. 0.]], shape=(10, 10), dtype=float32)\n",
      "[<tf.Variable 'my_dense_layer_4/kernel:0' shape=(5, 10) dtype=float32, numpy=\n",
      "array([[ 0.32642323,  0.5901906 ,  0.20951986,  0.5681234 , -0.58893627,\n",
      "         0.52660626, -0.31966788,  0.62273043,  0.57352287, -0.3970539 ],\n",
      "       [-0.562642  , -0.13942733, -0.48375452,  0.5489121 , -0.2175827 ,\n",
      "        -0.17729741,  0.41210133, -0.2463302 ,  0.37462705,  0.5758856 ],\n",
      "       [-0.09389699,  0.60588306,  0.43968982,  0.5084967 ,  0.60889965,\n",
      "         0.04758316, -0.39692906,  0.46343917,  0.32018477, -0.5654679 ],\n",
      "       [ 0.05576545, -0.00429022,  0.02835757, -0.15090194, -0.60814816,\n",
      "        -0.2103762 ,  0.4571702 , -0.24162892, -0.50325036,  0.38404053],\n",
      "       [-0.56670314,  0.13923883, -0.5276319 , -0.54660463,  0.61438566,\n",
      "        -0.5046638 ,  0.35338628,  0.02523786,  0.10759664,  0.44597358]],\n",
      "      dtype=float32)>]\n"
     ]
    }
   ],
   "source": [
    "class MyDenseLayer(tf.keras.layers.Layer):\n",
    "    def __init__(self, num_outputs):\n",
    "        super(MyDenseLayer, self).__init__() \n",
    "        #super(): 상속받은 부모 클래스\n",
    "        self.num_outputs = num_outputs\n",
    "\n",
    "    def build(self, input_shape):\n",
    "        #입력 텐서의 크기를 얻고 남은 초기화 진행 가능\n",
    "        self.kernel = self.add_variable(\"kernel\",\n",
    "                                    shape=[int(input_shape[-1]),\n",
    "                                           self.num_outputs])\n",
    "\n",
    "    def call(self, input):\n",
    "        #정방향 연산 가능\n",
    "        return tf.matmul(input, self.kernel)\n",
    "\n",
    "layer = MyDenseLayer(10)\n",
    "print(layer(tf.zeros([10, 5])))\n",
    "print(layer.trainable_variables)"
   ]
  },
  {
   "cell_type": "code",
   "execution_count": 23,
   "metadata": {},
   "outputs": [],
   "source": [
    "#모델 : 층 구성\n",
    "#ML에서 대부분 기존의 층을 조합하여 구현된다."
   ]
  },
  {
   "cell_type": "code",
   "execution_count": 25,
   "metadata": {},
   "outputs": [
    {
     "name": "stdout",
     "output_type": "stream",
     "text": [
      "tf.Tensor(\n",
      "[[[[0. 0. 0.]\n",
      "   [0. 0. 0.]\n",
      "   [0. 0. 0.]]\n",
      "\n",
      "  [[0. 0. 0.]\n",
      "   [0. 0. 0.]\n",
      "   [0. 0. 0.]]]], shape=(1, 2, 3, 3), dtype=float32)\n",
      "['resnet_identity_block_1/conv2d_3/kernel:0', 'resnet_identity_block_1/conv2d_3/bias:0', 'resnet_identity_block_1/batch_normalization_v2_3/gamma:0', 'resnet_identity_block_1/batch_normalization_v2_3/beta:0', 'resnet_identity_block_1/conv2d_4/kernel:0', 'resnet_identity_block_1/conv2d_4/bias:0', 'resnet_identity_block_1/batch_normalization_v2_4/gamma:0', 'resnet_identity_block_1/batch_normalization_v2_4/beta:0', 'resnet_identity_block_1/conv2d_5/kernel:0', 'resnet_identity_block_1/conv2d_5/bias:0', 'resnet_identity_block_1/batch_normalization_v2_5/gamma:0', 'resnet_identity_block_1/batch_normalization_v2_5/beta:0']\n"
     ]
    }
   ],
   "source": [
    "#다른 층을 포함한 모델을 만들기 위해 사용하는 메인 클래스는 tf.keras.Model\n",
    "class ResnetIdentityBlock(tf.keras.Model):\n",
    "    def __init__(self, kernel_size, filters):\n",
    "        super(ResnetIdentityBlock, self).__init__(name = '')\n",
    "        filters1, filters2, filters3 = filters\n",
    "        \n",
    "        self.conv2a = tf.keras.layers.Conv2D(filters1, (1,1))\n",
    "        self.bn2a = tf.keras.layers.BatchNormalization()\n",
    "        \n",
    "        self.conv2b = tf.keras.layers.Conv2D(filters2, kernel_size, padding = 'same')\n",
    "        self.bn2b = tf.keras.layers.BatchNormalization()\n",
    "        \n",
    "        self.conv2c = tf.keras.layers.Conv2D(filters3, (1,1))\n",
    "        self.bn2c = tf.keras.layers.BatchNormalization()\n",
    "        \n",
    "    def call(self, input_tensor, training = False):\n",
    "        x = self.conv2a(input_tensor)\n",
    "        x = self.bn2a(x, training = training)\n",
    "        x = tf.nn.relu(x)\n",
    "        \n",
    "        x = self.conv2b(input_tensor)\n",
    "        x = self.bn2b(x, training = training)\n",
    "        x = tf.nn.relu(x)\n",
    "        \n",
    "        x = self.conv2c(input_tensor)\n",
    "        x = self.bn2c(x, training = training)\n",
    "        \n",
    "        x += input_tensor\n",
    "        return tf.nn.relu(x)\n",
    "    \n",
    "    \n",
    "block = ResnetIdentityBlock(1, [1,2,3])\n",
    "print(block(tf.zeros([1,2,3,3])))\n",
    "print([x.name for x in block.trainable_variables])"
   ]
  },
  {
   "cell_type": "code",
   "execution_count": 26,
   "metadata": {},
   "outputs": [],
   "source": [
    "#하지만 대부분 많은 경우에 단순하게 순서대로 층을 쌓아서 하나씩 호출 tf.keras.Sequential"
   ]
  },
  {
   "cell_type": "code",
   "execution_count": 29,
   "metadata": {},
   "outputs": [
    {
     "data": {
      "text/plain": [
       "<tf.Tensor: id=1437, shape=(1, 2, 3, 3), dtype=float32, numpy=\n",
       "array([[[[0., 0., 0.],\n",
       "         [0., 0., 0.],\n",
       "         [0., 0., 0.]],\n",
       "\n",
       "        [[0., 0., 0.],\n",
       "         [0., 0., 0.],\n",
       "         [0., 0., 0.]]]], dtype=float32)>"
      ]
     },
     "execution_count": 29,
     "metadata": {},
     "output_type": "execute_result"
    }
   ],
   "source": [
    "my_seq = tf.keras.Sequential([tf.keras.layers.Conv2D(1,(1,1),\n",
    "                                                     input_shape = (\n",
    "                                                     None, None, 3)),\n",
    "                            tf.keras.layers.BatchNormalization(),\n",
    "                            tf.keras.layers.Conv2D(2,1,\n",
    "                                                  padding = 'same'),\n",
    "                            tf.keras.layers.BatchNormalization(),\n",
    "                            tf.keras.layers.Conv2D(3,(1,1)),\n",
    "                            tf.keras.layers.BatchNormalization()])\n",
    "my_seq(tf.zeros([1,2,3,3]))"
   ]
  },
  {
   "cell_type": "code",
   "execution_count": null,
   "metadata": {},
   "outputs": [],
   "source": []
  }
 ],
 "metadata": {
  "kernelspec": {
   "display_name": "Python 3",
   "language": "python",
   "name": "python3"
  },
  "language_info": {
   "codemirror_mode": {
    "name": "ipython",
    "version": 3
   },
   "file_extension": ".py",
   "mimetype": "text/x-python",
   "name": "python",
   "nbconvert_exporter": "python",
   "pygments_lexer": "ipython3",
   "version": "3.7.9"
  }
 },
 "nbformat": 4,
 "nbformat_minor": 4
}
